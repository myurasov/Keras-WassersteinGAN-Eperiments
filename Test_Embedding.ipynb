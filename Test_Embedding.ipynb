{
 "cells": [
  {
   "cell_type": "code",
   "execution_count": 12,
   "metadata": {},
   "outputs": [],
   "source": [
    "import keras\n",
    "from keras.layers import *\n",
    "from keras.models import *\n",
    "import numpy as np"
   ]
  },
  {
   "cell_type": "code",
   "execution_count": 5,
   "metadata": {},
   "outputs": [],
   "source": [
    "x = Embedding(\n",
    "    10000, # dict lenght\n",
    "    3 # embedding dim\n",
    ")"
   ]
  },
  {
   "cell_type": "code",
   "execution_count": 3,
   "metadata": {
    "collapsed": true
   },
   "outputs": [],
   "source": [
    "Embedding?"
   ]
  },
  {
   "cell_type": "code",
   "execution_count": 6,
   "metadata": {},
   "outputs": [
    {
     "data": {
      "text/plain": [
       "<keras.layers.embeddings.Embedding at 0x7f276792ebe0>"
      ]
     },
     "execution_count": 6,
     "metadata": {},
     "output_type": "execute_result"
    }
   ],
   "source": [
    "x"
   ]
  },
  {
   "cell_type": "markdown",
   "metadata": {},
   "source": [
    "`[1x10] x [10x2] => [1x2]`"
   ]
  },
  {
   "cell_type": "code",
   "execution_count": 59,
   "metadata": {
    "collapsed": true
   },
   "outputs": [],
   "source": [
    "BATCH_SIZE = 15\n",
    "DICT_LEN = 10\n",
    "EMBEDDING_LEN = 2\n",
    "INPUT_SEQ_LEN = 1"
   ]
  },
  {
   "cell_type": "code",
   "execution_count": 60,
   "metadata": {},
   "outputs": [
    {
     "data": {
      "text/plain": [
       "(None, 1, 2)"
      ]
     },
     "execution_count": 60,
     "metadata": {},
     "output_type": "execute_result"
    }
   ],
   "source": [
    "model = Sequential()\n",
    "model.add(\n",
    "    Embedding(\n",
    "        DICT_LEN,\n",
    "        EMBEDDING_LEN,\n",
    "        input_length=INPUT_SEQ_LEN,\n",
    "        embeddings_initializer=keras.initializers.glorot_uniform()))\n",
    "# the model will take as input an integer matrix of size (batch, input_length).\n",
    "# the largest integer (i.e. word index) in the input should be no larger than 999 (vocabulary size).\n",
    "# now model.output_shape == (None, 10, 64), where None is the batch dimension.\n",
    "model.output_shape"
   ]
  },
  {
   "cell_type": "code",
   "execution_count": 61,
   "metadata": {},
   "outputs": [
    {
     "data": {
      "text/plain": [
       "array([[8],\n",
       "       [6],\n",
       "       [6],\n",
       "       [3],\n",
       "       [7],\n",
       "       [7],\n",
       "       [3],\n",
       "       [0],\n",
       "       [3],\n",
       "       [1],\n",
       "       [0],\n",
       "       [5],\n",
       "       [5],\n",
       "       [4],\n",
       "       [2]])"
      ]
     },
     "execution_count": 61,
     "metadata": {},
     "output_type": "execute_result"
    }
   ],
   "source": [
    "input_array = np.random.randint(DICT_LEN, size=(BATCH_SIZE, INPUT_SEQ_LEN))\n",
    "input_array"
   ]
  },
  {
   "cell_type": "code",
   "execution_count": 62,
   "metadata": {},
   "outputs": [],
   "source": [
    "model.compile('rmsprop', 'mse')\n",
    "output_array = model.predict(input_array)\n",
    "assert output_array.shape == (BATCH_SIZE, INPUT_SEQ_LEN, EMBEDDING_LEN)"
   ]
  },
  {
   "cell_type": "code",
   "execution_count": 63,
   "metadata": {},
   "outputs": [
    {
     "data": {
      "text/plain": [
       "array([[[ 0.56107348, -0.52021384]],\n",
       "\n",
       "       [[-0.03857446,  0.6840381 ]],\n",
       "\n",
       "       [[-0.03857446,  0.6840381 ]],\n",
       "\n",
       "       [[-0.48214054,  0.31507927]],\n",
       "\n",
       "       [[-0.52975184, -0.44001764]],\n",
       "\n",
       "       [[-0.52975184, -0.44001764]],\n",
       "\n",
       "       [[-0.48214054,  0.31507927]],\n",
       "\n",
       "       [[-0.50563085,  0.5297609 ]],\n",
       "\n",
       "       [[-0.48214054,  0.31507927]],\n",
       "\n",
       "       [[ 0.70526475, -0.28894344]],\n",
       "\n",
       "       [[-0.50563085,  0.5297609 ]],\n",
       "\n",
       "       [[ 0.30715734,  0.40547758]],\n",
       "\n",
       "       [[ 0.30715734,  0.40547758]],\n",
       "\n",
       "       [[-0.54241627, -0.21784881]],\n",
       "\n",
       "       [[-0.21320066,  0.52812988]]], dtype=float32)"
      ]
     },
     "execution_count": 63,
     "metadata": {},
     "output_type": "execute_result"
    }
   ],
   "source": [
    "output_array"
   ]
  },
  {
   "cell_type": "code",
   "execution_count": null,
   "metadata": {
    "collapsed": true
   },
   "outputs": [],
   "source": []
  }
 ],
 "metadata": {
  "kernelspec": {
   "display_name": "Python 3",
   "language": "python",
   "name": "python3"
  },
  "language_info": {
   "codemirror_mode": {
    "name": "ipython",
    "version": 3
   },
   "file_extension": ".py",
   "mimetype": "text/x-python",
   "name": "python",
   "nbconvert_exporter": "python",
   "pygments_lexer": "ipython3",
   "version": "3.5.2"
  }
 },
 "nbformat": 4,
 "nbformat_minor": 2
}
