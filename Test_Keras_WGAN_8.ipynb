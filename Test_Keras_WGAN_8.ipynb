{
 "cells": [
  {
   "cell_type": "markdown",
   "metadata": {},
   "source": [
    "- Some stuff from\n",
    "https://github.com/tdeboissiere/DeepLearningImplementations/blob/master/WassersteinGAN/src/model/train_WGAN.py"
   ]
  },
  {
   "cell_type": "code",
   "execution_count": 1,
   "metadata": {
    "collapsed": true
   },
   "outputs": [],
   "source": [
    "%run 'Lib.ipynb'"
   ]
  },
  {
   "cell_type": "code",
   "execution_count": 2,
   "metadata": {
    "collapsed": true
   },
   "outputs": [],
   "source": [
    "OUT_DIR = 'out_8e'\n",
    "if not os.path.isdir(OUT_DIR): os.makedirs(OUT_DIR)"
   ]
  },
  {
   "cell_type": "code",
   "execution_count": 3,
   "metadata": {
    "collapsed": true
   },
   "outputs": [],
   "source": [
    "# use GPU 1\n",
    "os.environ[\"CUDA_DEVICE_ORDER\"] = \"PCI_BUS_ID\"\n",
    "os.environ[\"CUDA_VISIBLE_DEVICES\"] = \"1\""
   ]
  },
  {
   "cell_type": "code",
   "execution_count": 4,
   "metadata": {},
   "outputs": [
    {
     "name": "stderr",
     "output_type": "stream",
     "text": [
      "Using TensorFlow backend.\n"
     ]
    }
   ],
   "source": [
    "from collections import defaultdict\n",
    "\n",
    "import keras.backend as K\n",
    "from keras.datasets import mnist\n",
    "from keras.layers import *\n",
    "from keras.models import *\n",
    "from keras.optimizers import *\n",
    "from keras.utils.generic_utils import Progbar"
   ]
  },
  {
   "cell_type": "code",
   "execution_count": 5,
   "metadata": {
    "collapsed": true
   },
   "outputs": [],
   "source": [
    "Z_SIZE = 200\n",
    "\n",
    "# batch and latent size taken from the paper\n",
    "EPOCHS = 50\n",
    "BATCH_SIZE = 64\n",
    "\n",
    "# how many times to train D per each G(D) update\n",
    "# 5 is suggested in https://arxiv.org/pdf/1701.07875.pdf\n",
    "D_TRAIN_ITERATIONS = 5\n",
    "\n",
    "# D weight clipping per https://arxiv.org/pdf/1701.07875.pdf\n",
    "D_WEIGHTS_LOWER_BOUND = -0.01\n",
    "D_WEIGHTS_UPPER_BOUND = 0.01\n",
    "\n",
    "# learning rate, per https://arxiv.org/pdf/1701.07875.pdf \n",
    "RMSPROP_LR = 0.00005"
   ]
  },
  {
   "cell_type": "code",
   "execution_count": 6,
   "metadata": {
    "collapsed": true
   },
   "outputs": [],
   "source": [
    "np.random.seed(777)"
   ]
  },
  {
   "cell_type": "code",
   "execution_count": 7,
   "metadata": {
    "collapsed": true
   },
   "outputs": [],
   "source": [
    "K.set_image_dim_ordering('tf')"
   ]
  },
  {
   "cell_type": "code",
   "execution_count": 8,
   "metadata": {
    "collapsed": true
   },
   "outputs": [],
   "source": [
    "def create_D():\n",
    "    input_image = Input(shape=(28, 28, 1), name='input_image')\n",
    "\n",
    "    x = Conv2D(32, (3, 3), padding='same', name='conv_1')(input_image)\n",
    "    x = LeakyReLU()(x)\n",
    "    x = MaxPool2D(pool_size=2)(x)\n",
    "    x = Dropout(0.3)(x)\n",
    "\n",
    "    x = Conv2D(64, (3, 3), padding='same', name='conv_2')(x)\n",
    "    x = MaxPool2D(pool_size=1)(x)\n",
    "    x = LeakyReLU()(x)\n",
    "    x = Dropout(0.3)(x)\n",
    "\n",
    "    x = Conv2D(128, (3, 3), padding='same', name='conv_3')(x)\n",
    "    x = MaxPool2D(pool_size=2)(x)\n",
    "    x = LeakyReLU()(x)\n",
    "    x = Dropout(0.3)(x)\n",
    "\n",
    "    x = Conv2D(256, (3, 3), padding='same', name='coonv_4')(x)\n",
    "    x = MaxPool2D(pool_size=1)(x)\n",
    "    x = LeakyReLU()(x)\n",
    "    x = Dropout(0.3)(x)\n",
    "\n",
    "    features = Flatten()(x)\n",
    "\n",
    "    output_is_fake = Dense(\n",
    "        1, activation='linear', name='output_is_fake')(features)\n",
    "\n",
    "    return Model(inputs=[input_image], outputs=[output_is_fake], name='D')"
   ]
  },
  {
   "cell_type": "code",
   "execution_count": 9,
   "metadata": {
    "collapsed": true
   },
   "outputs": [],
   "source": [
    "def create_G(Z_SIZE=Z_SIZE):\n",
    "    # latent var\n",
    "    input_z = Input(shape=(Z_SIZE, ), name='input_z')\n",
    "\n",
    "    # cnn part\n",
    "\n",
    "    x = Dense(512 * 7 * 7)(input_z)\n",
    "    x = LeakyReLU()(x)\n",
    "    x = Reshape((7, 7, 512))(x)\n",
    "\n",
    "    x = UpSampling2D(size=(2, 2))(x)\n",
    "    x = Conv2D(256, (5, 5), padding='same')(x)\n",
    "    x = LeakyReLU()(x)\n",
    "\n",
    "    x = UpSampling2D(size=(2, 2))(x)\n",
    "    x = Conv2D(128, (5, 5), padding='same')(x)\n",
    "    x = LeakyReLU()(x)\n",
    "\n",
    "    x = Conv2D(1, (2, 2), padding='same', activation='tanh', name='output_generated_image')(x)\n",
    "\n",
    "    return Model(inputs=[input_z], outputs=[x], name='G')"
   ]
  },
  {
   "cell_type": "code",
   "execution_count": 10,
   "metadata": {
    "collapsed": true
   },
   "outputs": [],
   "source": [
    "def wasserstein(y_true, y_pred):\n",
    "    return K.mean(y_true * y_pred)"
   ]
  },
  {
   "cell_type": "code",
   "execution_count": 11,
   "metadata": {
    "collapsed": true
   },
   "outputs": [],
   "source": [
    "D = create_D()\n",
    "D.compile(optimizer=RMSprop(lr=RMSPROP_LR), loss=[wasserstein])"
   ]
  },
  {
   "cell_type": "code",
   "execution_count": 12,
   "metadata": {
    "collapsed": true
   },
   "outputs": [],
   "source": [
    "input_z = Input(shape=(Z_SIZE, ), name='input_z_')"
   ]
  },
  {
   "cell_type": "code",
   "execution_count": 13,
   "metadata": {},
   "outputs": [],
   "source": [
    "G = create_G()\n",
    "G.compile(loss='mse', optimizer=RMSprop(lr=RMSPROP_LR))"
   ]
  },
  {
   "cell_type": "code",
   "execution_count": 14,
   "metadata": {
    "collapsed": true
   },
   "outputs": [],
   "source": [
    "# create combined D(G) model\n",
    "output_is_fake = D(G(inputs=[input_z]))\n",
    "combined = Model(inputs=[input_z], outputs=[output_is_fake])\n",
    "combined.compile(optimizer=RMSprop(lr=RMSPROP_LR), loss=[wasserstein])"
   ]
  },
  {
   "cell_type": "code",
   "execution_count": 15,
   "metadata": {},
   "outputs": [
    {
     "data": {
      "text/plain": [
       "<matplotlib.image.AxesImage at 0x7f8c54667160>"
      ]
     },
     "execution_count": 15,
     "metadata": {},
     "output_type": "execute_result"
    },
    {
     "data": {
      "image/png": "[encoded data removed]",
      "text/plain": [
       "<matplotlib.figure.Figure at 0x7f8c58ef5048>"
      ]
     },
     "metadata": {
      "image/png": {
       "height": 250,
       "width": 253
      }
     },
     "output_type": "display_data"
    }
   ],
   "source": [
    "# try generating image\n",
    "z = np.random.randn(Z_SIZE).reshape(1, Z_SIZE)\n",
    "img = G.predict([z])\n",
    "plt.imshow(img.reshape((28, 28)), cmap=plt.cm.gray)"
   ]
  },
  {
   "cell_type": "code",
   "execution_count": 16,
   "metadata": {
    "collapsed": true
   },
   "outputs": [],
   "source": [
    "# get our mnist data, and force it to be of shape (..., 28, 28, 1) with\n",
    "# range [-1., 1.]\n",
    "(X_train, _), (X_test, _) = mnist.load_data()\n",
    "X_train = (X_train.astype(np.float32) - 127.5) / 127.5\n",
    "X_train = np.expand_dims(X_train, axis=3)\n",
    "X_test = (X_test.astype(np.float32) - 127.5) / 127.5\n",
    "X_test = np.expand_dims(X_test, axis=3)"
   ]
  },
  {
   "cell_type": "code",
   "execution_count": 17,
   "metadata": {},
   "outputs": [
    {
     "data": {
      "text/plain": [
       "<matplotlib.image.AxesImage at 0x7f8c541fa7b8>"
      ]
     },
     "execution_count": 17,
     "metadata": {},
     "output_type": "execute_result"
    },
    {
     "data": {
      "image/png": "[encoded data removed]",
      "text/plain": [
       "<matplotlib.figure.Figure at 0x7f8c54637b38>"
      ]
     },
     "metadata": {
      "image/png": {
       "height": 250,
       "width": 253
      }
     },
     "output_type": "display_data"
    }
   ],
   "source": [
    "plt.imshow(X_train[777].reshape((28, 28)), cmap=plt.cm.gray)"
   ]
  },
  {
   "cell_type": "code",
   "execution_count": 18,
   "metadata": {
    "collapsed": true
   },
   "outputs": [],
   "source": [
    "train_num_samples, test_num_samples = X_train.shape[0], X_test.shape[0]"
   ]
  },
  {
   "cell_type": "code",
   "execution_count": null,
   "metadata": {
    "collapsed": true
   },
   "outputs": [],
   "source": [
    "def save_generated_samples(n):\n",
    "\n",
    "    # new batch of z's\n",
    "    zz = np.random.normal(0., 1., (100, Z_SIZE))\n",
    "\n",
    "    generated_images = G.predict([zz])\n",
    "\n",
    "    rr = []\n",
    "    for c in range(10):\n",
    "        rr.append(np.concatenate(generated_images[c * 10:(1 + c) * 10]).reshape(280, 28))\n",
    "    img = np.hstack(rr)\n",
    "\n",
    "    plt.imsave(OUT_DIR + '/generated@%d.png'%n, img, cmap=plt.cm.gray)"
   ]
  },
  {
   "cell_type": "code",
   "execution_count": null,
   "metadata": {},
   "outputs": [
    {
     "name": "stdout",
     "output_type": "stream",
     "text": [
      "\n",
      "Epoch 1 / 50\n",
      "936/937 [============================>.] - ETA: 0s - D_loss: 1.1060 - D_loss_real: 382.3305 - D_loss_gen: 381.2245 - DG_loss: 365.9005\n",
      "Epoch 23 / 50\n",
      "936/937 [============================>.] - ETA: 0s - D_loss: 1.4853 - D_loss_real: 381.6798 - D_loss_gen: 380.1945 - DG_loss: 365.1466\n",
      "Epoch 24 / 50\n",
      "936/937 [============================>.] - ETA: 0s - D_loss: 1.9678 - D_loss_real: 378.5526 - D_loss_gen: 376.5848 - DG_loss: 363.0572\n",
      "Epoch 25 / 50\n",
      "936/937 [============================>.] - ETA: 0s - D_loss: 2.5914 - D_loss_real: 374.8673 - D_loss_gen: 372.2759 - DG_loss: 360.6996\n",
      "Epoch 26 / 50\n",
      "936/937 [============================>.] - ETA: 0s - D_loss: 2.5295 - D_loss_real: 374.2844 - D_loss_gen: 371.7549 - DG_loss: 358.2811\n",
      "Epoch 27 / 50\n",
      "936/937 [============================>.] - ETA: 0s - D_loss: 2.7184 - D_loss_real: 375.1380 - D_loss_gen: 372.4196 - DG_loss: 357.9604\n",
      "Epoch 28 / 50\n",
      "936/937 [============================>.] - ETA: 0s - D_loss: 2.7711 - D_loss_real: 374.2345 - D_loss_gen: 371.4634 - DG_loss: 356.5976\n",
      "Epoch 29 / 50\n",
      "936/937 [============================>.] - ETA: 0s - D_loss: 3.0085 - D_loss_real: 373.7412 - D_loss_gen: 370.7328 - DG_loss: 355.9372\n",
      "Epoch 30 / 50\n",
      "936/937 [============================>.] - ETA: 0s - D_loss: 3.1226 - D_loss_real: 372.7574 - D_loss_gen: 369.6348 - DG_loss: 354.2997\n",
      "Epoch 31 / 50\n",
      "936/937 [============================>.] - ETA: 0s - D_loss: 3.5433 - D_loss_real: 371.2190 - D_loss_gen: 367.6757 - DG_loss: 353.2438\n",
      "Epoch 32 / 50\n",
      "936/937 [============================>.] - ETA: 0s - D_loss: 3.9067 - D_loss_real: 369.7458 - D_loss_gen: 365.8391 - DG_loss: 352.3686\n",
      "Epoch 33 / 50\n",
      "936/937 [============================>.] - ETA: 0s - D_loss: 4.2464 - D_loss_real: 366.9052 - D_loss_gen: 362.6588 - DG_loss: 350.7409\n",
      "Epoch 34 / 50\n",
      "936/937 [============================>.] - ETA: 0s - D_loss: 4.4816 - D_loss_real: 366.5296 - D_loss_gen: 362.0480 - DG_loss: 348.4942\n",
      "Epoch 35 / 50\n",
      "936/937 [============================>.] - ETA: 0s - D_loss: 4.5656 - D_loss_real: 367.2499 - D_loss_gen: 362.6844 - DG_loss: 348.3450\n",
      "Epoch 36 / 50\n",
      "936/937 [============================>.] - ETA: 0s - D_loss: 4.6401 - D_loss_real: 366.5283 - D_loss_gen: 361.8882 - DG_loss: 347.3225\n",
      "Epoch 37 / 50\n",
      "936/937 [============================>.] - ETA: 0s - D_loss: 4.8487 - D_loss_real: 365.7809 - D_loss_gen: 360.9322 - DG_loss: 345.8857\n",
      "Epoch 38 / 50\n",
      "936/937 [============================>.] - ETA: 0s - D_loss: 4.9302 - D_loss_real: 365.0844 - D_loss_gen: 360.1542 - DG_loss: 345.3772\n",
      "Epoch 39 / 50\n",
      "936/937 [============================>.] - ETA: 0s - D_loss: 5.1530 - D_loss_real: 364.2104 - D_loss_gen: 359.0574 - DG_loss: 344.9353\n",
      "Epoch 40 / 50\n",
      "936/937 [============================>.] - ETA: 0s - D_loss: 5.5834 - D_loss_real: 362.6978 - D_loss_gen: 357.1144 - DG_loss: 344.1043\n",
      "Epoch 41 / 50\n",
      "936/937 [============================>.] - ETA: 0s - D_loss: 6.7732 - D_loss_real: 359.4986 - D_loss_gen: 352.7254 - DG_loss: 341.7403\n",
      "Epoch 42 / 50\n",
      "936/937 [============================>.] - ETA: 0s - D_loss: 5.9775 - D_loss_real: 359.8144 - D_loss_gen: 353.8369 - DG_loss: 341.3987\n",
      "Epoch 43 / 50\n",
      "936/937 [============================>.] - ETA: 0s - D_loss: 5.6743 - D_loss_real: 361.0402 - D_loss_gen: 355.3659 - DG_loss: 341.7224\n",
      "Epoch 44 / 50\n",
      "936/937 [============================>.] - ETA: 0s - D_loss: 5.6930 - D_loss_real: 362.0399 - D_loss_gen: 356.3469 - DG_loss: 342.0443\n",
      "Epoch 45 / 50\n",
      "936/937 [============================>.] - ETA: 0s - D_loss: 5.4907 - D_loss_real: 362.3660 - D_loss_gen: 356.8753 - DG_loss: 342.3366\n",
      "Epoch 46 / 50\n",
      "936/937 [============================>.] - ETA: 0s - D_loss: 5.6463 - D_loss_real: 362.1366 - D_loss_gen: 356.4903 - DG_loss: 342.0991\n",
      "Epoch 47 / 50\n",
      "936/937 [============================>.] - ETA: 0s - D_loss: 5.7718 - D_loss_real: 361.9782 - D_loss_gen: 356.2064 - DG_loss: 342.1024\n",
      "Epoch 48 / 50\n",
      "936/937 [============================>.] - ETA: 0s - D_loss: 5.9643 - D_loss_real: 360.9224 - D_loss_gen: 354.9580 - DG_loss: 342.6900\n",
      "Epoch 49 / 50\n",
      "936/937 [============================>.] - ETA: 0s - D_loss: 6.0610 - D_loss_real: 359.4330 - D_loss_gen: 353.3720 - DG_loss: 342.0456\n",
      "Epoch 50 / 50\n",
      "936/937 [============================>.] - ETA: 0s - D_loss: 6.0547 - D_loss_real: 360.5314 - D_loss_gen: 354.4767 - DG_loss: 341.8575"
     ]
    }
   ],
   "source": [
    "g_it = 0\n",
    "\n",
    "for epoch in range(EPOCHS):\n",
    "\n",
    "    print('\\nEpoch {} / {}'.format(epoch + 1, EPOCHS))\n",
    "\n",
    "    batches_num = int(train_num_samples / BATCH_SIZE)\n",
    "    progress_bar = Progbar(target=batches_num)\n",
    "\n",
    "    epoch_D_losses_real = []\n",
    "    epoch_D_losses_gen = []\n",
    "\n",
    "    for batch_i in range(batches_num):\n",
    "\n",
    "        if len(epoch_D_losses_real) > 0:\n",
    "            progress_bar.update(\n",
    "                batch_i,\n",
    "                values=[\n",
    "                        ('D_loss', -np.mean(epoch_D_losses_real[:])  - np.mean(epoch_D_losses_gen[:])),\n",
    "                        ('D_loss_real', -np.mean(epoch_D_losses_real[:])),\n",
    "                        ('D_loss_gen', np.mean(epoch_D_losses_gen[:])),\n",
    "                        ('DG_loss', -DG_loss)\n",
    "                ]\n",
    "            )\n",
    "        else:\n",
    "            progress_bar.update(batch_i)\n",
    "            \n",
    "        # 1: train D on real+generated images\n",
    "        \n",
    "        # unfreeze D\n",
    "        D.trainable = True\n",
    "        \n",
    "        d_iterations = D_TRAIN_ITERATIONS\n",
    "        \n",
    "        # pick number of D train iterations\n",
    "        if g_it < 25 or g_it % 500 == 0:\n",
    "            d_iterations = 100\n",
    "        \n",
    "        for d_it in range(d_iterations):\n",
    "\n",
    "            # create batches of images and labels\n",
    "            real_images = X_train[batch_i * BATCH_SIZE:(batch_i + 1) * BATCH_SIZE]\n",
    "\n",
    "            # new batch of z's\n",
    "            zz = np.random.normal(0., 1., (BATCH_SIZE, Z_SIZE))\n",
    "            \n",
    "            # batch of generated images\n",
    "            generated_images = G.predict([zz])\n",
    "            \n",
    "            # clip D weights\n",
    "\n",
    "            for l in D.layers:\n",
    "                weights = l.get_weights()\n",
    "                weights = [np.clip(w, D_WEIGHTS_LOWER_BOUND, D_WEIGHTS_UPPER_BOUND) for w in weights]\n",
    "                l.set_weights(weights)\n",
    "            \n",
    "            # train D on real\n",
    "            D_loss_real = D.train_on_batch(real_images, -np.ones([BATCH_SIZE]))\n",
    "            epoch_D_losses_real.append(D_loss_real)\n",
    "            \n",
    "            # train G on generated\n",
    "            D_loss_gen = D.train_on_batch(generated_images, np.ones([BATCH_SIZE]))\n",
    "            epoch_D_losses_gen.append(D_loss_gen)\n",
    "\n",
    "        \n",
    "        # 2: train D(G) (only G is trainable)\n",
    "                \n",
    "        # freeze D\n",
    "        D.trainable = False\n",
    "        \n",
    "        DG_loss = combined.train_on_batch(\n",
    "            [np.random.normal(0., 1.,  (BATCH_SIZE, Z_SIZE))], [-np.ones(BATCH_SIZE)]\n",
    "        ) # all non-fake \n",
    "        \n",
    "        # unfreeze D\n",
    "        D.trainable = True\n",
    "        \n",
    "        if (g_it % 250 == 0):\n",
    "            save_generated_samples(g_it)\n",
    "        \n",
    "        g_it += 1"
   ]
  },
  {
   "cell_type": "code",
   "execution_count": null,
   "metadata": {
    "collapsed": true
   },
   "outputs": [],
   "source": [
    "# save_generated_samples(0)"
   ]
  },
  {
   "cell_type": "code",
   "execution_count": null,
   "metadata": {
    "collapsed": true
   },
   "outputs": [],
   "source": []
  }
 ],
 "metadata": {
  "gist": {
   "data": {
    "description": "Keras  WACGAN",
    "public": false
   },
   "id": ""
  },
  "kernelspec": {
   "display_name": "Python 3",
   "language": "python",
   "name": "python3"
  },
  "language_info": {
   "codemirror_mode": {
    "name": "ipython",
    "version": 3
   },
   "file_extension": ".py",
   "mimetype": "text/x-python",
   "name": "python",
   "nbconvert_exporter": "python",
   "pygments_lexer": "ipython3",
   "version": "3.5.2"
  }
 },
 "nbformat": 4,
 "nbformat_minor": 2
}
