{
 "cells": [
  {
   "cell_type": "code",
   "execution_count": 1,
   "metadata": {
    "collapsed": true
   },
   "outputs": [],
   "source": [
    "%run 'Lib.ipynb'"
   ]
  },
  {
   "cell_type": "code",
   "execution_count": 2,
   "metadata": {
    "collapsed": true,
    "scrolled": true
   },
   "outputs": [],
   "source": [
    "from collections import defaultdict\n",
    "import pickle\n",
    "from PIL import Image\n",
    "import numpy as np"
   ]
  },
  {
   "cell_type": "code",
   "execution_count": 3,
   "metadata": {
    "scrolled": true
   },
   "outputs": [
    {
     "name": "stderr",
     "output_type": "stream",
     "text": [
      "Using TensorFlow backend.\n"
     ]
    }
   ],
   "source": [
    "import keras.backend as K\n",
    "from keras.datasets import mnist\n",
    "from keras.layers import *\n",
    "from keras.layers.convolutional import *\n",
    "from keras.layers.noise import GaussianNoise\n",
    "from keras.layers.advanced_activations import LeakyReLU\n",
    "from keras.models import Sequential, Model\n",
    "from keras.optimizers import *\n",
    "from keras.backend.common import _EPSILON\n",
    "from keras.utils.generic_utils import Progbar"
   ]
  },
  {
   "cell_type": "code",
   "execution_count": 4,
   "metadata": {
    "collapsed": true
   },
   "outputs": [],
   "source": [
    "np.random.seed(123)"
   ]
  },
  {
   "cell_type": "code",
   "execution_count": 5,
   "metadata": {
    "collapsed": true
   },
   "outputs": [],
   "source": [
    "K.set_image_dim_ordering('tf')"
   ]
  },
  {
   "cell_type": "code",
   "execution_count": 6,
   "metadata": {
    "collapsed": true
   },
   "outputs": [],
   "source": [
    "def modified_binary_crossentropy(target, output):\n",
    "    #output = K.clip(output, _EPSILON, 1.0 - _EPSILON)\n",
    "    #return -(target * output + (1.0 - target) * (1.0 - output))\n",
    "    return K.mean(target * output)"
   ]
  },
  {
   "cell_type": "code",
   "execution_count": 14,
   "metadata": {
    "collapsed": true
   },
   "outputs": [],
   "source": [
    "def create_D():\n",
    "    input_image = Input(shape=(28, 28, 1), name='input_image')\n",
    "\n",
    "    x = Conv2D(32, (3, 3), padding='same', name='conv_1')(input_image)\n",
    "    x = LeakyReLU()(x)\n",
    "    x = MaxPool2D(pool_size=2)(x)\n",
    "    x = Dropout(0.3)(x)\n",
    "\n",
    "    x = Conv2D(64, (3, 3), padding='same', name='conv_2')(x)\n",
    "    x = MaxPool2D(pool_size=1)(x)\n",
    "    x = LeakyReLU()(x)\n",
    "    x = Dropout(0.3)(x)\n",
    "\n",
    "    x = Conv2D(128, (3, 3), padding='same', name='conv_3')(x)\n",
    "    x = MaxPool2D(pool_size=2)(x)\n",
    "    x = LeakyReLU()(x)\n",
    "    x = Dropout(0.3)(x)\n",
    "\n",
    "    x = Conv2D(256, (3, 3), padding='same', name='coonv_4')(x)\n",
    "    x = MaxPool2D(pool_size=1)(x)\n",
    "    x = LeakyReLU()(x)\n",
    "    x = Dropout(0.3)(x)\n",
    "\n",
    "    features = Flatten()(x)\n",
    "\n",
    "    output_is_fake = Dense(\n",
    "        1, activation='linear', name='output_is_fake')(features)\n",
    "    output_class = Dense(\n",
    "        10, activation='softmax', name='output_class')(features)\n",
    "\n",
    "    return Model(inputs=[input_image], outputs=[output_is_fake, output_class])"
   ]
  },
  {
   "cell_type": "code",
   "execution_count": 15,
   "metadata": {
    "collapsed": true
   },
   "outputs": [
    {
     "name": "stdout",
     "output_type": "stream",
     "text": [
      "____________________________________________________________________________________________________\n",
      "Layer (type)                     Output Shape          Param #     Connected to                     \n",
      "====================================================================================================\n",
      "input_image (InputLayer)         (None, 28, 28, 1)     0                                            \n",
      "____________________________________________________________________________________________________\n",
      "conv_1 (Conv2D)                  (None, 28, 28, 32)    320         input_image[0][0]                \n",
      "____________________________________________________________________________________________________\n",
      "leaky_re_lu_13 (LeakyReLU)       (None, 28, 28, 32)    0           conv_1[0][0]                     \n",
      "____________________________________________________________________________________________________\n",
      "max_pooling2d_11 (MaxPooling2D)  (None, 14, 14, 32)    0           leaky_re_lu_13[0][0]             \n",
      "____________________________________________________________________________________________________\n",
      "dropout_13 (Dropout)             (None, 14, 14, 32)    0           max_pooling2d_11[0][0]           \n",
      "____________________________________________________________________________________________________\n",
      "conv_2 (Conv2D)                  (None, 14, 14, 64)    18496       dropout_13[0][0]                 \n",
      "____________________________________________________________________________________________________\n",
      "max_pooling2d_12 (MaxPooling2D)  (None, 14, 14, 64)    0           conv_2[0][0]                     \n",
      "____________________________________________________________________________________________________\n",
      "leaky_re_lu_14 (LeakyReLU)       (None, 14, 14, 64)    0           max_pooling2d_12[0][0]           \n",
      "____________________________________________________________________________________________________\n",
      "dropout_14 (Dropout)             (None, 14, 14, 64)    0           leaky_re_lu_14[0][0]             \n",
      "____________________________________________________________________________________________________\n",
      "conv_3 (Conv2D)                  (None, 14, 14, 128)   73856       dropout_14[0][0]                 \n",
      "____________________________________________________________________________________________________\n",
      "max_pooling2d_13 (MaxPooling2D)  (None, 7, 7, 128)     0           conv_3[0][0]                     \n",
      "____________________________________________________________________________________________________\n",
      "leaky_re_lu_15 (LeakyReLU)       (None, 7, 7, 128)     0           max_pooling2d_13[0][0]           \n",
      "____________________________________________________________________________________________________\n",
      "dropout_15 (Dropout)             (None, 7, 7, 128)     0           leaky_re_lu_15[0][0]             \n",
      "____________________________________________________________________________________________________\n",
      "coonv_4 (Conv2D)                 (None, 7, 7, 256)     295168      dropout_15[0][0]                 \n",
      "____________________________________________________________________________________________________\n",
      "max_pooling2d_14 (MaxPooling2D)  (None, 7, 7, 256)     0           coonv_4[0][0]                    \n",
      "____________________________________________________________________________________________________\n",
      "leaky_re_lu_16 (LeakyReLU)       (None, 7, 7, 256)     0           max_pooling2d_14[0][0]           \n",
      "____________________________________________________________________________________________________\n",
      "dropout_16 (Dropout)             (None, 7, 7, 256)     0           leaky_re_lu_16[0][0]             \n",
      "____________________________________________________________________________________________________\n",
      "flatten_4 (Flatten)              (None, 12544)         0           dropout_16[0][0]                 \n",
      "____________________________________________________________________________________________________\n",
      "output_is_fake (Dense)           (None, 1)             12545       flatten_4[0][0]                  \n",
      "____________________________________________________________________________________________________\n",
      "output_class (Dense)             (None, 10)            125450      flatten_4[0][0]                  \n",
      "====================================================================================================\n",
      "Total params: 525,835\n",
      "Trainable params: 525,835\n",
      "Non-trainable params: 0\n",
      "____________________________________________________________________________________________________\n"
     ]
    }
   ],
   "source": [
    "d = create_D()\n",
    "d.summary()"
   ]
  },
  {
   "cell_type": "code",
   "execution_count": 20,
   "metadata": {
    "scrolled": true
   },
   "outputs": [
    {
     "data": {
      "text/plain": [
       "[array([[ 0.]], dtype=float32),\n",
       " array([[ 0.1,  0.1,  0.1,  0.1,  0.1,  0.1,  0.1,  0.1,  0.1,  0.1]], dtype=float32)]"
      ]
     },
     "execution_count": 20,
     "metadata": {},
     "output_type": "execute_result"
    }
   ],
   "source": [
    "# d.predict([np.zeros([1,28,28,1])])"
   ]
  },
  {
   "cell_type": "code",
   "execution_count": 88,
   "metadata": {
    "collapsed": true
   },
   "outputs": [],
   "source": [
    "Z_SIZE = 100\n",
    "\n",
    "BATCH_SIZE = 1\n",
    "DICT_LEN = 10\n",
    "EMBEDDING_LEN = Z_SIZE\n",
    "INPUT_SEQ_LEN = 1"
   ]
  },
  {
   "cell_type": "code",
   "execution_count": 89,
   "metadata": {
    "collapsed": true
   },
   "outputs": [],
   "source": [
    "model = Sequential()\n",
    "\n",
    "model.add(\n",
    "    Embedding(\n",
    "        DICT_LEN,\n",
    "        EMBEDDING_LEN,\n",
    "        input_length=INPUT_SEQ_LEN,\n",
    "        embeddings_initializer='glorot_uniform'))\n",
    "\n",
    "model.add(Flatten())"
   ]
  },
  {
   "cell_type": "code",
   "execution_count": 91,
   "metadata": {},
   "outputs": [
    {
     "name": "stdout",
     "output_type": "stream",
     "text": [
      "_________________________________________________________________\n",
      "Layer (type)                 Output Shape              Param #   \n",
      "=================================================================\n",
      "embedding_23 (Embedding)     (None, 1, 100)            1000      \n",
      "_________________________________________________________________\n",
      "flatten_17 (Flatten)         (None, 100)               0         \n",
      "=================================================================\n",
      "Total params: 1,000\n",
      "Trainable params: 1,000\n",
      "Non-trainable params: 0\n",
      "_________________________________________________________________\n"
     ]
    }
   ],
   "source": [
    "model.summary()"
   ]
  },
  {
   "cell_type": "code",
   "execution_count": null,
   "metadata": {
    "collapsed": true
   },
   "outputs": [],
   "source": []
  },
  {
   "cell_type": "code",
   "execution_count": null,
   "metadata": {
    "collapsed": true
   },
   "outputs": [],
   "source": []
  },
  {
   "cell_type": "code",
   "execution_count": null,
   "metadata": {
    "collapsed": true
   },
   "outputs": [],
   "source": []
  },
  {
   "cell_type": "code",
   "execution_count": null,
   "metadata": {
    "collapsed": true
   },
   "outputs": [],
   "source": []
  },
  {
   "cell_type": "code",
   "execution_count": 104,
   "metadata": {
    "collapsed": true
   },
   "outputs": [],
   "source": [
    "input_class = Input(shape=(1, ), dtype='int32')\n",
    "e = Embedding(10, EMBEDDING_LEN, embeddings_initializer='glorot_uniform')(input_class)\n",
    "embedded_class = Flatten(name='embedded_class')(e)"
   ]
  },
  {
   "cell_type": "code",
   "execution_count": 105,
   "metadata": {
    "collapsed": true
   },
   "outputs": [],
   "source": [
    "input_z = Input(shape=(Z_SIZE, ), name='input_z')"
   ]
  },
  {
   "cell_type": "code",
   "execution_count": 124,
   "metadata": {
    "collapsed": true
   },
   "outputs": [],
   "source": [
    "h = multiply([input_z, embedded_class], name='h')"
   ]
  },
  {
   "cell_type": "code",
   "execution_count": 125,
   "metadata": {
    "collapsed": true
   },
   "outputs": [],
   "source": [
    "# cnn part\n",
    "x = Dense(1024)(h)\n",
    "x = LeakyReLU()(x)\n",
    "\n",
    "x = Dense(128 * 7 * 7)(x)\n",
    "x = LeakyReLU()(x)\n",
    "x = Reshape((7, 7, 128))(x)\n",
    "\n",
    "x = UpSampling2D(size=(2, 2))(x)\n",
    "x = Conv2D(256, (5, 5), padding='same')(x)\n",
    "x = LeakyReLU()(x)\n",
    "\n",
    "x = UpSampling2D(size=(2, 2))(x)\n",
    "x = Conv2D(128, (5,5), padding='same')(x)\n",
    "x = LeakyReLU()(x)\n",
    "\n",
    "x = Conv2D(1, (2, 2), padding='same', activation='tanh')(x)"
   ]
  },
  {
   "cell_type": "code",
   "execution_count": 126,
   "metadata": {},
   "outputs": [],
   "source": [
    "model = Model(inputs=[input_class, input_z], outputs=x)"
   ]
  },
  {
   "cell_type": "code",
   "execution_count": 127,
   "metadata": {
    "collapsed": true
   },
   "outputs": [
    {
     "name": "stdout",
     "output_type": "stream",
     "text": [
      "____________________________________________________________________________________________________\n",
      "Layer (type)                     Output Shape          Param #     Connected to                     \n",
      "====================================================================================================\n",
      "input_19 (InputLayer)            (None, 1)             0                                            \n",
      "____________________________________________________________________________________________________\n",
      "embedding_28 (Embedding)         (None, 1, 100)        1000        input_19[0][0]                   \n",
      "____________________________________________________________________________________________________\n",
      "input_z (InputLayer)             (None, 100)           0                                            \n",
      "____________________________________________________________________________________________________\n",
      "embedded_class (Flatten)         (None, 100)           0           embedding_28[0][0]               \n",
      "____________________________________________________________________________________________________\n",
      "h (Multiply)                     (None, 100)           0           input_z[0][0]                    \n",
      "                                                                   embedded_class[0][0]             \n",
      "____________________________________________________________________________________________________\n",
      "dense_35 (Dense)                 (None, 1024)          103424      h[0][0]                          \n",
      "____________________________________________________________________________________________________\n",
      "leaky_re_lu_52 (LeakyReLU)       (None, 1024)          0           dense_35[0][0]                   \n",
      "____________________________________________________________________________________________________\n",
      "dense_36 (Dense)                 (None, 6272)          6428800     leaky_re_lu_52[0][0]             \n",
      "____________________________________________________________________________________________________\n",
      "leaky_re_lu_53 (LeakyReLU)       (None, 6272)          0           dense_36[0][0]                   \n",
      "____________________________________________________________________________________________________\n",
      "reshape_13 (Reshape)             (None, 7, 7, 128)     0           leaky_re_lu_53[0][0]             \n",
      "____________________________________________________________________________________________________\n",
      "up_sampling2d_14 (UpSampling2D)  (None, 14, 14, 128)   0           reshape_13[0][0]                 \n",
      "____________________________________________________________________________________________________\n",
      "conv2d_18 (Conv2D)               (None, 14, 14, 256)   819456      up_sampling2d_14[0][0]           \n",
      "____________________________________________________________________________________________________\n",
      "leaky_re_lu_54 (LeakyReLU)       (None, 14, 14, 256)   0           conv2d_18[0][0]                  \n",
      "____________________________________________________________________________________________________\n",
      "up_sampling2d_15 (UpSampling2D)  (None, 28, 28, 256)   0           leaky_re_lu_54[0][0]             \n",
      "____________________________________________________________________________________________________\n",
      "conv2d_19 (Conv2D)               (None, 28, 28, 128)   819328      up_sampling2d_15[0][0]           \n",
      "____________________________________________________________________________________________________\n",
      "leaky_re_lu_55 (LeakyReLU)       (None, 28, 28, 128)   0           conv2d_19[0][0]                  \n",
      "____________________________________________________________________________________________________\n",
      "conv2d_20 (Conv2D)               (None, 28, 28, 1)     513         leaky_re_lu_55[0][0]             \n",
      "====================================================================================================\n",
      "Total params: 8,172,521\n",
      "Trainable params: 8,172,521\n",
      "Non-trainable params: 0\n",
      "____________________________________________________________________________________________________\n"
     ]
    }
   ],
   "source": [
    "model.summary()"
   ]
  },
  {
   "cell_type": "code",
   "execution_count": 128,
   "metadata": {
    "collapsed": true
   },
   "outputs": [
    {
     "data": {
      "image/svg+xml": [
       "<svg height=\"1300pt\" viewBox=\"0.00 0.00 600.50 1300.00\" width=\"601pt\" xmlns=\"http://www.w3.org/2000/svg\" xmlns:xlink=\"http://www.w3.org/1999/xlink\">\n",
       "<g class=\"graph\" id=\"graph0\" transform=\"scale(1 1) rotate(0) translate(4 1296)\">\n",
       "<title>G</title>\n",
       "<polygon fill=\"white\" points=\"-4,4 -4,-1296 596.5,-1296 596.5,4 -4,4\" stroke=\"none\"/>\n",
       "<!-- 139739849039040 -->\n",
       "<g class=\"node\" id=\"node1\"><title>139739849039040</title>\n",
       "<polygon fill=\"none\" points=\"32,-1245.5 32,-1291.5 288,-1291.5 288,-1245.5 32,-1245.5\" stroke=\"black\"/>\n",
       "<text font-family=\"Times,serif\" font-size=\"14.00\" text-anchor=\"middle\" x=\"98\" y=\"-1264.8\">input_19: InputLayer</text>\n",
       "<polyline fill=\"none\" points=\"164,-1245.5 164,-1291.5 \" stroke=\"black\"/>\n",
       "<text font-family=\"Times,serif\" font-size=\"14.00\" text-anchor=\"middle\" x=\"191.5\" y=\"-1276.3\">input:</text>\n",
       "<polyline fill=\"none\" points=\"164,-1268.5 219,-1268.5 \" stroke=\"black\"/>\n",
       "<text font-family=\"Times,serif\" font-size=\"14.00\" text-anchor=\"middle\" x=\"191.5\" y=\"-1253.3\">output:</text>\n",
       "<polyline fill=\"none\" points=\"219,-1245.5 219,-1291.5 \" stroke=\"black\"/>\n",
       "<text font-family=\"Times,serif\" font-size=\"14.00\" text-anchor=\"middle\" x=\"253.5\" y=\"-1276.3\">(None, 1)</text>\n",
       "<polyline fill=\"none\" points=\"219,-1268.5 288,-1268.5 \" stroke=\"black\"/>\n",
       "<text font-family=\"Times,serif\" font-size=\"14.00\" text-anchor=\"middle\" x=\"253.5\" y=\"-1253.3\">(None, 1)</text>\n",
       "</g>\n",
       "<!-- 139739849037752 -->\n",
       "<g class=\"node\" id=\"node2\"><title>139739849037752</title>\n",
       "<polygon fill=\"none\" points=\"0,-1162.5 0,-1208.5 320,-1208.5 320,-1162.5 0,-1162.5\" stroke=\"black\"/>\n",
       "<text font-family=\"Times,serif\" font-size=\"14.00\" text-anchor=\"middle\" x=\"84\" y=\"-1181.8\">embedding_28: Embedding</text>\n",
       "<polyline fill=\"none\" points=\"168,-1162.5 168,-1208.5 \" stroke=\"black\"/>\n",
       "<text font-family=\"Times,serif\" font-size=\"14.00\" text-anchor=\"middle\" x=\"195.5\" y=\"-1193.3\">input:</text>\n",
       "<polyline fill=\"none\" points=\"168,-1185.5 223,-1185.5 \" stroke=\"black\"/>\n",
       "<text font-family=\"Times,serif\" font-size=\"14.00\" text-anchor=\"middle\" x=\"195.5\" y=\"-1170.3\">output:</text>\n",
       "<polyline fill=\"none\" points=\"223,-1162.5 223,-1208.5 \" stroke=\"black\"/>\n",
       "<text font-family=\"Times,serif\" font-size=\"14.00\" text-anchor=\"middle\" x=\"271.5\" y=\"-1193.3\">(None, 1)</text>\n",
       "<polyline fill=\"none\" points=\"223,-1185.5 320,-1185.5 \" stroke=\"black\"/>\n",
       "<text font-family=\"Times,serif\" font-size=\"14.00\" text-anchor=\"middle\" x=\"271.5\" y=\"-1170.3\">(None, 1, 100)</text>\n",
       "</g>\n",
       "<!-- 139739849039040&#45;&gt;139739849037752 -->\n",
       "<g class=\"edge\" id=\"edge1\"><title>139739849039040-&gt;139739849037752</title>\n",
       "<path d=\"M160,-1245.37C160,-1237.15 160,-1227.66 160,-1218.73\" fill=\"none\" stroke=\"black\"/>\n",
       "<polygon fill=\"black\" points=\"163.5,-1218.61 160,-1208.61 156.5,-1218.61 163.5,-1218.61\" stroke=\"black\"/>\n",
       "</g>\n",
       "<!-- 139739849277568 -->\n",
       "<g class=\"node\" id=\"node4\"><title>139739849277568</title>\n",
       "<polygon fill=\"none\" points=\"8.5,-1079.5 8.5,-1125.5 311.5,-1125.5 311.5,-1079.5 8.5,-1079.5\" stroke=\"black\"/>\n",
       "<text font-family=\"Times,serif\" font-size=\"14.00\" text-anchor=\"middle\" x=\"84\" y=\"-1098.8\">embedded_class: Flatten</text>\n",
       "<polyline fill=\"none\" points=\"159.5,-1079.5 159.5,-1125.5 \" stroke=\"black\"/>\n",
       "<text font-family=\"Times,serif\" font-size=\"14.00\" text-anchor=\"middle\" x=\"187\" y=\"-1110.3\">input:</text>\n",
       "<polyline fill=\"none\" points=\"159.5,-1102.5 214.5,-1102.5 \" stroke=\"black\"/>\n",
       "<text font-family=\"Times,serif\" font-size=\"14.00\" text-anchor=\"middle\" x=\"187\" y=\"-1087.3\">output:</text>\n",
       "<polyline fill=\"none\" points=\"214.5,-1079.5 214.5,-1125.5 \" stroke=\"black\"/>\n",
       "<text font-family=\"Times,serif\" font-size=\"14.00\" text-anchor=\"middle\" x=\"263\" y=\"-1110.3\">(None, 1, 100)</text>\n",
       "<polyline fill=\"none\" points=\"214.5,-1102.5 311.5,-1102.5 \" stroke=\"black\"/>\n",
       "<text font-family=\"Times,serif\" font-size=\"14.00\" text-anchor=\"middle\" x=\"263\" y=\"-1087.3\">(None, 100)</text>\n",
       "</g>\n",
       "<!-- 139739849037752&#45;&gt;139739849277568 -->\n",
       "<g class=\"edge\" id=\"edge2\"><title>139739849037752-&gt;139739849277568</title>\n",
       "<path d=\"M160,-1162.37C160,-1154.15 160,-1144.66 160,-1135.73\" fill=\"none\" stroke=\"black\"/>\n",
       "<polygon fill=\"black\" points=\"163.5,-1135.61 160,-1125.61 156.5,-1135.61 163.5,-1135.61\" stroke=\"black\"/>\n",
       "</g>\n",
       "<!-- 139739849280144 -->\n",
       "<g class=\"node\" id=\"node3\"><title>139739849280144</title>\n",
       "<polygon fill=\"none\" points=\"329.5,-1079.5 329.5,-1125.5 592.5,-1125.5 592.5,-1079.5 329.5,-1079.5\" stroke=\"black\"/>\n",
       "<text font-family=\"Times,serif\" font-size=\"14.00\" text-anchor=\"middle\" x=\"392\" y=\"-1098.8\">input_z: InputLayer</text>\n",
       "<polyline fill=\"none\" points=\"454.5,-1079.5 454.5,-1125.5 \" stroke=\"black\"/>\n",
       "<text font-family=\"Times,serif\" font-size=\"14.00\" text-anchor=\"middle\" x=\"482\" y=\"-1110.3\">input:</text>\n",
       "<polyline fill=\"none\" points=\"454.5,-1102.5 509.5,-1102.5 \" stroke=\"black\"/>\n",
       "<text font-family=\"Times,serif\" font-size=\"14.00\" text-anchor=\"middle\" x=\"482\" y=\"-1087.3\">output:</text>\n",
       "<polyline fill=\"none\" points=\"509.5,-1079.5 509.5,-1125.5 \" stroke=\"black\"/>\n",
       "<text font-family=\"Times,serif\" font-size=\"14.00\" text-anchor=\"middle\" x=\"551\" y=\"-1110.3\">(None, 100)</text>\n",
       "<polyline fill=\"none\" points=\"509.5,-1102.5 592.5,-1102.5 \" stroke=\"black\"/>\n",
       "<text font-family=\"Times,serif\" font-size=\"14.00\" text-anchor=\"middle\" x=\"551\" y=\"-1087.3\">(None, 100)</text>\n",
       "</g>\n",
       "<!-- 139738746025072 -->\n",
       "<g class=\"node\" id=\"node5\"><title>139738746025072</title>\n",
       "<polygon fill=\"none\" points=\"160.5,-996.5 160.5,-1042.5 459.5,-1042.5 459.5,-996.5 160.5,-996.5\" stroke=\"black\"/>\n",
       "<text font-family=\"Times,serif\" font-size=\"14.00\" text-anchor=\"middle\" x=\"200\" y=\"-1015.8\">h: Multiply</text>\n",
       "<polyline fill=\"none\" points=\"239.5,-996.5 239.5,-1042.5 \" stroke=\"black\"/>\n",
       "<text font-family=\"Times,serif\" font-size=\"14.00\" text-anchor=\"middle\" x=\"267\" y=\"-1027.3\">input:</text>\n",
       "<polyline fill=\"none\" points=\"239.5,-1019.5 294.5,-1019.5 \" stroke=\"black\"/>\n",
       "<text font-family=\"Times,serif\" font-size=\"14.00\" text-anchor=\"middle\" x=\"267\" y=\"-1004.3\">output:</text>\n",
       "<polyline fill=\"none\" points=\"294.5,-996.5 294.5,-1042.5 \" stroke=\"black\"/>\n",
       "<text font-family=\"Times,serif\" font-size=\"14.00\" text-anchor=\"middle\" x=\"377\" y=\"-1027.3\">[(None, 100), (None, 100)]</text>\n",
       "<polyline fill=\"none\" points=\"294.5,-1019.5 459.5,-1019.5 \" stroke=\"black\"/>\n",
       "<text font-family=\"Times,serif\" font-size=\"14.00\" text-anchor=\"middle\" x=\"377\" y=\"-1004.3\">(None, 100)</text>\n",
       "</g>\n",
       "<!-- 139739849280144&#45;&gt;139738746025072 -->\n",
       "<g class=\"edge\" id=\"edge3\"><title>139739849280144-&gt;139738746025072</title>\n",
       "<path d=\"M419.739,-1079.37C401.345,-1069.5 379.512,-1057.79 360.183,-1047.42\" fill=\"none\" stroke=\"black\"/>\n",
       "<polygon fill=\"black\" points=\"361.678,-1044.25 351.212,-1042.61 358.369,-1050.42 361.678,-1044.25\" stroke=\"black\"/>\n",
       "</g>\n",
       "<!-- 139739849277568&#45;&gt;139738746025072 -->\n",
       "<g class=\"edge\" id=\"edge4\"><title>139739849277568-&gt;139738746025072</title>\n",
       "<path d=\"M200.988,-1079.37C219.26,-1069.5 240.948,-1057.79 260.149,-1047.42\" fill=\"none\" stroke=\"black\"/>\n",
       "<polygon fill=\"black\" points=\"261.925,-1050.44 269.061,-1042.61 258.599,-1044.28 261.925,-1050.44\" stroke=\"black\"/>\n",
       "</g>\n",
       "<!-- 139738744451536 -->\n",
       "<g class=\"node\" id=\"node6\"><title>139738744451536</title>\n",
       "<polygon fill=\"none\" points=\"183.5,-913.5 183.5,-959.5 436.5,-959.5 436.5,-913.5 183.5,-913.5\" stroke=\"black\"/>\n",
       "<text font-family=\"Times,serif\" font-size=\"14.00\" text-anchor=\"middle\" x=\"238\" y=\"-932.8\">dense_35: Dense</text>\n",
       "<polyline fill=\"none\" points=\"292.5,-913.5 292.5,-959.5 \" stroke=\"black\"/>\n",
       "<text font-family=\"Times,serif\" font-size=\"14.00\" text-anchor=\"middle\" x=\"320\" y=\"-944.3\">input:</text>\n",
       "<polyline fill=\"none\" points=\"292.5,-936.5 347.5,-936.5 \" stroke=\"black\"/>\n",
       "<text font-family=\"Times,serif\" font-size=\"14.00\" text-anchor=\"middle\" x=\"320\" y=\"-921.3\">output:</text>\n",
       "<polyline fill=\"none\" points=\"347.5,-913.5 347.5,-959.5 \" stroke=\"black\"/>\n",
       "<text font-family=\"Times,serif\" font-size=\"14.00\" text-anchor=\"middle\" x=\"392\" y=\"-944.3\">(None, 100)</text>\n",
       "<polyline fill=\"none\" points=\"347.5,-936.5 436.5,-936.5 \" stroke=\"black\"/>\n",
       "<text font-family=\"Times,serif\" font-size=\"14.00\" text-anchor=\"middle\" x=\"392\" y=\"-921.3\">(None, 1024)</text>\n",
       "</g>\n",
       "<!-- 139738746025072&#45;&gt;139738744451536 -->\n",
       "<g class=\"edge\" id=\"edge5\"><title>139738746025072-&gt;139738744451536</title>\n",
       "<path d=\"M310,-996.366C310,-988.152 310,-978.658 310,-969.725\" fill=\"none\" stroke=\"black\"/>\n",
       "<polygon fill=\"black\" points=\"313.5,-969.607 310,-959.607 306.5,-969.607 313.5,-969.607\" stroke=\"black\"/>\n",
       "</g>\n",
       "<!-- 139738744451480 -->\n",
       "<g class=\"node\" id=\"node7\"><title>139738744451480</title>\n",
       "<polygon fill=\"none\" points=\"150.5,-830.5 150.5,-876.5 469.5,-876.5 469.5,-830.5 150.5,-830.5\" stroke=\"black\"/>\n",
       "<text font-family=\"Times,serif\" font-size=\"14.00\" text-anchor=\"middle\" x=\"238\" y=\"-849.8\">leaky_re_lu_52: LeakyReLU</text>\n",
       "<polyline fill=\"none\" points=\"325.5,-830.5 325.5,-876.5 \" stroke=\"black\"/>\n",
       "<text font-family=\"Times,serif\" font-size=\"14.00\" text-anchor=\"middle\" x=\"353\" y=\"-861.3\">input:</text>\n",
       "<polyline fill=\"none\" points=\"325.5,-853.5 380.5,-853.5 \" stroke=\"black\"/>\n",
       "<text font-family=\"Times,serif\" font-size=\"14.00\" text-anchor=\"middle\" x=\"353\" y=\"-838.3\">output:</text>\n",
       "<polyline fill=\"none\" points=\"380.5,-830.5 380.5,-876.5 \" stroke=\"black\"/>\n",
       "<text font-family=\"Times,serif\" font-size=\"14.00\" text-anchor=\"middle\" x=\"425\" y=\"-861.3\">(None, 1024)</text>\n",
       "<polyline fill=\"none\" points=\"380.5,-853.5 469.5,-853.5 \" stroke=\"black\"/>\n",
       "<text font-family=\"Times,serif\" font-size=\"14.00\" text-anchor=\"middle\" x=\"425\" y=\"-838.3\">(None, 1024)</text>\n",
       "</g>\n",
       "<!-- 139738744451536&#45;&gt;139738744451480 -->\n",
       "<g class=\"edge\" id=\"edge6\"><title>139738744451536-&gt;139738744451480</title>\n",
       "<path d=\"M310,-913.366C310,-905.152 310,-895.658 310,-886.725\" fill=\"none\" stroke=\"black\"/>\n",
       "<polygon fill=\"black\" points=\"313.5,-886.607 310,-876.607 306.5,-886.607 313.5,-886.607\" stroke=\"black\"/>\n",
       "</g>\n",
       "<!-- 139738744452432 -->\n",
       "<g class=\"node\" id=\"node8\"><title>139738744452432</title>\n",
       "<polygon fill=\"none\" points=\"183.5,-747.5 183.5,-793.5 436.5,-793.5 436.5,-747.5 183.5,-747.5\" stroke=\"black\"/>\n",
       "<text font-family=\"Times,serif\" font-size=\"14.00\" text-anchor=\"middle\" x=\"238\" y=\"-766.8\">dense_36: Dense</text>\n",
       "<polyline fill=\"none\" points=\"292.5,-747.5 292.5,-793.5 \" stroke=\"black\"/>\n",
       "<text font-family=\"Times,serif\" font-size=\"14.00\" text-anchor=\"middle\" x=\"320\" y=\"-778.3\">input:</text>\n",
       "<polyline fill=\"none\" points=\"292.5,-770.5 347.5,-770.5 \" stroke=\"black\"/>\n",
       "<text font-family=\"Times,serif\" font-size=\"14.00\" text-anchor=\"middle\" x=\"320\" y=\"-755.3\">output:</text>\n",
       "<polyline fill=\"none\" points=\"347.5,-747.5 347.5,-793.5 \" stroke=\"black\"/>\n",
       "<text font-family=\"Times,serif\" font-size=\"14.00\" text-anchor=\"middle\" x=\"392\" y=\"-778.3\">(None, 1024)</text>\n",
       "<polyline fill=\"none\" points=\"347.5,-770.5 436.5,-770.5 \" stroke=\"black\"/>\n",
       "<text font-family=\"Times,serif\" font-size=\"14.00\" text-anchor=\"middle\" x=\"392\" y=\"-755.3\">(None, 6272)</text>\n",
       "</g>\n",
       "<!-- 139738744451480&#45;&gt;139738744452432 -->\n",
       "<g class=\"edge\" id=\"edge7\"><title>139738744451480-&gt;139738744452432</title>\n",
       "<path d=\"M310,-830.366C310,-822.152 310,-812.658 310,-803.725\" fill=\"none\" stroke=\"black\"/>\n",
       "<polygon fill=\"black\" points=\"313.5,-803.607 310,-793.607 306.5,-803.607 313.5,-803.607\" stroke=\"black\"/>\n",
       "</g>\n",
       "<!-- 139738744452096 -->\n",
       "<g class=\"node\" id=\"node9\"><title>139738744452096</title>\n",
       "<polygon fill=\"none\" points=\"150.5,-664.5 150.5,-710.5 469.5,-710.5 469.5,-664.5 150.5,-664.5\" stroke=\"black\"/>\n",
       "<text font-family=\"Times,serif\" font-size=\"14.00\" text-anchor=\"middle\" x=\"238\" y=\"-683.8\">leaky_re_lu_53: LeakyReLU</text>\n",
       "<polyline fill=\"none\" points=\"325.5,-664.5 325.5,-710.5 \" stroke=\"black\"/>\n",
       "<text font-family=\"Times,serif\" font-size=\"14.00\" text-anchor=\"middle\" x=\"353\" y=\"-695.3\">input:</text>\n",
       "<polyline fill=\"none\" points=\"325.5,-687.5 380.5,-687.5 \" stroke=\"black\"/>\n",
       "<text font-family=\"Times,serif\" font-size=\"14.00\" text-anchor=\"middle\" x=\"353\" y=\"-672.3\">output:</text>\n",
       "<polyline fill=\"none\" points=\"380.5,-664.5 380.5,-710.5 \" stroke=\"black\"/>\n",
       "<text font-family=\"Times,serif\" font-size=\"14.00\" text-anchor=\"middle\" x=\"425\" y=\"-695.3\">(None, 6272)</text>\n",
       "<polyline fill=\"none\" points=\"380.5,-687.5 469.5,-687.5 \" stroke=\"black\"/>\n",
       "<text font-family=\"Times,serif\" font-size=\"14.00\" text-anchor=\"middle\" x=\"425\" y=\"-672.3\">(None, 6272)</text>\n",
       "</g>\n",
       "<!-- 139738744452432&#45;&gt;139738744452096 -->\n",
       "<g class=\"edge\" id=\"edge8\"><title>139738744452432-&gt;139738744452096</title>\n",
       "<path d=\"M310,-747.366C310,-739.152 310,-729.658 310,-720.725\" fill=\"none\" stroke=\"black\"/>\n",
       "<polygon fill=\"black\" points=\"313.5,-720.607 310,-710.607 306.5,-720.607 313.5,-720.607\" stroke=\"black\"/>\n",
       "</g>\n",
       "<!-- 139738744519648 -->\n",
       "<g class=\"node\" id=\"node10\"><title>139738744519648</title>\n",
       "<polygon fill=\"none\" points=\"161.5,-581.5 161.5,-627.5 458.5,-627.5 458.5,-581.5 161.5,-581.5\" stroke=\"black\"/>\n",
       "<text font-family=\"Times,serif\" font-size=\"14.00\" text-anchor=\"middle\" x=\"227\" y=\"-600.8\">reshape_13: Reshape</text>\n",
       "<polyline fill=\"none\" points=\"292.5,-581.5 292.5,-627.5 \" stroke=\"black\"/>\n",
       "<text font-family=\"Times,serif\" font-size=\"14.00\" text-anchor=\"middle\" x=\"320\" y=\"-612.3\">input:</text>\n",
       "<polyline fill=\"none\" points=\"292.5,-604.5 347.5,-604.5 \" stroke=\"black\"/>\n",
       "<text font-family=\"Times,serif\" font-size=\"14.00\" text-anchor=\"middle\" x=\"320\" y=\"-589.3\">output:</text>\n",
       "<polyline fill=\"none\" points=\"347.5,-581.5 347.5,-627.5 \" stroke=\"black\"/>\n",
       "<text font-family=\"Times,serif\" font-size=\"14.00\" text-anchor=\"middle\" x=\"403\" y=\"-612.3\">(None, 6272)</text>\n",
       "<polyline fill=\"none\" points=\"347.5,-604.5 458.5,-604.5 \" stroke=\"black\"/>\n",
       "<text font-family=\"Times,serif\" font-size=\"14.00\" text-anchor=\"middle\" x=\"403\" y=\"-589.3\">(None, 7, 7, 128)</text>\n",
       "</g>\n",
       "<!-- 139738744452096&#45;&gt;139738744519648 -->\n",
       "<g class=\"edge\" id=\"edge9\"><title>139738744452096-&gt;139738744519648</title>\n",
       "<path d=\"M310,-664.366C310,-656.152 310,-646.658 310,-637.725\" fill=\"none\" stroke=\"black\"/>\n",
       "<polygon fill=\"black\" points=\"313.5,-637.607 310,-627.607 306.5,-637.607 313.5,-637.607\" stroke=\"black\"/>\n",
       "</g>\n",
       "<!-- 139738744519368 -->\n",
       "<g class=\"node\" id=\"node11\"><title>139738744519368</title>\n",
       "<polygon fill=\"none\" points=\"113,-498.5 113,-544.5 507,-544.5 507,-498.5 113,-498.5\" stroke=\"black\"/>\n",
       "<text font-family=\"Times,serif\" font-size=\"14.00\" text-anchor=\"middle\" x=\"220\" y=\"-517.8\">up_sampling2d_14: UpSampling2D</text>\n",
       "<polyline fill=\"none\" points=\"327,-498.5 327,-544.5 \" stroke=\"black\"/>\n",
       "<text font-family=\"Times,serif\" font-size=\"14.00\" text-anchor=\"middle\" x=\"354.5\" y=\"-529.3\">input:</text>\n",
       "<polyline fill=\"none\" points=\"327,-521.5 382,-521.5 \" stroke=\"black\"/>\n",
       "<text font-family=\"Times,serif\" font-size=\"14.00\" text-anchor=\"middle\" x=\"354.5\" y=\"-506.3\">output:</text>\n",
       "<polyline fill=\"none\" points=\"382,-498.5 382,-544.5 \" stroke=\"black\"/>\n",
       "<text font-family=\"Times,serif\" font-size=\"14.00\" text-anchor=\"middle\" x=\"444.5\" y=\"-529.3\">(None, 7, 7, 128)</text>\n",
       "<polyline fill=\"none\" points=\"382,-521.5 507,-521.5 \" stroke=\"black\"/>\n",
       "<text font-family=\"Times,serif\" font-size=\"14.00\" text-anchor=\"middle\" x=\"444.5\" y=\"-506.3\">(None, 14, 14, 128)</text>\n",
       "</g>\n",
       "<!-- 139738744519648&#45;&gt;139738744519368 -->\n",
       "<g class=\"edge\" id=\"edge10\"><title>139738744519648-&gt;139738744519368</title>\n",
       "<path d=\"M310,-581.366C310,-573.152 310,-563.658 310,-554.725\" fill=\"none\" stroke=\"black\"/>\n",
       "<polygon fill=\"black\" points=\"313.5,-554.607 310,-544.607 306.5,-554.607 313.5,-554.607\" stroke=\"black\"/>\n",
       "</g>\n",
       "<!-- 139738744519704 -->\n",
       "<g class=\"node\" id=\"node12\"><title>139738744519704</title>\n",
       "<polygon fill=\"none\" points=\"155,-415.5 155,-461.5 465,-461.5 465,-415.5 155,-415.5\" stroke=\"black\"/>\n",
       "<text font-family=\"Times,serif\" font-size=\"14.00\" text-anchor=\"middle\" x=\"220\" y=\"-434.8\">conv2d_18: Conv2D</text>\n",
       "<polyline fill=\"none\" points=\"285,-415.5 285,-461.5 \" stroke=\"black\"/>\n",
       "<text font-family=\"Times,serif\" font-size=\"14.00\" text-anchor=\"middle\" x=\"312.5\" y=\"-446.3\">input:</text>\n",
       "<polyline fill=\"none\" points=\"285,-438.5 340,-438.5 \" stroke=\"black\"/>\n",
       "<text font-family=\"Times,serif\" font-size=\"14.00\" text-anchor=\"middle\" x=\"312.5\" y=\"-423.3\">output:</text>\n",
       "<polyline fill=\"none\" points=\"340,-415.5 340,-461.5 \" stroke=\"black\"/>\n",
       "<text font-family=\"Times,serif\" font-size=\"14.00\" text-anchor=\"middle\" x=\"402.5\" y=\"-446.3\">(None, 14, 14, 128)</text>\n",
       "<polyline fill=\"none\" points=\"340,-438.5 465,-438.5 \" stroke=\"black\"/>\n",
       "<text font-family=\"Times,serif\" font-size=\"14.00\" text-anchor=\"middle\" x=\"402.5\" y=\"-423.3\">(None, 14, 14, 256)</text>\n",
       "</g>\n",
       "<!-- 139738744519368&#45;&gt;139738744519704 -->\n",
       "<g class=\"edge\" id=\"edge11\"><title>139738744519368-&gt;139738744519704</title>\n",
       "<path d=\"M310,-498.366C310,-490.152 310,-480.658 310,-471.725\" fill=\"none\" stroke=\"black\"/>\n",
       "<polygon fill=\"black\" points=\"313.5,-471.607 310,-461.607 306.5,-471.607 313.5,-471.607\" stroke=\"black\"/>\n",
       "</g>\n",
       "<!-- 139738744088504 -->\n",
       "<g class=\"node\" id=\"node13\"><title>139738744088504</title>\n",
       "<polygon fill=\"none\" points=\"132.5,-332.5 132.5,-378.5 487.5,-378.5 487.5,-332.5 132.5,-332.5\" stroke=\"black\"/>\n",
       "<text font-family=\"Times,serif\" font-size=\"14.00\" text-anchor=\"middle\" x=\"220\" y=\"-351.8\">leaky_re_lu_54: LeakyReLU</text>\n",
       "<polyline fill=\"none\" points=\"307.5,-332.5 307.5,-378.5 \" stroke=\"black\"/>\n",
       "<text font-family=\"Times,serif\" font-size=\"14.00\" text-anchor=\"middle\" x=\"335\" y=\"-363.3\">input:</text>\n",
       "<polyline fill=\"none\" points=\"307.5,-355.5 362.5,-355.5 \" stroke=\"black\"/>\n",
       "<text font-family=\"Times,serif\" font-size=\"14.00\" text-anchor=\"middle\" x=\"335\" y=\"-340.3\">output:</text>\n",
       "<polyline fill=\"none\" points=\"362.5,-332.5 362.5,-378.5 \" stroke=\"black\"/>\n",
       "<text font-family=\"Times,serif\" font-size=\"14.00\" text-anchor=\"middle\" x=\"425\" y=\"-363.3\">(None, 14, 14, 256)</text>\n",
       "<polyline fill=\"none\" points=\"362.5,-355.5 487.5,-355.5 \" stroke=\"black\"/>\n",
       "<text font-family=\"Times,serif\" font-size=\"14.00\" text-anchor=\"middle\" x=\"425\" y=\"-340.3\">(None, 14, 14, 256)</text>\n",
       "</g>\n",
       "<!-- 139738744519704&#45;&gt;139738744088504 -->\n",
       "<g class=\"edge\" id=\"edge12\"><title>139738744519704-&gt;139738744088504</title>\n",
       "<path d=\"M310,-415.366C310,-407.152 310,-397.658 310,-388.725\" fill=\"none\" stroke=\"black\"/>\n",
       "<polygon fill=\"black\" points=\"313.5,-388.607 310,-378.607 306.5,-388.607 313.5,-388.607\" stroke=\"black\"/>\n",
       "</g>\n",
       "<!-- 139738744090240 -->\n",
       "<g class=\"node\" id=\"node14\"><title>139738744090240</title>\n",
       "<polygon fill=\"none\" points=\"113,-249.5 113,-295.5 507,-295.5 507,-249.5 113,-249.5\" stroke=\"black\"/>\n",
       "<text font-family=\"Times,serif\" font-size=\"14.00\" text-anchor=\"middle\" x=\"220\" y=\"-268.8\">up_sampling2d_15: UpSampling2D</text>\n",
       "<polyline fill=\"none\" points=\"327,-249.5 327,-295.5 \" stroke=\"black\"/>\n",
       "<text font-family=\"Times,serif\" font-size=\"14.00\" text-anchor=\"middle\" x=\"354.5\" y=\"-280.3\">input:</text>\n",
       "<polyline fill=\"none\" points=\"327,-272.5 382,-272.5 \" stroke=\"black\"/>\n",
       "<text font-family=\"Times,serif\" font-size=\"14.00\" text-anchor=\"middle\" x=\"354.5\" y=\"-257.3\">output:</text>\n",
       "<polyline fill=\"none\" points=\"382,-249.5 382,-295.5 \" stroke=\"black\"/>\n",
       "<text font-family=\"Times,serif\" font-size=\"14.00\" text-anchor=\"middle\" x=\"444.5\" y=\"-280.3\">(None, 14, 14, 256)</text>\n",
       "<polyline fill=\"none\" points=\"382,-272.5 507,-272.5 \" stroke=\"black\"/>\n",
       "<text font-family=\"Times,serif\" font-size=\"14.00\" text-anchor=\"middle\" x=\"444.5\" y=\"-257.3\">(None, 28, 28, 256)</text>\n",
       "</g>\n",
       "<!-- 139738744088504&#45;&gt;139738744090240 -->\n",
       "<g class=\"edge\" id=\"edge13\"><title>139738744088504-&gt;139738744090240</title>\n",
       "<path d=\"M310,-332.366C310,-324.152 310,-314.658 310,-305.725\" fill=\"none\" stroke=\"black\"/>\n",
       "<polygon fill=\"black\" points=\"313.5,-305.607 310,-295.607 306.5,-305.607 313.5,-305.607\" stroke=\"black\"/>\n",
       "</g>\n",
       "<!-- 139738744511904 -->\n",
       "<g class=\"node\" id=\"node15\"><title>139738744511904</title>\n",
       "<polygon fill=\"none\" points=\"155,-166.5 155,-212.5 465,-212.5 465,-166.5 155,-166.5\" stroke=\"black\"/>\n",
       "<text font-family=\"Times,serif\" font-size=\"14.00\" text-anchor=\"middle\" x=\"220\" y=\"-185.8\">conv2d_19: Conv2D</text>\n",
       "<polyline fill=\"none\" points=\"285,-166.5 285,-212.5 \" stroke=\"black\"/>\n",
       "<text font-family=\"Times,serif\" font-size=\"14.00\" text-anchor=\"middle\" x=\"312.5\" y=\"-197.3\">input:</text>\n",
       "<polyline fill=\"none\" points=\"285,-189.5 340,-189.5 \" stroke=\"black\"/>\n",
       "<text font-family=\"Times,serif\" font-size=\"14.00\" text-anchor=\"middle\" x=\"312.5\" y=\"-174.3\">output:</text>\n",
       "<polyline fill=\"none\" points=\"340,-166.5 340,-212.5 \" stroke=\"black\"/>\n",
       "<text font-family=\"Times,serif\" font-size=\"14.00\" text-anchor=\"middle\" x=\"402.5\" y=\"-197.3\">(None, 28, 28, 256)</text>\n",
       "<polyline fill=\"none\" points=\"340,-189.5 465,-189.5 \" stroke=\"black\"/>\n",
       "<text font-family=\"Times,serif\" font-size=\"14.00\" text-anchor=\"middle\" x=\"402.5\" y=\"-174.3\">(None, 28, 28, 128)</text>\n",
       "</g>\n",
       "<!-- 139738744090240&#45;&gt;139738744511904 -->\n",
       "<g class=\"edge\" id=\"edge14\"><title>139738744090240-&gt;139738744511904</title>\n",
       "<path d=\"M310,-249.366C310,-241.152 310,-231.658 310,-222.725\" fill=\"none\" stroke=\"black\"/>\n",
       "<polygon fill=\"black\" points=\"313.5,-222.607 310,-212.607 306.5,-222.607 313.5,-222.607\" stroke=\"black\"/>\n",
       "</g>\n",
       "<!-- 139738744510168 -->\n",
       "<g class=\"node\" id=\"node16\"><title>139738744510168</title>\n",
       "<polygon fill=\"none\" points=\"132.5,-83.5 132.5,-129.5 487.5,-129.5 487.5,-83.5 132.5,-83.5\" stroke=\"black\"/>\n",
       "<text font-family=\"Times,serif\" font-size=\"14.00\" text-anchor=\"middle\" x=\"220\" y=\"-102.8\">leaky_re_lu_55: LeakyReLU</text>\n",
       "<polyline fill=\"none\" points=\"307.5,-83.5 307.5,-129.5 \" stroke=\"black\"/>\n",
       "<text font-family=\"Times,serif\" font-size=\"14.00\" text-anchor=\"middle\" x=\"335\" y=\"-114.3\">input:</text>\n",
       "<polyline fill=\"none\" points=\"307.5,-106.5 362.5,-106.5 \" stroke=\"black\"/>\n",
       "<text font-family=\"Times,serif\" font-size=\"14.00\" text-anchor=\"middle\" x=\"335\" y=\"-91.3\">output:</text>\n",
       "<polyline fill=\"none\" points=\"362.5,-83.5 362.5,-129.5 \" stroke=\"black\"/>\n",
       "<text font-family=\"Times,serif\" font-size=\"14.00\" text-anchor=\"middle\" x=\"425\" y=\"-114.3\">(None, 28, 28, 128)</text>\n",
       "<polyline fill=\"none\" points=\"362.5,-106.5 487.5,-106.5 \" stroke=\"black\"/>\n",
       "<text font-family=\"Times,serif\" font-size=\"14.00\" text-anchor=\"middle\" x=\"425\" y=\"-91.3\">(None, 28, 28, 128)</text>\n",
       "</g>\n",
       "<!-- 139738744511904&#45;&gt;139738744510168 -->\n",
       "<g class=\"edge\" id=\"edge15\"><title>139738744511904-&gt;139738744510168</title>\n",
       "<path d=\"M310,-166.366C310,-158.152 310,-148.658 310,-139.725\" fill=\"none\" stroke=\"black\"/>\n",
       "<polygon fill=\"black\" points=\"313.5,-139.607 310,-129.607 306.5,-139.607 313.5,-139.607\" stroke=\"black\"/>\n",
       "</g>\n",
       "<!-- 139738743842128 -->\n",
       "<g class=\"node\" id=\"node17\"><title>139738743842128</title>\n",
       "<polygon fill=\"none\" points=\"155,-0.5 155,-46.5 465,-46.5 465,-0.5 155,-0.5\" stroke=\"black\"/>\n",
       "<text font-family=\"Times,serif\" font-size=\"14.00\" text-anchor=\"middle\" x=\"220\" y=\"-19.8\">conv2d_20: Conv2D</text>\n",
       "<polyline fill=\"none\" points=\"285,-0.5 285,-46.5 \" stroke=\"black\"/>\n",
       "<text font-family=\"Times,serif\" font-size=\"14.00\" text-anchor=\"middle\" x=\"312.5\" y=\"-31.3\">input:</text>\n",
       "<polyline fill=\"none\" points=\"285,-23.5 340,-23.5 \" stroke=\"black\"/>\n",
       "<text font-family=\"Times,serif\" font-size=\"14.00\" text-anchor=\"middle\" x=\"312.5\" y=\"-8.3\">output:</text>\n",
       "<polyline fill=\"none\" points=\"340,-0.5 340,-46.5 \" stroke=\"black\"/>\n",
       "<text font-family=\"Times,serif\" font-size=\"14.00\" text-anchor=\"middle\" x=\"402.5\" y=\"-31.3\">(None, 28, 28, 128)</text>\n",
       "<polyline fill=\"none\" points=\"340,-23.5 465,-23.5 \" stroke=\"black\"/>\n",
       "<text font-family=\"Times,serif\" font-size=\"14.00\" text-anchor=\"middle\" x=\"402.5\" y=\"-8.3\">(None, 28, 28, 1)</text>\n",
       "</g>\n",
       "<!-- 139738744510168&#45;&gt;139738743842128 -->\n",
       "<g class=\"edge\" id=\"edge16\"><title>139738744510168-&gt;139738743842128</title>\n",
       "<path d=\"M310,-83.3664C310,-75.1516 310,-65.6579 310,-56.7252\" fill=\"none\" stroke=\"black\"/>\n",
       "<polygon fill=\"black\" points=\"313.5,-56.6068 310,-46.6068 306.5,-56.6069 313.5,-56.6068\" stroke=\"black\"/>\n",
       "</g>\n",
       "</g>\n",
       "</svg>"
      ],
      "text/plain": [
       "<IPython.core.display.SVG object>"
      ]
     },
     "execution_count": 128,
     "metadata": {},
     "output_type": "execute_result"
    }
   ],
   "source": [
    "model_as_svg(model)"
   ]
  },
  {
   "cell_type": "code",
   "execution_count": 22,
   "metadata": {
    "collapsed": true
   },
   "outputs": [],
   "source": [
    "def build_generator(latent_size):\n",
    "    # we will map a pair of (z, L), where z is a latent vector and L is a\n",
    "    # label drawn from P_c, to image space (..., 1, 28, 28)\n",
    "    cnn = Sequential()\n",
    "\n",
    "    cnn.add(Dense(1024, input_dim=latent_size))\n",
    "    cnn.add(LeakyReLU())\n",
    "    cnn.add(Dense(128 * 7 * 7))\n",
    "    cnn.add(LeakyReLU())\n",
    "    cnn.add(Reshape((128, 7, 7)))\n",
    "\n",
    "    # upsample to (..., 14, 14)\n",
    "    cnn.add(UpSampling2D(size=(2, 2)))\n",
    "    cnn.add(\n",
    "        Convolution2D(256, 5, 5, border_mode='same', init='glorot_uniform'))\n",
    "    cnn.add(LeakyReLU())\n",
    "\n",
    "    # upsample to (..., 28, 28)\n",
    "    cnn.add(UpSampling2D(size=(2, 2)))\n",
    "    cnn.add(\n",
    "        Convolution2D(128, 5, 5, border_mode='same', init='glorot_uniform'))\n",
    "    cnn.add(LeakyReLU())\n",
    "\n",
    "    # take a channel axis reduction\n",
    "    cnn.add(\n",
    "        Convolution2D(\n",
    "            1,\n",
    "            2,\n",
    "            2,\n",
    "            border_mode='same',\n",
    "            activation='tanh',\n",
    "            init='glorot_uniform'))\n",
    "\n",
    "    # this is the z space commonly refered to in GAN papers\n",
    "    latent = Input(shape=(latent_size, ))\n",
    "\n",
    "    # this will be our label\n",
    "    image_class = Input(shape=(1, ), dtype='int32')\n",
    "\n",
    "    # 10 classes in MNIST\n",
    "    cls = Flatten()(\n",
    "        Embedding(10, latent_size, init='glorot_uniform')(image_class))\n",
    "\n",
    "    # hadamard product between z-space and a class conditional embedding\n",
    "    h = merge([latent, cls], mode='mul')\n",
    "\n",
    "    fake_image = cnn(h)\n",
    "\n",
    "    return Model(input=[latent, image_class], output=fake_image)"
   ]
  },
  {
   "cell_type": "code",
   "execution_count": 23,
   "metadata": {},
   "outputs": [
    {
     "name": "stderr",
     "output_type": "stream",
     "text": [
      "/usr/local/lib/python3.5/dist-packages/ipykernel_launcher.py:15: UserWarning: Update your `Conv2D` call to the Keras 2 API: `Conv2D(256, (5, 5), padding=\"same\", kernel_initializer=\"glorot_uniform\")`\n",
      "  from ipykernel import kernelapp as app\n",
      "/usr/local/lib/python3.5/dist-packages/ipykernel_launcher.py:21: UserWarning: Update your `Conv2D` call to the Keras 2 API: `Conv2D(128, (5, 5), padding=\"same\", kernel_initializer=\"glorot_uniform\")`\n",
      "/usr/local/lib/python3.5/dist-packages/ipykernel_launcher.py:32: UserWarning: Update your `Conv2D` call to the Keras 2 API: `Conv2D(1, (2, 2), padding=\"same\", activation=\"tanh\", kernel_initializer=\"glorot_uniform\")`\n",
      "/usr/local/lib/python3.5/dist-packages/ipykernel_launcher.py:42: UserWarning: Update your `Embedding` call to the Keras 2 API: `Embedding(10, 123, embeddings_initializer=\"glorot_uniform\")`\n",
      "/usr/local/lib/python3.5/dist-packages/ipykernel_launcher.py:45: UserWarning: The `merge` function is deprecated and will be removed after 08/2017. Use instead layers from `keras.layers.merge`, e.g. `add`, `concatenate`, etc.\n",
      "/usr/local/lib/python3.5/dist-packages/keras/legacy/layers.py:458: UserWarning: The `Merge` layer is deprecated and will be removed after 08/2017. Use instead layers from `keras.layers.merge`, e.g. `add`, `concatenate`, etc.\n",
      "  name=name)\n",
      "/usr/local/lib/python3.5/dist-packages/ipykernel_launcher.py:49: UserWarning: Update your `Model` call to the Keras 2 API: `Model(outputs=Tensor(\"se..., inputs=[<tf.Tenso...)`\n"
     ]
    }
   ],
   "source": [
    "m = build_generator(123)"
   ]
  },
  {
   "cell_type": "code",
   "execution_count": 24,
   "metadata": {
    "scrolled": true
   },
   "outputs": [
    {
     "name": "stdout",
     "output_type": "stream",
     "text": [
      "____________________________________________________________________________________________________\n",
      "Layer (type)                     Output Shape          Param #     Connected to                     \n",
      "====================================================================================================\n",
      "input_5 (InputLayer)             (None, 1)             0                                            \n",
      "____________________________________________________________________________________________________\n",
      "embedding_1 (Embedding)          (None, 1, 123)        1230        input_5[0][0]                    \n",
      "____________________________________________________________________________________________________\n",
      "input_4 (InputLayer)             (None, 123)           0                                            \n",
      "____________________________________________________________________________________________________\n",
      "flatten_2 (Flatten)              (None, 123)           0           embedding_1[0][0]                \n",
      "____________________________________________________________________________________________________\n",
      "merge_1 (Merge)                  (None, 123)           0           input_4[0][0]                    \n",
      "                                                                   flatten_2[0][0]                  \n",
      "____________________________________________________________________________________________________\n",
      "sequential_1 (Sequential)        (None, 512, 28, 1)    7420673     merge_1[0][0]                    \n",
      "====================================================================================================\n",
      "Total params: 7,421,903\n",
      "Trainable params: 7,421,903\n",
      "Non-trainable params: 0\n",
      "____________________________________________________________________________________________________\n"
     ]
    }
   ],
   "source": [
    "m.summary()"
   ]
  },
  {
   "cell_type": "code",
   "execution_count": 25,
   "metadata": {},
   "outputs": [
    {
     "data": {
      "image/svg+xml": [
       "<svg height=\"387pt\" viewBox=\"0.00 0.00 577.00 387.00\" width=\"577pt\" xmlns=\"http://www.w3.org/2000/svg\" xmlns:xlink=\"http://www.w3.org/1999/xlink\">\n",
       "<g class=\"graph\" id=\"graph0\" transform=\"scale(1 1) rotate(0) translate(4 383)\">\n",
       "<title>G</title>\n",
       "<polygon fill=\"white\" points=\"-4,4 -4,-383 573,-383 573,4 -4,4\" stroke=\"none\"/>\n",
       "<!-- 139675007849640 -->\n",
       "<g class=\"node\" id=\"node1\"><title>139675007849640</title>\n",
       "<polygon fill=\"none\" points=\"32,-332.5 32,-378.5 281,-378.5 281,-332.5 32,-332.5\" stroke=\"black\"/>\n",
       "<text font-family=\"Times,serif\" font-size=\"14.00\" text-anchor=\"middle\" x=\"94.5\" y=\"-351.8\">input_5: InputLayer</text>\n",
       "<polyline fill=\"none\" points=\"157,-332.5 157,-378.5 \" stroke=\"black\"/>\n",
       "<text font-family=\"Times,serif\" font-size=\"14.00\" text-anchor=\"middle\" x=\"184.5\" y=\"-363.3\">input:</text>\n",
       "<polyline fill=\"none\" points=\"157,-355.5 212,-355.5 \" stroke=\"black\"/>\n",
       "<text font-family=\"Times,serif\" font-size=\"14.00\" text-anchor=\"middle\" x=\"184.5\" y=\"-340.3\">output:</text>\n",
       "<polyline fill=\"none\" points=\"212,-332.5 212,-378.5 \" stroke=\"black\"/>\n",
       "<text font-family=\"Times,serif\" font-size=\"14.00\" text-anchor=\"middle\" x=\"246.5\" y=\"-363.3\">(None, 1)</text>\n",
       "<polyline fill=\"none\" points=\"212,-355.5 281,-355.5 \" stroke=\"black\"/>\n",
       "<text font-family=\"Times,serif\" font-size=\"14.00\" text-anchor=\"middle\" x=\"246.5\" y=\"-340.3\">(None, 1)</text>\n",
       "</g>\n",
       "<!-- 139675008296048 -->\n",
       "<g class=\"node\" id=\"node2\"><title>139675008296048</title>\n",
       "<polygon fill=\"none\" points=\"0,-249.5 0,-295.5 313,-295.5 313,-249.5 0,-249.5\" stroke=\"black\"/>\n",
       "<text font-family=\"Times,serif\" font-size=\"14.00\" text-anchor=\"middle\" x=\"80.5\" y=\"-268.8\">embedding_1: Embedding</text>\n",
       "<polyline fill=\"none\" points=\"161,-249.5 161,-295.5 \" stroke=\"black\"/>\n",
       "<text font-family=\"Times,serif\" font-size=\"14.00\" text-anchor=\"middle\" x=\"188.5\" y=\"-280.3\">input:</text>\n",
       "<polyline fill=\"none\" points=\"161,-272.5 216,-272.5 \" stroke=\"black\"/>\n",
       "<text font-family=\"Times,serif\" font-size=\"14.00\" text-anchor=\"middle\" x=\"188.5\" y=\"-257.3\">output:</text>\n",
       "<polyline fill=\"none\" points=\"216,-249.5 216,-295.5 \" stroke=\"black\"/>\n",
       "<text font-family=\"Times,serif\" font-size=\"14.00\" text-anchor=\"middle\" x=\"264.5\" y=\"-280.3\">(None, 1)</text>\n",
       "<polyline fill=\"none\" points=\"216,-272.5 313,-272.5 \" stroke=\"black\"/>\n",
       "<text font-family=\"Times,serif\" font-size=\"14.00\" text-anchor=\"middle\" x=\"264.5\" y=\"-257.3\">(None, 1, 123)</text>\n",
       "</g>\n",
       "<!-- 139675007849640&#45;&gt;139675008296048 -->\n",
       "<g class=\"edge\" id=\"edge1\"><title>139675007849640-&gt;139675008296048</title>\n",
       "<path d=\"M156.5,-332.366C156.5,-324.152 156.5,-314.658 156.5,-305.725\" fill=\"none\" stroke=\"black\"/>\n",
       "<polygon fill=\"black\" points=\"160,-305.607 156.5,-295.607 153,-305.607 160,-305.607\" stroke=\"black\"/>\n",
       "</g>\n",
       "<!-- 139675020665856 -->\n",
       "<g class=\"node\" id=\"node4\"><title>139675020665856</title>\n",
       "<polygon fill=\"none\" points=\"25.5,-166.5 25.5,-212.5 287.5,-212.5 287.5,-166.5 25.5,-166.5\" stroke=\"black\"/>\n",
       "<text font-family=\"Times,serif\" font-size=\"14.00\" text-anchor=\"middle\" x=\"80.5\" y=\"-185.8\">flatten_2: Flatten</text>\n",
       "<polyline fill=\"none\" points=\"135.5,-166.5 135.5,-212.5 \" stroke=\"black\"/>\n",
       "<text font-family=\"Times,serif\" font-size=\"14.00\" text-anchor=\"middle\" x=\"163\" y=\"-197.3\">input:</text>\n",
       "<polyline fill=\"none\" points=\"135.5,-189.5 190.5,-189.5 \" stroke=\"black\"/>\n",
       "<text font-family=\"Times,serif\" font-size=\"14.00\" text-anchor=\"middle\" x=\"163\" y=\"-174.3\">output:</text>\n",
       "<polyline fill=\"none\" points=\"190.5,-166.5 190.5,-212.5 \" stroke=\"black\"/>\n",
       "<text font-family=\"Times,serif\" font-size=\"14.00\" text-anchor=\"middle\" x=\"239\" y=\"-197.3\">(None, 1, 123)</text>\n",
       "<polyline fill=\"none\" points=\"190.5,-189.5 287.5,-189.5 \" stroke=\"black\"/>\n",
       "<text font-family=\"Times,serif\" font-size=\"14.00\" text-anchor=\"middle\" x=\"239\" y=\"-174.3\">(None, 123)</text>\n",
       "</g>\n",
       "<!-- 139675008296048&#45;&gt;139675020665856 -->\n",
       "<g class=\"edge\" id=\"edge2\"><title>139675008296048-&gt;139675020665856</title>\n",
       "<path d=\"M156.5,-249.366C156.5,-241.152 156.5,-231.658 156.5,-222.725\" fill=\"none\" stroke=\"black\"/>\n",
       "<polygon fill=\"black\" points=\"160,-222.607 156.5,-212.607 153,-222.607 160,-222.607\" stroke=\"black\"/>\n",
       "</g>\n",
       "<!-- 139675007745720 -->\n",
       "<g class=\"node\" id=\"node3\"><title>139675007745720</title>\n",
       "<polygon fill=\"none\" points=\"306,-166.5 306,-212.5 569,-212.5 569,-166.5 306,-166.5\" stroke=\"black\"/>\n",
       "<text font-family=\"Times,serif\" font-size=\"14.00\" text-anchor=\"middle\" x=\"368.5\" y=\"-185.8\">input_4: InputLayer</text>\n",
       "<polyline fill=\"none\" points=\"431,-166.5 431,-212.5 \" stroke=\"black\"/>\n",
       "<text font-family=\"Times,serif\" font-size=\"14.00\" text-anchor=\"middle\" x=\"458.5\" y=\"-197.3\">input:</text>\n",
       "<polyline fill=\"none\" points=\"431,-189.5 486,-189.5 \" stroke=\"black\"/>\n",
       "<text font-family=\"Times,serif\" font-size=\"14.00\" text-anchor=\"middle\" x=\"458.5\" y=\"-174.3\">output:</text>\n",
       "<polyline fill=\"none\" points=\"486,-166.5 486,-212.5 \" stroke=\"black\"/>\n",
       "<text font-family=\"Times,serif\" font-size=\"14.00\" text-anchor=\"middle\" x=\"527.5\" y=\"-197.3\">(None, 123)</text>\n",
       "<polyline fill=\"none\" points=\"486,-189.5 569,-189.5 \" stroke=\"black\"/>\n",
       "<text font-family=\"Times,serif\" font-size=\"14.00\" text-anchor=\"middle\" x=\"527.5\" y=\"-174.3\">(None, 123)</text>\n",
       "</g>\n",
       "<!-- 139675009091736 -->\n",
       "<g class=\"node\" id=\"node5\"><title>139675009091736</title>\n",
       "<polygon fill=\"none\" points=\"132.5,-83.5 132.5,-129.5 460.5,-129.5 460.5,-83.5 132.5,-83.5\" stroke=\"black\"/>\n",
       "<text font-family=\"Times,serif\" font-size=\"14.00\" text-anchor=\"middle\" x=\"186.5\" y=\"-102.8\">merge_1: Merge</text>\n",
       "<polyline fill=\"none\" points=\"240.5,-83.5 240.5,-129.5 \" stroke=\"black\"/>\n",
       "<text font-family=\"Times,serif\" font-size=\"14.00\" text-anchor=\"middle\" x=\"268\" y=\"-114.3\">input:</text>\n",
       "<polyline fill=\"none\" points=\"240.5,-106.5 295.5,-106.5 \" stroke=\"black\"/>\n",
       "<text font-family=\"Times,serif\" font-size=\"14.00\" text-anchor=\"middle\" x=\"268\" y=\"-91.3\">output:</text>\n",
       "<polyline fill=\"none\" points=\"295.5,-83.5 295.5,-129.5 \" stroke=\"black\"/>\n",
       "<text font-family=\"Times,serif\" font-size=\"14.00\" text-anchor=\"middle\" x=\"378\" y=\"-114.3\">[(None, 123), (None, 123)]</text>\n",
       "<polyline fill=\"none\" points=\"295.5,-106.5 460.5,-106.5 \" stroke=\"black\"/>\n",
       "<text font-family=\"Times,serif\" font-size=\"14.00\" text-anchor=\"middle\" x=\"378\" y=\"-91.3\">(None, 123)</text>\n",
       "</g>\n",
       "<!-- 139675007745720&#45;&gt;139675009091736 -->\n",
       "<g class=\"edge\" id=\"edge3\"><title>139675007745720-&gt;139675009091736</title>\n",
       "<path d=\"M398.971,-166.366C382.029,-156.634 361.962,-145.106 344.096,-134.842\" fill=\"none\" stroke=\"black\"/>\n",
       "<polygon fill=\"black\" points=\"345.397,-131.553 334.982,-129.607 341.91,-137.623 345.397,-131.553\" stroke=\"black\"/>\n",
       "</g>\n",
       "<!-- 139675020665856&#45;&gt;139675009091736 -->\n",
       "<g class=\"edge\" id=\"edge4\"><title>139675020665856-&gt;139675009091736</title>\n",
       "<path d=\"M194.756,-166.366C211.578,-156.634 231.503,-145.106 249.242,-134.842\" fill=\"none\" stroke=\"black\"/>\n",
       "<polygon fill=\"black\" points=\"251.388,-137.644 258.291,-129.607 247.882,-131.585 251.388,-137.644\" stroke=\"black\"/>\n",
       "</g>\n",
       "<!-- 139675020583488 -->\n",
       "<g class=\"node\" id=\"node6\"><title>139675020583488</title>\n",
       "<polygon fill=\"none\" points=\"135.5,-0.5 135.5,-46.5 457.5,-46.5 457.5,-0.5 135.5,-0.5\" stroke=\"black\"/>\n",
       "<text font-family=\"Times,serif\" font-size=\"14.00\" text-anchor=\"middle\" x=\"210\" y=\"-19.8\">sequential_1: Sequential</text>\n",
       "<polyline fill=\"none\" points=\"284.5,-0.5 284.5,-46.5 \" stroke=\"black\"/>\n",
       "<text font-family=\"Times,serif\" font-size=\"14.00\" text-anchor=\"middle\" x=\"312\" y=\"-31.3\">input:</text>\n",
       "<polyline fill=\"none\" points=\"284.5,-23.5 339.5,-23.5 \" stroke=\"black\"/>\n",
       "<text font-family=\"Times,serif\" font-size=\"14.00\" text-anchor=\"middle\" x=\"312\" y=\"-8.3\">output:</text>\n",
       "<polyline fill=\"none\" points=\"339.5,-0.5 339.5,-46.5 \" stroke=\"black\"/>\n",
       "<text font-family=\"Times,serif\" font-size=\"14.00\" text-anchor=\"middle\" x=\"398.5\" y=\"-31.3\">(None, 123)</text>\n",
       "<polyline fill=\"none\" points=\"339.5,-23.5 457.5,-23.5 \" stroke=\"black\"/>\n",
       "<text font-family=\"Times,serif\" font-size=\"14.00\" text-anchor=\"middle\" x=\"398.5\" y=\"-8.3\">(None, 512, 28, 1)</text>\n",
       "</g>\n",
       "<!-- 139675009091736&#45;&gt;139675020583488 -->\n",
       "<g class=\"edge\" id=\"edge5\"><title>139675009091736-&gt;139675020583488</title>\n",
       "<path d=\"M296.5,-83.3664C296.5,-75.1516 296.5,-65.6579 296.5,-56.7252\" fill=\"none\" stroke=\"black\"/>\n",
       "<polygon fill=\"black\" points=\"300,-56.6068 296.5,-46.6068 293,-56.6069 300,-56.6068\" stroke=\"black\"/>\n",
       "</g>\n",
       "</g>\n",
       "</svg>"
      ],
      "text/plain": [
       "<IPython.core.display.SVG object>"
      ]
     },
     "execution_count": 25,
     "metadata": {},
     "output_type": "execute_result"
    }
   ],
   "source": [
    "model_as_svg(m)"
   ]
  },
  {
   "cell_type": "code",
   "execution_count": 9,
   "metadata": {
    "collapsed": true
   },
   "outputs": [],
   "source": [
    "# batch and latent size taken from the paper\n",
    "nb_epochs = 50\n",
    "batch_size = 100\n",
    "latent_size = 100\n",
    "\n",
    "# Adam parameters suggested in https://arxiv.org/abs/1511.06434\n",
    "adam_lr = 0.0002\n",
    "adam_beta_1 = 0.5"
   ]
  },
  {
   "cell_type": "code",
   "execution_count": null,
   "metadata": {
    "collapsed": true
   },
   "outputs": [],
   "source": [
    "discriminator.compile(\n",
    "    optimizer=SGD(clipvalue=0.01),  #Adam(lr=adam_lr, beta_1=adam_beta_1),\n",
    "    loss=[modified_binary_crossentropy, 'sparse_categorical_crossentropy'])"
   ]
  },
  {
   "cell_type": "code",
   "execution_count": null,
   "metadata": {
    "collapsed": true
   },
   "outputs": [],
   "source": []
  }
 ],
 "metadata": {
  "kernelspec": {
   "display_name": "Python 3",
   "language": "python",
   "name": "python3"
  },
  "language_info": {
   "codemirror_mode": {
    "name": "ipython",
    "version": 3
   },
   "file_extension": ".py",
   "mimetype": "text/x-python",
   "name": "python",
   "nbconvert_exporter": "python",
   "pygments_lexer": "ipython3",
   "version": "3.5.2"
  }
 },
 "nbformat": 4,
 "nbformat_minor": 2
}
