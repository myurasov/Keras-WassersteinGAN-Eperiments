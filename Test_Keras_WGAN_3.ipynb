{
 "cells": [
  {
   "cell_type": "code",
   "execution_count": 1,
   "metadata": {
    "collapsed": true
   },
   "outputs": [],
   "source": [
    "%run 'Lib.ipynb'"
   ]
  },
  {
   "cell_type": "code",
   "execution_count": 2,
   "metadata": {},
   "outputs": [
    {
     "name": "stdout",
     "output_type": "stream",
     "text": [
      "mkdir: cannot create directory ‘out/3b’: File exists\r\n"
     ]
    }
   ],
   "source": [
    "%mkdir 'out/3b'"
   ]
  },
  {
   "cell_type": "code",
   "execution_count": 3,
   "metadata": {
    "collapsed": true
   },
   "outputs": [],
   "source": [
    "from collections import defaultdict\n",
    "import pickle"
   ]
  },
  {
   "cell_type": "code",
   "execution_count": 4,
   "metadata": {
    "collapsed": true,
    "scrolled": true
   },
   "outputs": [],
   "source": [
    "from PIL import Image"
   ]
  },
  {
   "cell_type": "code",
   "execution_count": 5,
   "metadata": {
    "scrolled": true
   },
   "outputs": [
    {
     "name": "stderr",
     "output_type": "stream",
     "text": [
      "Using TensorFlow backend.\n"
     ]
    }
   ],
   "source": [
    "import keras.backend as K\n",
    "from keras.datasets import mnist\n",
    "from keras.layers import *\n",
    "from keras.layers.convolutional import *\n",
    "from keras.layers.noise import GaussianNoise\n",
    "from keras.layers.advanced_activations import LeakyReLU\n",
    "from keras.models import Sequential, Model\n",
    "from keras.optimizers import *\n",
    "from keras.backend.common import _EPSILON\n",
    "from keras.utils.generic_utils import Progbar"
   ]
  },
  {
   "cell_type": "code",
   "execution_count": 6,
   "metadata": {
    "collapsed": true
   },
   "outputs": [],
   "source": [
    "Z_SIZE = 100\n",
    "\n",
    "# batch and latent size taken from the paper\n",
    "EPOCHS = 50\n",
    "BATCH_SIZE = 100\n",
    "\n",
    "# Adam parameters suggested in https://arxiv.org/abs/1511.06434\n",
    "ADAM_LR = 0.0002\n",
    "ADAM_BETA_1 = 0.5"
   ]
  },
  {
   "cell_type": "code",
   "execution_count": 7,
   "metadata": {
    "collapsed": true
   },
   "outputs": [],
   "source": [
    "np.random.seed(777)"
   ]
  },
  {
   "cell_type": "code",
   "execution_count": 8,
   "metadata": {
    "collapsed": true
   },
   "outputs": [],
   "source": [
    "K.set_image_dim_ordering('tf')"
   ]
  },
  {
   "cell_type": "code",
   "execution_count": 9,
   "metadata": {
    "collapsed": true
   },
   "outputs": [],
   "source": [
    "# ???\n",
    "def modified_binary_crossentropy(y_true, y_pred):\n",
    "#     output = K.clip(output, _EPSILON, 1.0 - _EPSILON)\n",
    "#     return -(target * output + (1.0 - target) * (1.0 - output))\n",
    "    return K.mean(y_true * y_pred)"
   ]
  },
  {
   "cell_type": "code",
   "execution_count": 10,
   "metadata": {
    "collapsed": true
   },
   "outputs": [],
   "source": [
    "def create_D():\n",
    "    input_image = Input(shape=(28, 28, 1), name='input_image')\n",
    "\n",
    "    x = Conv2D(32, (3, 3), padding='same', name='conv_1')(input_image)\n",
    "    x = LeakyReLU()(x)\n",
    "    x = MaxPool2D(pool_size=2)(x)\n",
    "    x = Dropout(0.3)(x)\n",
    "\n",
    "    x = Conv2D(64, (3, 3), padding='same', name='conv_2')(x)\n",
    "    x = MaxPool2D(pool_size=1)(x)\n",
    "    x = LeakyReLU()(x)\n",
    "    x = Dropout(0.3)(x)\n",
    "\n",
    "    x = Conv2D(128, (3, 3), padding='same', name='conv_3')(x)\n",
    "    x = MaxPool2D(pool_size=2)(x)\n",
    "    x = LeakyReLU()(x)\n",
    "    x = Dropout(0.3)(x)\n",
    "\n",
    "    x = Conv2D(256, (3, 3), padding='same', name='coonv_4')(x)\n",
    "    x = MaxPool2D(pool_size=1)(x)\n",
    "    x = LeakyReLU()(x)\n",
    "    x = Dropout(0.3)(x)\n",
    "\n",
    "    features = Flatten()(x)\n",
    "\n",
    "    output_is_fake = Dense(\n",
    "        1, activation='linear', name='output_is_fake')(features)\n",
    "    output_class = Dense(\n",
    "        10, activation='softmax', name='output_class')(features)\n",
    "\n",
    "    return Model(inputs=[input_image], outputs=[output_is_fake, output_class], name='D')"
   ]
  },
  {
   "cell_type": "code",
   "execution_count": 11,
   "metadata": {
    "collapsed": true
   },
   "outputs": [],
   "source": [
    "def create_G(Z_SIZE=Z_SIZE):\n",
    "    DICT_LEN = 10\n",
    "    EMBEDDING_LEN = Z_SIZE\n",
    "\n",
    "    # class#\n",
    "    input_class = Input(shape=(1, ), dtype='int32', name='input_class')\n",
    "    # encode class# to the same size as Z to use hadamard multiplication later on\n",
    "    e = Embedding(\n",
    "        DICT_LEN, EMBEDDING_LEN,\n",
    "        embeddings_initializer='glorot_uniform')(input_class)\n",
    "    embedded_class = Flatten(name='embedded_class')(e)\n",
    "\n",
    "    # latent var\n",
    "    input_z = Input(shape=(Z_SIZE, ), name='input_z')\n",
    "\n",
    "    # hadamard product\n",
    "    h = multiply([input_z, embedded_class], name='h')\n",
    "\n",
    "    # cnn part\n",
    "    x = Dense(1024)(h)\n",
    "    x = LeakyReLU()(x)\n",
    "\n",
    "    x = Dense(128 * 7 * 7)(x)\n",
    "    x = LeakyReLU()(x)\n",
    "    x = Reshape((7, 7, 128))(x)\n",
    "\n",
    "    x = UpSampling2D(size=(2, 2))(x)\n",
    "    x = Conv2D(256, (5, 5), padding='same')(x)\n",
    "    x = LeakyReLU()(x)\n",
    "\n",
    "    x = UpSampling2D(size=(2, 2))(x)\n",
    "    x = Conv2D(128, (5, 5), padding='same')(x)\n",
    "    x = LeakyReLU()(x)\n",
    "\n",
    "    x = Conv2D(1, (2, 2), padding='same', activation='tanh', name='output_generated_image')(x)\n",
    "\n",
    "    return Model(inputs=[input_z, input_class], outputs=x, name='G')"
   ]
  },
  {
   "cell_type": "code",
   "execution_count": 12,
   "metadata": {
    "collapsed": true
   },
   "outputs": [],
   "source": [
    "D = create_D()\n",
    "\n",
    "D.compile(\n",
    "    optimizer=SGD(clipvalue=0.01),\n",
    "    loss=[modified_binary_crossentropy, 'sparse_categorical_crossentropy'])"
   ]
  },
  {
   "cell_type": "code",
   "execution_count": 13,
   "metadata": {
    "collapsed": true
   },
   "outputs": [],
   "source": [
    "G = create_G()\n",
    "\n",
    "G.compile(\n",
    "    optimizer=Adam(lr=ADAM_LR, beta_1=ADAM_BETA_1), loss='binary_crossentropy')"
   ]
  },
  {
   "cell_type": "code",
   "execution_count": 14,
   "metadata": {
    "collapsed": true
   },
   "outputs": [],
   "source": [
    "input_z = Input(shape=(Z_SIZE, ), name='input_z_')\n",
    "input_class = Input(shape=(1, ),name='input_class_', dtype='int32')"
   ]
  },
  {
   "cell_type": "code",
   "execution_count": 15,
   "metadata": {
    "collapsed": true
   },
   "outputs": [],
   "source": [
    "# create combined D(G) model\n",
    "# D.trainable = False\n",
    "output_is_fake, output_class = D(G(inputs=[input_z, input_class]))\n",
    "combined = Model(inputs=[input_z, input_class], outputs=[output_is_fake, output_class])\n",
    "combined.get_layer('D').trainable = False # freeze D in generator training faze\n",
    "\n",
    "combined.compile(\n",
    "    optimizer='RMSprop',\n",
    "    loss=[modified_binary_crossentropy, 'sparse_categorical_crossentropy']\n",
    ")"
   ]
  },
  {
   "cell_type": "code",
   "execution_count": 16,
   "metadata": {},
   "outputs": [
    {
     "data": {
      "text/plain": [
       "<matplotlib.image.AxesImage at 0x7fcf0446bf60>"
      ]
     },
     "execution_count": 16,
     "metadata": {},
     "output_type": "execute_result"
    },
    {
     "data": {
      "image/png": "[encoded data removed]",
      "text/plain": [
       "<matplotlib.figure.Figure at 0x7fcf08ebf7f0>"
      ]
     },
     "metadata": {
      "image/png": {
       "height": 250,
       "width": 253
      }
     },
     "output_type": "display_data"
    }
   ],
   "source": [
    "# try generating image\n",
    "\n",
    "z = np.random.randn(100).reshape(1, 100)\n",
    "img = G.predict([z, np.array([8])])\n",
    "plt.imshow(img.reshape((28, 28)), cmap=plt.cm.gray)"
   ]
  },
  {
   "cell_type": "code",
   "execution_count": 17,
   "metadata": {
    "collapsed": true
   },
   "outputs": [],
   "source": [
    "# get our mnist data, and force it to be of shape (..., 28, 28, 1) with\n",
    "# range [-1., 1.]\n",
    "(X_train, y_train), (X_test, y_test) = mnist.load_data()\n",
    "X_train = (X_train.astype(np.float32) - 127.5) / 127.5\n",
    "X_train = np.expand_dims(X_train, axis=3)\n",
    "\n",
    "X_test = (X_test.astype(np.float32) - 127.5) / 127.5\n",
    "X_test = np.expand_dims(X_test, axis=3)"
   ]
  },
  {
   "cell_type": "code",
   "execution_count": 18,
   "metadata": {},
   "outputs": [
    {
     "data": {
      "text/plain": [
       "<matplotlib.image.AxesImage at 0x7fcf03dfdf60>"
      ]
     },
     "execution_count": 18,
     "metadata": {},
     "output_type": "execute_result"
    },
    {
     "data": {
      "image/png": "[encoded data removed]",
      "text/plain": [
       "<matplotlib.figure.Figure at 0x7fcf0449d668>"
      ]
     },
     "metadata": {
      "image/png": {
       "height": 250,
       "width": 253
      }
     },
     "output_type": "display_data"
    }
   ],
   "source": [
    "plt.imshow(X_train[777].reshape((28, 28)), cmap=plt.cm.gray)"
   ]
  },
  {
   "cell_type": "code",
   "execution_count": 19,
   "metadata": {
    "collapsed": true
   },
   "outputs": [],
   "source": [
    "train_num_samples, test_num_samples = X_train.shape[0], X_test.shape[0]"
   ]
  },
  {
   "cell_type": "code",
   "execution_count": 20,
   "metadata": {
    "collapsed": true
   },
   "outputs": [],
   "source": [
    "train_history = defaultdict(list)\n",
    "test_history = defaultdict(list)"
   ]
  },
  {
   "cell_type": "code",
   "execution_count": 30,
   "metadata": {
    "collapsed": true
   },
   "outputs": [],
   "source": [
    "def save_generated_samples(epoch, G):\n",
    "\n",
    "    # new batch of z's\n",
    "    zz = np.random.normal(0., 1., (100, Z_SIZE))\n",
    "\n",
    "    # new batch of classes [0..9]\n",
    "    generated_classes = np.array(list(range(0, 10)) * 10, dtype=np.int32)\n",
    "\n",
    "    generated_images = G.predict([zz, generated_classes.reshape(-1, 1)])\n",
    "\n",
    "    rr = []\n",
    "    for c in range(10):\n",
    "        rr.append(\n",
    "            np.concatenate(generated_images[c * 10:(1 + c) * 10]).reshape(\n",
    "                280, 28))\n",
    "    img = np.hstack(rr)\n",
    "\n",
    "    plt.imsave('out/3b/generated-e%d.png' % epoch, img, cmap=plt.cm.gray)"
   ]
  },
  {
   "cell_type": "code",
   "execution_count": null,
   "metadata": {},
   "outputs": [
    {
     "name": "stdout",
     "output_type": "stream",
     "text": [
      "\n",
      "Epoch 1 / 50\n",
      "599/600 [============================>.] - ETA: 0s - D_loss: 2.0345 - D(G)_loss: 2.1246\n",
      "D: ['loss', 'output_is_fake_loss', 'output_class_loss']\n",
      "[1.4295319318771362, 0.007126178592443466, 1.4224066734313965]\n",
      "D(G): ['loss', 'D_loss', 'D_loss']\n",
      "[1.1916042566299438, -0.14951910078525543, 1.341122031211853]\n",
      "\n",
      "Epoch 2 / 50\n",
      "599/600 [============================>.] - ETA: 0s - D_loss: 0.3197 - D(G)_loss: -0.9730\n",
      "D: ['loss', 'output_is_fake_loss', 'output_class_loss']\n",
      "[0.2895541489124298, 0.02179291844367981, 0.26776131987571716]\n",
      "D(G): ['loss', 'D_loss', 'D_loss']\n",
      "[-0.9964799880981445, -1.0358372926712036, 0.03935704007744789]\n",
      "\n",
      "Epoch 3 / 50\n",
      "599/600 [============================>.] - ETA: 0s - D_loss: 0.2420 - D(G)_loss: -1.1303\n",
      "D: ['loss', 'output_is_fake_loss', 'output_class_loss']\n",
      "[0.2277207374572754, 0.02510138787329197, 0.20261940360069275]\n",
      "D(G): ['loss', 'D_loss', 'D_loss']\n",
      "[-1.2031484842300415, -1.2249082326889038, 0.02175978571176529]\n",
      "\n",
      "Epoch 4 / 50\n",
      "599/600 [============================>.] - ETA: 0s - D_loss: 0.1985 - D(G)_loss: -1.3284\n",
      "D: ['loss', 'output_is_fake_loss', 'output_class_loss']\n",
      "[0.1903405636548996, 0.022692296653985977, 0.1676482856273651]\n",
      "D(G): ['loss', 'D_loss', 'D_loss']\n",
      "[-1.351906180381775, -1.369633674621582, 0.01772717945277691]\n",
      "\n",
      "Epoch 5 / 50\n",
      "599/600 [============================>.] - ETA: 0s - D_loss: 0.1744 - D(G)_loss: -1.4190\n",
      "D: ['loss', 'output_is_fake_loss', 'output_class_loss']\n",
      "[0.16386793553829193, 0.02202387899160385, 0.14184384047985077]\n",
      "D(G): ['loss', 'D_loss', 'D_loss']\n",
      "[-1.4457952976226807, -1.4603002071380615, 0.014505265280604362]\n",
      "\n",
      "Epoch 6 / 50\n",
      "599/600 [============================>.] - ETA: 0s - D_loss: 0.1497 - D(G)_loss: -1.4317\n",
      "D: ['loss', 'output_is_fake_loss', 'output_class_loss']\n",
      "[0.14311623573303223, 0.023205004632472992, 0.11991121619939804]\n",
      "D(G): ['loss', 'D_loss', 'D_loss']\n",
      "[-1.4254313707351685, -1.4386833906173706, 0.01325148344039917]\n",
      "\n",
      "Epoch 7 / 50\n",
      "599/600 [============================>.] - ETA: 0s - D_loss: 0.1314 - D(G)_loss: -1.3282\n",
      "D: ['loss', 'output_is_fake_loss', 'output_class_loss']\n",
      "[0.12416395545005798, 0.021082395687699318, 0.1030815914273262]\n",
      "D(G): ['loss', 'D_loss', 'D_loss']\n",
      "[-1.3116395473480225, -1.324163556098938, 0.01252397708594799]\n",
      "\n",
      "Epoch 8 / 50\n",
      "599/600 [============================>.] - ETA: 0s - D_loss: 0.1163 - D(G)_loss: -1.3642\n",
      "D: ['loss', 'output_is_fake_loss', 'output_class_loss']\n",
      "[0.11080408841371536, 0.01979309692978859, 0.09101099520921707]\n",
      "D(G): ['loss', 'D_loss', 'D_loss']\n",
      "[-1.362634539604187, -1.3742790222167969, 0.011644350364804268]\n",
      "\n",
      "Epoch 9 / 50\n",
      "599/600 [============================>.] - ETA: 0s - D_loss: 0.1089 - D(G)_loss: -1.4112\n",
      "D: ['loss', 'output_is_fake_loss', 'output_class_loss']\n",
      "[0.1047215610742569, 0.021085171028971672, 0.08363644033670425]\n",
      "D(G): ['loss', 'D_loss', 'D_loss']\n",
      "[-1.3947144746780396, -1.4052934646606445, 0.010579311288893223]\n",
      "\n",
      "Epoch 10 / 50\n",
      "599/600 [============================>.] - ETA: 0s - D_loss: 0.1002 - D(G)_loss: -1.4052\n",
      "D: ['loss', 'output_is_fake_loss', 'output_class_loss']\n",
      "[0.09708385914564133, 0.019626904278993607, 0.07745696604251862]\n",
      "D(G): ['loss', 'D_loss', 'D_loss']\n",
      "[-1.423093557357788, -1.4335596561431885, 0.010466351173818111]\n",
      "\n",
      "Epoch 11 / 50\n",
      "599/600 [============================>.] - ETA: 0s - D_loss: 0.0897 - D(G)_loss: -1.4525\n",
      "D: ['loss', 'output_is_fake_loss', 'output_class_loss']\n",
      "[0.09015941619873047, 0.018024856224656105, 0.07213465869426727]\n",
      "D(G): ['loss', 'D_loss', 'D_loss']\n",
      "[-1.4390769004821777, -1.4497100114822388, 0.010632652789354324]\n",
      "\n",
      "Epoch 12 / 50\n",
      "599/600 [============================>.] - ETA: 0s - D_loss: 0.0867 - D(G)_loss: -1.4937\n",
      "D: ['loss', 'output_is_fake_loss', 'output_class_loss']\n",
      "[0.08631152659654617, 0.018165769055485725, 0.06814570724964142]\n",
      "D(G): ['loss', 'D_loss', 'D_loss']\n",
      "[-1.491133213043213, -1.501743197441101, 0.010610190220177174]\n",
      "\n",
      "Epoch 13 / 50\n",
      "599/600 [============================>.] - ETA: 0s - D_loss: 0.0819 - D(G)_loss: -1.4956\n",
      "D: ['loss', 'output_is_fake_loss', 'output_class_loss']\n",
      "[0.08112640678882599, 0.015959858894348145, 0.06516655534505844]\n",
      "D(G): ['loss', 'D_loss', 'D_loss']\n",
      "[-1.526281714439392, -1.5361688137054443, 0.009886905550956726]\n",
      "\n",
      "Epoch 14 / 50\n",
      "599/600 [============================>.] - ETA: 0s - D_loss: 0.0824 - D(G)_loss: -1.5684\n",
      "D: ['loss', 'output_is_fake_loss', 'output_class_loss']\n",
      "[0.07946400344371796, 0.016786841675639153, 0.06267714500427246]\n",
      "D(G): ['loss', 'D_loss', 'D_loss']\n",
      "[-1.6114895343780518, -1.6210700273513794, 0.009580316953361034]\n",
      "\n",
      "Epoch 15 / 50\n",
      "599/600 [============================>.] - ETA: 0s - D_loss: 0.0771 - D(G)_loss: -1.6606\n",
      "D: ['loss', 'output_is_fake_loss', 'output_class_loss']\n",
      "[0.07647522538900375, 0.01725499890744686, 0.05922023952007294]\n",
      "D(G): ['loss', 'D_loss', 'D_loss']\n",
      "[-1.672945261001587, -1.6826616525650024, 0.009717349894344807]\n",
      "\n",
      "Epoch 16 / 50\n",
      "599/600 [============================>.] - ETA: 0s - D_loss: 0.0670 - D(G)_loss: -2.0327\n",
      "D: ['loss', 'output_is_fake_loss', 'output_class_loss']\n",
      "[0.06483405828475952, 0.01636074110865593, 0.04847333952784538]\n",
      "D(G): ['loss', 'D_loss', 'D_loss']\n",
      "[-2.102656602859497, -2.1122970581054688, 0.009639644995331764]\n",
      "\n",
      "Epoch 23 / 50\n",
      "599/600 [============================>.] - ETA: 0s - D_loss: 0.0557 - D(G)_loss: -2.4991\n",
      "D: ['loss', 'output_is_fake_loss', 'output_class_loss']\n",
      "[0.055296674370765686, 0.014965793117880821, 0.040330883115530014]\n",
      "D(G): ['loss', 'D_loss', 'D_loss']\n",
      "[-2.5729787349700928, -2.5807578563690186, 0.0077809556387364864]\n",
      "\n",
      "Epoch 35 / 50\n",
      "599/600 [============================>.] - ETA: 0s - D_loss: 0.0529 - D(G)_loss: -2.6307\n",
      "D: ['loss', 'output_is_fake_loss', 'output_class_loss']\n",
      "[0.05384095385670662, 0.013897421769797802, 0.039943497627973557]\n",
      "D(G): ['loss', 'D_loss', 'D_loss']\n",
      "[-2.710481882095337, -2.718869924545288, 0.008388523943722248]\n",
      "\n",
      "Epoch 36 / 50\n",
      "599/600 [============================>.] - ETA: 0s - D_loss: 0.0585 - D(G)_loss: -2.7697\n",
      "D: ['loss', 'output_is_fake_loss', 'output_class_loss']\n",
      "[0.0560920387506485, 0.016524039208889008, 0.03956795856356621]\n",
      "D(G): ['loss', 'D_loss', 'D_loss']\n",
      "[-2.787222385406494, -2.7955551147460938, 0.008332562632858753]\n",
      "\n",
      "Epoch 37 / 50\n",
      "599/600 [============================>.] - ETA: 0s - D_loss: 0.0543 - D(G)_loss: -2.7803\n",
      "D: ['loss', 'output_is_fake_loss', 'output_class_loss']\n",
      "[0.05340272933244705, 0.014148402027785778, 0.039254333823919296]\n",
      "D(G): ['loss', 'D_loss', 'D_loss']\n",
      "[-2.7528059482574463, -2.7616002559661865, 0.008795344270765781]\n",
      "\n",
      "Epoch 38 / 50\n",
      "599/600 [============================>.] - ETA: 0s - D_loss: 0.0524 - D(G)_loss: -2.8259\n",
      "D: ['loss', 'output_is_fake_loss', 'output_class_loss']\n",
      "[0.05302724614739418, 0.014955083839595318, 0.038072146475315094]\n",
      "D(G): ['loss', 'D_loss', 'D_loss']\n",
      "[-2.8587515354156494, -2.8669991493225098, 0.008245622739195824]\n",
      "\n",
      "Epoch 39 / 50\n",
      "599/600 [============================>.] - ETA: 0s - D_loss: 0.0507 - D(G)_loss: -2.7792\n",
      "D: ['loss', 'output_is_fake_loss', 'output_class_loss']\n",
      "[0.04981032758951187, 0.01220142375677824, 0.03760889917612076]\n",
      "D(G): ['loss', 'D_loss', 'D_loss']\n",
      "[-2.7829856872558594, -2.790847063064575, 0.007861158810555935]\n",
      "\n",
      "Epoch 40 / 50\n",
      "599/600 [============================>.] - ETA: 0s - D_loss: 0.0524 - D(G)_loss: -2.8386\n",
      "D: ['loss', 'output_is_fake_loss', 'output_class_loss']\n",
      "[0.05366689711809158, 0.016249196603894234, 0.037417683750391006]\n",
      "D(G): ['loss', 'D_loss', 'D_loss']\n",
      "[-2.828339099884033, -2.836601734161377, 0.008265404962003231]\n",
      "\n",
      "Epoch 41 / 50\n",
      "599/600 [============================>.] - ETA: 0s - D_loss: 0.0525 - D(G)_loss: -2.7590\n",
      "D: ['loss', 'output_is_fake_loss', 'output_class_loss']\n",
      "[0.052686214447021484, 0.015898875892162323, 0.03678734600543976]\n",
      "D(G): ['loss', 'D_loss', 'D_loss']\n",
      "[-2.784984827041626, -2.793124198913574, 0.008140106685459614]\n",
      "\n",
      "Epoch 42 / 50\n",
      "599/600 [============================>.] - ETA: 0s - D_loss: 0.0502 - D(G)_loss: -2.8257\n",
      "D: ['loss', 'output_is_fake_loss', 'output_class_loss']\n",
      "[0.05159994587302208, 0.014780217781662941, 0.036819733679294586]\n",
      "D(G): ['loss', 'D_loss', 'D_loss']\n",
      "[-2.850041627883911, -2.8573296070098877, 0.0072892215102910995]\n",
      "\n",
      "Epoch 43 / 50\n",
      "599/600 [============================>.] - ETA: 0s - D_loss: 0.0502 - D(G)_loss: -2.8971\n",
      "D: ['loss', 'output_is_fake_loss', 'output_class_loss']\n",
      "[0.04876039922237396, 0.012949571013450623, 0.03581084683537483]\n",
      "D(G): ['loss', 'D_loss', 'D_loss']\n",
      "[-2.895810842514038, -2.903877019882202, 0.008066510781645775]\n",
      "\n",
      "Epoch 44 / 50\n"
     ]
    },
    {
     "name": "stdout",
     "output_type": "stream",
     "text": [
      "599/600 [============================>.] - ETA: 0s - D_loss: 0.0534 - D(G)_loss: -2.9033\n",
      "D: ['loss', 'output_is_fake_loss', 'output_class_loss']\n",
      "[0.05069008097052574, 0.014183834195137024, 0.036506250500679016]\n",
      "D(G): ['loss', 'D_loss', 'D_loss']\n",
      "[-2.953293561935425, -2.960998058319092, 0.007704651448875666]\n",
      "\n",
      "Epoch 45 / 50\n",
      "599/600 [============================>.] - ETA: 0s - D_loss: 0.0485 - D(G)_loss: -2.8524\n",
      "D: ['loss', 'output_is_fake_loss', 'output_class_loss']\n",
      "[0.048887740820646286, 0.01393364928662777, 0.03495410457253456]\n",
      "D(G): ['loss', 'D_loss', 'D_loss']\n",
      "[-2.836778163909912, -2.844243049621582, 0.007463573478162289]\n",
      "\n",
      "Epoch 46 / 50\n",
      "599/600 [============================>.] - ETA: 0s - D_loss: 0.0533 - D(G)_loss: -2.8249\n",
      "D: ['loss', 'output_is_fake_loss', 'output_class_loss']\n",
      "[0.05112990364432335, 0.015551096759736538, 0.03557882085442543]\n",
      "D(G): ['loss', 'D_loss', 'D_loss']\n",
      "[-2.920527696609497, -2.9281723499298096, 0.007643483579158783]\n",
      "\n",
      "Epoch 47 / 50\n",
      "599/600 [============================>.] - ETA: 0s - D_loss: 0.0493 - D(G)_loss: -2.9619\n",
      "D: ['loss', 'output_is_fake_loss', 'output_class_loss']\n",
      "[0.04827269911766052, 0.013274604454636574, 0.03499805927276611]\n",
      "D(G): ['loss', 'D_loss', 'D_loss']\n",
      "[-2.9625837802886963, -2.9704604148864746, 0.007877292111515999]\n",
      "\n",
      "Epoch 48 / 50\n",
      "599/600 [============================>.] - ETA: 0s - D_loss: 0.0493 - D(G)_loss: -3.0037\n",
      "D: ['loss', 'output_is_fake_loss', 'output_class_loss']\n",
      "[0.048888325691223145, 0.014086763374507427, 0.03480154275894165]\n",
      "D(G): ['loss', 'D_loss', 'D_loss']\n",
      "[-3.0110976696014404, -3.018357276916504, 0.007258192636072636]\n",
      "\n",
      "Epoch 49 / 50\n",
      "599/600 [============================>.] - ETA: 0s - D_loss: 0.0529 - D(G)_loss: -2.8143\n",
      "D: ['loss', 'output_is_fake_loss', 'output_class_loss']\n",
      "[0.05034257099032402, 0.015547797083854675, 0.034794822335243225]\n",
      "D(G): ['loss', 'D_loss', 'D_loss']\n",
      "[-2.8083715438842773, -2.8161604404449463, 0.007790946867316961]\n",
      "\n",
      "Epoch 50 / 50\n",
      "599/600 [============================>.] - ETA: 0s - D_loss: 0.0462 - D(G)_loss: -2.9388\n",
      "D: ['loss', 'output_is_fake_loss', 'output_class_loss']\n",
      "[0.046343132853507996, 0.01200808584690094, 0.034335024654865265]\n",
      "D(G): ['loss', 'D_loss', 'D_loss']\n",
      "[-2.976073741912842, -2.9840409755706787, 0.007966369390487671]\n"
     ]
    }
   ],
   "source": [
    "for epoch in range(EPOCHS):\n",
    "\n",
    "    print('\\nEpoch {} / {}'.format(epoch + 1, EPOCHS))\n",
    "\n",
    "    batches_num = int(train_num_samples / BATCH_SIZE)\n",
    "    progress_bar = Progbar(target=batches_num)\n",
    "\n",
    "    epoch_combined_losses = []\n",
    "    epoch_D_losses = []\n",
    "\n",
    "    for batch_i in range(batches_num):\n",
    "\n",
    "        if len(epoch_D_losses) + len(epoch_combined_losses) > 1:\n",
    "            progress_bar.update(\n",
    "                batch_i,\n",
    "                values=[\n",
    "                        ('D_loss', np.mean(np.array(epoch_D_losses), axis=0)[0]),\n",
    "                        ('D(G)_loss', np.mean(np.array(epoch_combined_losses),axis=0)[0])\n",
    "                ]\n",
    "            )\n",
    "        else:\n",
    "            progress_bar.update(batch_i)\n",
    "            \n",
    "        # 1: train D on real+generated images\n",
    "            \n",
    "        # create batches of images and labels\n",
    "        real_images = X_train[batch_i * BATCH_SIZE:(batch_i + 1) * BATCH_SIZE]\n",
    "        real_images_classes = y_train[batch_i * BATCH_SIZE:(batch_i + 1) * BATCH_SIZE]\n",
    "        \n",
    "        # new batch of z's\n",
    "        zz = np.random.normal(0., 1., (BATCH_SIZE, Z_SIZE))\n",
    "        \n",
    "        # new batch of classes [0..9]\n",
    "        generated_classes = np.random.randint(0, 10, BATCH_SIZE)\n",
    "        \n",
    "        generated_images = G.predict([zz, generated_classes.reshape(-1, 1)])\n",
    "        \n",
    "        X = np.concatenate((real_images, generated_images))\n",
    "        y_is_fake = np.array([-1] * BATCH_SIZE + [1] * BATCH_SIZE) # [is_fake=-1xBATCH_SIZE, 1xBATCH_SIZE]\n",
    "        y_classes = np.concatenate((real_images_classes, generated_classes))\n",
    "        \n",
    "        # train \n",
    "        D_losses = D.train_on_batch(X, [y_is_fake, y_classes])\n",
    "        epoch_D_losses.append(D_losses)\n",
    "        \n",
    "        \n",
    "        # 2: train D(G) (only G is trainable)\n",
    "        \n",
    "        # 2x so G is trained for the same number of images\n",
    "        # as D above (which is trained on real+generated)\n",
    "        zz = np.random.normal(0., 1., (2 * BATCH_SIZE, Z_SIZE)) \n",
    "        generated_classes = np.random.randint(0, 10, 2 * BATCH_SIZE)\n",
    "\n",
    "        y_is_fake = -np.ones(2 * BATCH_SIZE) # all not-fake\n",
    "\n",
    "        combined_losses = combined.train_on_batch(\n",
    "            [zz, generated_classes.reshape((-1, 1))],\n",
    "            [y_is_fake, generated_classes])\n",
    "        \n",
    "        epoch_combined_losses.append(combined_losses)\n",
    "        \n",
    "    print('\\nD:', D.metrics_names)\n",
    "    print(np.mean(np.array(epoch_D_losses), axis=0).tolist())\n",
    "    \n",
    "    print('D(G):', combined.metrics_names)\n",
    "    print(np.mean(np.array(epoch_combined_losses), axis=0).tolist())\n",
    "    \n",
    "    save_generated_samples(epoch, G)"
   ]
  },
  {
   "cell_type": "code",
   "execution_count": 31,
   "metadata": {
    "collapsed": true
   },
   "outputs": [],
   "source": [
    "save_generated_samples(101, G)"
   ]
  },
  {
   "cell_type": "code",
   "execution_count": null,
   "metadata": {
    "collapsed": true
   },
   "outputs": [],
   "source": []
  }
 ],
 "metadata": {
  "gist": {
   "data": {
    "description": "Keras  WACGAN",
    "public": false
   },
   "id": ""
  },
  "kernelspec": {
   "display_name": "Python 3",
   "language": "python",
   "name": "python3"
  },
  "language_info": {
   "codemirror_mode": {
    "name": "ipython",
    "version": 3
   },
   "file_extension": ".py",
   "mimetype": "text/x-python",
   "name": "python",
   "nbconvert_exporter": "python",
   "pygments_lexer": "ipython3",
   "version": "3.5.2"
  }
 },
 "nbformat": 4,
 "nbformat_minor": 2
}
