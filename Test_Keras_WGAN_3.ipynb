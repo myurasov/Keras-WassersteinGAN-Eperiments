{
 "cells": [
  {
   "cell_type": "code",
   "execution_count": 1,
   "metadata": {
    "collapsed": true
   },
   "outputs": [],
   "source": [
    "%run 'Lib.ipynb'"
   ]
  },
  {
   "cell_type": "code",
   "execution_count": 2,
   "metadata": {},
   "outputs": [
    {
     "name": "stdout",
     "output_type": "stream",
     "text": [
      "mkdir: cannot create directory ‘out’: File exists\r\n"
     ]
    }
   ],
   "source": [
    "%mkdir 'out'"
   ]
  },
  {
   "cell_type": "code",
   "execution_count": 3,
   "metadata": {
    "collapsed": true
   },
   "outputs": [],
   "source": [
    "from collections import defaultdict\n",
    "import pickle"
   ]
  },
  {
   "cell_type": "code",
   "execution_count": 4,
   "metadata": {
    "collapsed": true,
    "scrolled": true
   },
   "outputs": [],
   "source": [
    "from PIL import Image"
   ]
  },
  {
   "cell_type": "code",
   "execution_count": 5,
   "metadata": {
    "scrolled": true
   },
   "outputs": [
    {
     "name": "stderr",
     "output_type": "stream",
     "text": [
      "Using TensorFlow backend.\n"
     ]
    }
   ],
   "source": [
    "import keras.backend as K\n",
    "from keras.datasets import mnist\n",
    "from keras.layers import *\n",
    "from keras.layers.convolutional import *\n",
    "from keras.layers.noise import GaussianNoise\n",
    "from keras.layers.advanced_activations import LeakyReLU\n",
    "from keras.models import Sequential, Model\n",
    "from keras.optimizers import *\n",
    "from keras.backend.common import _EPSILON\n",
    "from keras.utils.generic_utils import Progbar"
   ]
  },
  {
   "cell_type": "code",
   "execution_count": 6,
   "metadata": {
    "collapsed": true
   },
   "outputs": [],
   "source": [
    "Z_SIZE = 100\n",
    "\n",
    "# batch and latent size taken from the paper\n",
    "EPOCHS = 50\n",
    "BATCH_SIZE = 100\n",
    "\n",
    "# Adam parameters suggested in https://arxiv.org/abs/1511.06434\n",
    "ADAM_LR = 0.0002\n",
    "ADAM_BETA_1 = 0.5"
   ]
  },
  {
   "cell_type": "code",
   "execution_count": 7,
   "metadata": {
    "collapsed": true
   },
   "outputs": [],
   "source": [
    "np.random.seed(777)"
   ]
  },
  {
   "cell_type": "code",
   "execution_count": 8,
   "metadata": {
    "collapsed": true
   },
   "outputs": [],
   "source": [
    "K.set_image_dim_ordering('tf')"
   ]
  },
  {
   "cell_type": "code",
   "execution_count": 9,
   "metadata": {
    "collapsed": true
   },
   "outputs": [],
   "source": [
    "# ???\n",
    "def modified_binary_crossentropy(y_true, y_pred):\n",
    "#     output = K.clip(output, _EPSILON, 1.0 - _EPSILON)\n",
    "#     return -(target * output + (1.0 - target) * (1.0 - output))\n",
    "    return K.mean(y_true * y_pred)"
   ]
  },
  {
   "cell_type": "code",
   "execution_count": 10,
   "metadata": {
    "collapsed": true
   },
   "outputs": [],
   "source": [
    "def create_D():\n",
    "    input_image = Input(shape=(28, 28, 1), name='input_image')\n",
    "\n",
    "    x = Conv2D(32, (3, 3), padding='same', name='conv_1')(input_image)\n",
    "    x = LeakyReLU()(x)\n",
    "    x = MaxPool2D(pool_size=2)(x)\n",
    "    x = Dropout(0.3)(x)\n",
    "\n",
    "    x = Conv2D(64, (3, 3), padding='same', name='conv_2')(x)\n",
    "    x = MaxPool2D(pool_size=1)(x)\n",
    "    x = LeakyReLU()(x)\n",
    "    x = Dropout(0.3)(x)\n",
    "\n",
    "    x = Conv2D(128, (3, 3), padding='same', name='conv_3')(x)\n",
    "    x = MaxPool2D(pool_size=2)(x)\n",
    "    x = LeakyReLU()(x)\n",
    "    x = Dropout(0.3)(x)\n",
    "\n",
    "    x = Conv2D(256, (3, 3), padding='same', name='coonv_4')(x)\n",
    "    x = MaxPool2D(pool_size=1)(x)\n",
    "    x = LeakyReLU()(x)\n",
    "    x = Dropout(0.3)(x)\n",
    "\n",
    "    features = Flatten()(x)\n",
    "\n",
    "    output_is_fake = Dense(\n",
    "        1, activation='linear', name='output_is_fake')(features)\n",
    "    output_class = Dense(\n",
    "        10, activation='softmax', name='output_class')(features)\n",
    "\n",
    "    return Model(inputs=[input_image], outputs=[output_is_fake, output_class], name='D')"
   ]
  },
  {
   "cell_type": "code",
   "execution_count": 11,
   "metadata": {
    "collapsed": true
   },
   "outputs": [],
   "source": [
    "def create_G(Z_SIZE=Z_SIZE):\n",
    "    DICT_LEN = 10\n",
    "    EMBEDDING_LEN = Z_SIZE\n",
    "\n",
    "    # class#\n",
    "    input_class = Input(shape=(1, ), dtype='int32', name='input_class')\n",
    "    # encode class# to the same size as Z to use hadamard multiplication later on\n",
    "    e = Embedding(\n",
    "        DICT_LEN, EMBEDDING_LEN,\n",
    "        embeddings_initializer='glorot_uniform')(input_class)\n",
    "    embedded_class = Flatten(name='embedded_class')(e)\n",
    "\n",
    "    # latent var\n",
    "    input_z = Input(shape=(Z_SIZE, ), name='input_z')\n",
    "\n",
    "    # hadamard product\n",
    "    h = multiply([input_z, embedded_class], name='h')\n",
    "\n",
    "    # cnn part\n",
    "    x = Dense(1024)(h)\n",
    "    x = LeakyReLU()(x)\n",
    "\n",
    "    x = Dense(128 * 7 * 7)(x)\n",
    "    x = LeakyReLU()(x)\n",
    "    x = Reshape((7, 7, 128))(x)\n",
    "\n",
    "    x = UpSampling2D(size=(2, 2))(x)\n",
    "    x = Conv2D(256, (5, 5), padding='same')(x)\n",
    "    x = LeakyReLU()(x)\n",
    "\n",
    "    x = UpSampling2D(size=(2, 2))(x)\n",
    "    x = Conv2D(128, (5, 5), padding='same')(x)\n",
    "    x = LeakyReLU()(x)\n",
    "\n",
    "    x = Conv2D(1, (2, 2), padding='same', activation='tanh', name='output_generated_image')(x)\n",
    "\n",
    "    return Model(inputs=[input_z, input_class], outputs=x, name='G')"
   ]
  },
  {
   "cell_type": "code",
   "execution_count": 12,
   "metadata": {
    "collapsed": true
   },
   "outputs": [],
   "source": [
    "D = create_D()\n",
    "\n",
    "D.compile(\n",
    "    optimizer=SGD(clipvalue=0.01),\n",
    "    loss=[modified_binary_crossentropy, 'sparse_categorical_crossentropy'])"
   ]
  },
  {
   "cell_type": "code",
   "execution_count": 13,
   "metadata": {
    "collapsed": true
   },
   "outputs": [],
   "source": [
    "G = create_G()\n",
    "\n",
    "G.compile(\n",
    "    optimizer=Adam(lr=ADAM_LR, beta_1=ADAM_BETA_1), loss='binary_crossentropy')"
   ]
  },
  {
   "cell_type": "code",
   "execution_count": 14,
   "metadata": {
    "collapsed": true
   },
   "outputs": [],
   "source": [
    "input_z = Input(shape=(Z_SIZE, ), name='input_z_')\n",
    "input_class = Input(shape=(1, ),name='input_class_', dtype='int32')"
   ]
  },
  {
   "cell_type": "code",
   "execution_count": 15,
   "metadata": {
    "collapsed": true
   },
   "outputs": [],
   "source": [
    "# create combined D(G) model\n",
    "# D.trainable = False\n",
    "output_is_fake, output_class = D(G(inputs=[input_z, input_class]))\n",
    "combined = Model(inputs=[input_z, input_class], outputs=[output_is_fake, output_class])\n",
    "combined.get_layer('D').trainable = False # freeze D in generator training faze\n",
    "\n",
    "combined.compile(\n",
    "    optimizer='RMSprop',\n",
    "    loss=[modified_binary_crossentropy, 'sparse_categorical_crossentropy']\n",
    ")"
   ]
  },
  {
   "cell_type": "code",
   "execution_count": 16,
   "metadata": {},
   "outputs": [
    {
     "data": {
      "text/plain": [
       "<matplotlib.image.AxesImage at 0x7f70c04acf98>"
      ]
     },
     "execution_count": 16,
     "metadata": {},
     "output_type": "execute_result"
    },
    {
     "data": {
      "image/png": "[encoded data removed]",
      "text/plain": [
       "<matplotlib.figure.Figure at 0x7f70c3eff7b8>"
      ]
     },
     "metadata": {
      "image/png": {
       "height": 250,
       "width": 253
      }
     },
     "output_type": "display_data"
    }
   ],
   "source": [
    "# try generating image\n",
    "\n",
    "z = np.random.randn(100).reshape(1, 100)\n",
    "img = G.predict([z, np.array([8])])\n",
    "plt.imshow(img.reshape((28, 28)), cmap=plt.cm.gray)"
   ]
  },
  {
   "cell_type": "code",
   "execution_count": 17,
   "metadata": {
    "collapsed": true
   },
   "outputs": [],
   "source": [
    "# get our mnist data, and force it to be of shape (..., 28, 28, 1) with\n",
    "# range [-1., 1.]\n",
    "(X_train, y_train), (X_test, y_test) = mnist.load_data()\n",
    "X_train = (X_train.astype(np.float32) - 127.5) / 127.5\n",
    "X_train = np.expand_dims(X_train, axis=3)\n",
    "\n",
    "X_test = (X_test.astype(np.float32) - 127.5) / 127.5\n",
    "X_test = np.expand_dims(X_test, axis=3)"
   ]
  },
  {
   "cell_type": "code",
   "execution_count": 18,
   "metadata": {},
   "outputs": [
    {
     "data": {
      "text/plain": [
       "<matplotlib.image.AxesImage at 0x7f70c045ff28>"
      ]
     },
     "execution_count": 18,
     "metadata": {},
     "output_type": "execute_result"
    },
    {
     "data": {
      "image/png": "[encoded data removed]",
      "text/plain": [
       "<matplotlib.figure.Figure at 0x7f70c3eff668>"
      ]
     },
     "metadata": {
      "image/png": {
       "height": 250,
       "width": 253
      }
     },
     "output_type": "display_data"
    }
   ],
   "source": [
    "plt.imshow(X_train[777].reshape((28, 28)), cmap=plt.cm.gray)"
   ]
  },
  {
   "cell_type": "code",
   "execution_count": 19,
   "metadata": {
    "collapsed": true
   },
   "outputs": [],
   "source": [
    "train_num_samples, test_num_samples = X_train.shape[0], X_test.shape[0]"
   ]
  },
  {
   "cell_type": "code",
   "execution_count": 20,
   "metadata": {
    "collapsed": true
   },
   "outputs": [],
   "source": [
    "train_history = defaultdict(list)\n",
    "test_history = defaultdict(list)"
   ]
  },
  {
   "cell_type": "code",
   "execution_count": 21,
   "metadata": {
    "collapsed": true
   },
   "outputs": [],
   "source": [
    "def save_generated_samples(epoch, G):\n",
    "\n",
    "    # new batch of z's\n",
    "    zz = np.random.normal(0., 1., (100, Z_SIZE))\n",
    "\n",
    "    # new batch of classes [0..9]\n",
    "    generated_classes = np.random.randint(0, 10, 100)\n",
    "\n",
    "    generated_images = G.predict([zz, generated_classes.reshape(-1, 1)])\n",
    "\n",
    "    rr = []\n",
    "    for c in range(10):\n",
    "        rr.append(np.concatenate(generated_images[c * 10:(1 + c) * 10]).reshape(280, 28))\n",
    "    img = np.hstack(rr)\n",
    "\n",
    "    plt.imsave('out/generated-e%d.png'%epoch, img, cmap=plt.cm.gray)"
   ]
  },
  {
   "cell_type": "code",
   "execution_count": 22,
   "metadata": {},
   "outputs": [
    {
     "name": "stdout",
     "output_type": "stream",
     "text": [
      "\n",
      "Epoch 1 / 50\n",
      "599/600 [============================>.] - ETA: 0s - D_loss: 1.9720 - D(G)_loss: 1.8402\n",
      "D: ['loss', 'output_is_fake_loss', 'output_class_loss']\n",
      "[1.3356032371520996, 0.007638853974640369, 1.3279653787612915]\n",
      "D(G): ['loss', 'D_loss', 'D_loss']\n",
      "[0.9179622530937195, -0.2889561355113983, 1.206918716430664]\n",
      "\n",
      "Epoch 2 / 50\n",
      "599/600 [============================>.] - ETA: 0s - D_loss: 0.3152 - D(G)_loss: -1.0165\n",
      "D: ['loss', 'output_is_fake_loss', 'output_class_loss']\n",
      "[0.2880123555660248, 0.023960107937455177, 0.26405221223831177]\n",
      "D(G): ['loss', 'D_loss', 'D_loss']\n",
      "[-1.0416392087936401, -1.0794730186462402, 0.03783345967531204]\n",
      "\n",
      "Epoch 3 / 50\n",
      "599/600 [============================>.] - ETA: 0s - D_loss: 0.2399 - D(G)_loss: -1.2110\n",
      "D: ['loss', 'output_is_fake_loss', 'output_class_loss']\n",
      "[0.22430138289928436, 0.023195965215563774, 0.20110547542572021]\n",
      "D(G): ['loss', 'D_loss', 'D_loss']\n",
      "[-1.218503475189209, -1.2397440671920776, 0.021240422502160072]\n",
      "\n",
      "Epoch 4 / 50\n",
      "599/600 [============================>.] - ETA: 0s - D_loss: 0.1958 - D(G)_loss: -1.2517\n",
      "D: ['loss', 'output_is_fake_loss', 'output_class_loss']\n",
      "[0.1867613047361374, 0.019999880343675613, 0.16676142811775208]\n",
      "D(G): ['loss', 'D_loss', 'D_loss']\n",
      "[-1.2731536626815796, -1.2904108762741089, 0.01725725643336773]\n",
      "\n",
      "Epoch 5 / 50\n",
      "599/600 [============================>.] - ETA: 0s - D_loss: 0.1689 - D(G)_loss: -1.3043\n",
      "D: ['loss', 'output_is_fake_loss', 'output_class_loss']\n",
      "[0.16076840460300446, 0.01958932727575302, 0.1411791294813156]\n",
      "D(G): ['loss', 'D_loss', 'D_loss']\n",
      "[-1.3258984088897705, -1.3409169912338257, 0.01501945499330759]\n",
      "\n",
      "Epoch 6 / 50\n",
      "599/600 [============================>.] - ETA: 0s - D_loss: 0.1475 - D(G)_loss: -1.4103\n",
      "D: ['loss', 'output_is_fake_loss', 'output_class_loss']\n",
      "[0.13994327187538147, 0.020283866673707962, 0.11965931951999664]\n",
      "D(G): ['loss', 'D_loss', 'D_loss']\n",
      "[-1.3576927185058594, -1.3713525533676147, 0.01365889422595501]\n",
      "\n",
      "Epoch 7 / 50\n",
      "599/600 [============================>.] - ETA: 0s - D_loss: 0.1287 - D(G)_loss: -1.2294\n",
      "D: ['loss', 'output_is_fake_loss', 'output_class_loss']\n",
      "[0.12270717322826385, 0.020060664042830467, 0.10264641791582108]\n",
      "D(G): ['loss', 'D_loss', 'D_loss']\n",
      "[-1.2568901777267456, -1.269974708557129, 0.013084771111607552]\n",
      "\n",
      "Epoch 8 / 50\n",
      "599/600 [============================>.] - ETA: 0s - D_loss: 0.1152 - D(G)_loss: -1.3333\n",
      "D: ['loss', 'output_is_fake_loss', 'output_class_loss']\n",
      "[0.10981830954551697, 0.019264454022049904, 0.09055383503437042]\n",
      "D(G): ['loss', 'D_loss', 'D_loss']\n",
      "[-1.3654268980026245, -1.3773040771484375, 0.011877010576426983]\n",
      "\n",
      "Epoch 9 / 50\n",
      "599/600 [============================>.] - ETA: 0s - D_loss: 0.1096 - D(G)_loss: -1.3467\n",
      "D: ['loss', 'output_is_fake_loss', 'output_class_loss']\n",
      "[0.10430358350276947, 0.01953403651714325, 0.08476956933736801]\n",
      "D(G): ['loss', 'D_loss', 'D_loss']\n",
      "[-1.3657160997390747, -1.3776756525039673, 0.011959490366280079]\n",
      "\n",
      "Epoch 10 / 50\n",
      "599/600 [============================>.] - ETA: 0s - D_loss: 0.0977 - D(G)_loss: -1.3778\n",
      "D: ['loss', 'output_is_fake_loss', 'output_class_loss']\n",
      "[0.0954807922244072, 0.018186956644058228, 0.07729378342628479]\n",
      "D(G): ['loss', 'D_loss', 'D_loss']\n",
      "[-1.386655330657959, -1.3981508016586304, 0.011496287770569324]\n",
      "\n",
      "Epoch 11 / 50\n",
      "599/600 [============================>.] - ETA: 0s - D_loss: 0.0914 - D(G)_loss: -1.4792\n",
      "D: ['loss', 'output_is_fake_loss', 'output_class_loss']\n",
      "[0.09184587001800537, 0.019353587180376053, 0.07249227166175842]\n",
      "D(G): ['loss', 'D_loss', 'D_loss']\n",
      "[-1.46959388256073, -1.480368971824646, 0.010775359347462654]\n",
      "\n",
      "Epoch 12 / 50\n",
      "599/600 [============================>.] - ETA: 0s - D_loss: 0.0891 - D(G)_loss: -1.4605\n",
      "D: ['loss', 'output_is_fake_loss', 'output_class_loss']\n",
      "[0.08809815347194672, 0.020233137533068657, 0.06786509603261948]\n",
      "D(G): ['loss', 'D_loss', 'D_loss']\n",
      "[-1.4287556409835815, -1.439081072807312, 0.010325048118829727]\n",
      "\n",
      "Epoch 13 / 50\n",
      "599/600 [============================>.] - ETA: 0s - D_loss: 0.0831 - D(G)_loss: -1.4343\n",
      "D: ['loss', 'output_is_fake_loss', 'output_class_loss']\n",
      "[0.08158709108829498, 0.016689077019691467, 0.06489799171686172]\n",
      "D(G): ['loss', 'D_loss', 'D_loss']\n",
      "[-1.4531822204589844, -1.4627224206924438, 0.009540306404232979]\n",
      "\n",
      "Epoch 14 / 50\n",
      "599/600 [============================>.] - ETA: 0s - D_loss: 0.0814 - D(G)_loss: -1.4690\n",
      "D: ['loss', 'output_is_fake_loss', 'output_class_loss']\n",
      "[0.07992954552173615, 0.017010554671287537, 0.0629190132021904]\n",
      "D(G): ['loss', 'D_loss', 'D_loss']\n",
      "[-1.516594409942627, -1.5265971422195435, 0.010002842172980309]\n",
      "\n",
      "Epoch 15 / 50\n",
      "599/600 [============================>.] - ETA: 0s - D_loss: 0.0781 - D(G)_loss: -1.5728\n",
      "D: ['loss', 'output_is_fake_loss', 'output_class_loss']\n",
      "[0.07667329907417297, 0.016485638916492462, 0.06018770858645439]\n",
      "D(G): ['loss', 'D_loss', 'D_loss']\n",
      "[-1.5686777830123901, -1.5788508653640747, 0.010172927752137184]\n",
      "\n",
      "Epoch 16 / 50\n",
      "599/600 [============================>.] - ETA: 0s - D_loss: 0.0734 - D(G)_loss: -1.6315\n",
      "D: ['loss', 'output_is_fake_loss', 'output_class_loss']\n",
      "[0.07438410073518753, 0.017000440508127213, 0.057383663952350616]\n",
      "D(G): ['loss', 'D_loss', 'D_loss']\n",
      "[-1.6491020917892456, -1.6593009233474731, 0.01019793190062046]\n",
      "\n",
      "Epoch 17 / 50\n",
      "599/600 [============================>.] - ETA: 0s - D_loss: 0.0736 - D(G)_loss: -1.7571\n",
      "D: ['loss', 'output_is_fake_loss', 'output_class_loss']\n",
      "[0.07309085130691528, 0.0164369847625494, 0.05665384978055954]\n",
      "D(G): ['loss', 'D_loss', 'D_loss']\n",
      "[-1.8055583238601685, -1.8153882026672363, 0.009830097667872906]\n",
      "\n",
      "Epoch 18 / 50\n",
      "599/600 [============================>.] - ETA: 0s - D_loss: 0.0711 - D(G)_loss: -1.8715\n",
      "D: ['loss', 'output_is_fake_loss', 'output_class_loss']\n",
      "[0.07068371772766113, 0.016133004799485207, 0.05455074459314346]\n",
      "D(G): ['loss', 'D_loss', 'D_loss']\n",
      "[-1.8857293128967285, -1.8952325582504272, 0.009504415094852448]\n",
      "\n",
      "Epoch 19 / 50\n",
      "599/600 [============================>.] - ETA: 0s - D_loss: 0.0681 - D(G)_loss: -1.9648\n",
      "D: ['loss', 'output_is_fake_loss', 'output_class_loss']\n",
      "[0.06667547672986984, 0.013596786186099052, 0.05307867377996445]\n",
      "D(G): ['loss', 'D_loss', 'D_loss']\n",
      "[-1.9759098291397095, -1.9851497411727905, 0.009239145554602146]\n",
      "\n",
      "Epoch 20 / 50\n",
      "599/600 [============================>.] - ETA: 0s - D_loss: 0.0669 - D(G)_loss: -2.0347\n",
      "D: ['loss', 'output_is_fake_loss', 'output_class_loss']\n",
      "[0.06768214702606201, 0.015135184861719608, 0.05254693329334259]\n",
      "D(G): ['loss', 'D_loss', 'D_loss']\n",
      "[-2.0800368785858154, -2.0918116569519043, 0.01177461352199316]\n",
      "\n",
      "Epoch 21 / 50\n",
      "599/600 [============================>.] - ETA: 0s - D_loss: 0.0702 - D(G)_loss: -2.1132\n",
      "D: ['loss', 'output_is_fake_loss', 'output_class_loss']\n",
      "[0.06764300167560577, 0.01584981195628643, 0.05179320275783539]\n",
      "D(G): ['loss', 'D_loss', 'D_loss']\n",
      "[-2.12375807762146, -2.133957862854004, 0.010201691649854183]\n",
      "\n",
      "Epoch 22 / 50\n",
      "599/600 [============================>.] - ETA: 0s - D_loss: 0.0662 - D(G)_loss: -2.1315\n",
      "D: ['loss', 'output_is_fake_loss', 'output_class_loss']\n",
      "[0.06595032662153244, 0.015988605096936226, 0.04996174946427345]\n",
      "D(G): ['loss', 'D_loss', 'D_loss']\n",
      "[-2.159912109375, -2.169179916381836, 0.009267241694033146]\n",
      "\n",
      "Epoch 23 / 50\n",
      "599/600 [============================>.] - ETA: 0s - D_loss: 0.0666 - D(G)_loss: -2.1307\n",
      "D: ['loss', 'output_is_fake_loss', 'output_class_loss']\n",
      "[0.06367209553718567, 0.015218585729598999, 0.04845351353287697]\n",
      "D(G): ['loss', 'D_loss', 'D_loss']\n",
      "[-2.146796703338623, -2.1562745571136475, 0.009477149695158005]\n",
      "\n",
      "Epoch 24 / 50\n",
      "599/600 [============================>.] - ETA: 0s - D_loss: 0.0620 - D(G)_loss: -2.2299\n",
      "D: ['loss', 'output_is_fake_loss', 'output_class_loss']\n",
      "[0.06135354936122894, 0.013421223498880863, 0.047932278364896774]\n",
      "D(G): ['loss', 'D_loss', 'D_loss']\n",
      "[-2.2798333168029785, -2.2905311584472656, 0.01070030964910984]\n",
      "\n",
      "Epoch 25 / 50\n",
      "599/600 [============================>.] - ETA: 0s - D_loss: 0.0636 - D(G)_loss: -2.3426\n",
      "D: ['loss', 'output_is_fake_loss', 'output_class_loss']\n",
      "[0.06315354257822037, 0.017233632504940033, 0.04591985046863556]\n",
      "D(G): ['loss', 'D_loss', 'D_loss']\n",
      "[-2.3627045154571533, -2.371398687362671, 0.008693012408912182]\n",
      "\n",
      "Epoch 26 / 50\n",
      "599/600 [============================>.] - ETA: 0s - D_loss: 0.0622 - D(G)_loss: -2.4380\n",
      "D: ['loss', 'output_is_fake_loss', 'output_class_loss']\n",
      "[0.06356770545244217, 0.0170269925147295, 0.04654063284397125]\n",
      "D(G): ['loss', 'D_loss', 'D_loss']\n",
      "[-2.488028049468994, -2.4978787899017334, 0.009850352071225643]\n",
      "\n",
      "Epoch 27 / 50\n"
     ]
    },
    {
     "name": "stdout",
     "output_type": "stream",
     "text": [
      "599/600 [============================>.] - ETA: 0s - D_loss: 0.0609 - D(G)_loss: -2.4566\n",
      "D: ['loss', 'output_is_fake_loss', 'output_class_loss']\n",
      "[0.0619531013071537, 0.016864852979779243, 0.045088231563568115]\n",
      "D(G): ['loss', 'D_loss', 'D_loss']\n",
      "[-2.443985939025879, -2.453509569168091, 0.009524858556687832]\n",
      "\n",
      "Epoch 28 / 50\n",
      "599/600 [============================>.] - ETA: 0s - D_loss: 0.0573 - D(G)_loss: -2.4607\n",
      "D: ['loss', 'output_is_fake_loss', 'output_class_loss']\n",
      "[0.05969258025288582, 0.01478531677275896, 0.04490732029080391]\n",
      "D(G): ['loss', 'D_loss', 'D_loss']\n",
      "[-2.51486873626709, -2.524232864379883, 0.009363073855638504]\n",
      "\n",
      "Epoch 29 / 50\n",
      "599/600 [============================>.] - ETA: 0s - D_loss: 0.0594 - D(G)_loss: -2.6470\n",
      "D: ['loss', 'output_is_fake_loss', 'output_class_loss']\n",
      "[0.057449664920568466, 0.013112282380461693, 0.044337399303913116]\n",
      "D(G): ['loss', 'D_loss', 'D_loss']\n",
      "[-2.6576998233795166, -2.6670069694519043, 0.009309175424277782]\n",
      "\n",
      "Epoch 30 / 50\n",
      "599/600 [============================>.] - ETA: 0s - D_loss: 0.0584 - D(G)_loss: -2.6717\n",
      "D: ['loss', 'output_is_fake_loss', 'output_class_loss']\n",
      "[0.05624009296298027, 0.01442082691937685, 0.0418192483484745]\n",
      "D(G): ['loss', 'D_loss', 'D_loss']\n",
      "[-2.71471905708313, -2.723097085952759, 0.008378819562494755]\n",
      "\n",
      "Epoch 31 / 50\n",
      "599/600 [============================>.] - ETA: 0s - D_loss: 0.0563 - D(G)_loss: -2.8624\n",
      "D: ['loss', 'output_is_fake_loss', 'output_class_loss']\n",
      "[0.05705350264906883, 0.015220877714455128, 0.04183260723948479]\n",
      "D(G): ['loss', 'D_loss', 'D_loss']\n",
      "[-2.9307634830474854, -2.9398069381713867, 0.009043669328093529]\n",
      "\n",
      "Epoch 32 / 50\n",
      "599/600 [============================>.] - ETA: 0s - D_loss: 0.0574 - D(G)_loss: -3.0207\n",
      "D: ['loss', 'output_is_fake_loss', 'output_class_loss']\n",
      "[0.05688295513391495, 0.01499110832810402, 0.04189183935523033]\n",
      "D(G): ['loss', 'D_loss', 'D_loss']\n",
      "[-3.0280637741088867, -3.037067413330078, 0.009004704654216766]\n",
      "\n",
      "Epoch 33 / 50\n",
      "599/600 [============================>.] - ETA: 0s - D_loss: 0.0574 - D(G)_loss: -3.0087\n",
      "D: ['loss', 'output_is_fake_loss', 'output_class_loss']\n",
      "[0.055892735719680786, 0.014938322827219963, 0.04095440357923508]\n",
      "D(G): ['loss', 'D_loss', 'D_loss']\n",
      "[-3.0751280784606934, -3.083535671234131, 0.008406668901443481]\n",
      "\n",
      "Epoch 34 / 50\n",
      "599/600 [============================>.] - ETA: 0s - D_loss: 0.0582 - D(G)_loss: -3.0481\n",
      "D: ['loss', 'output_is_fake_loss', 'output_class_loss']\n",
      "[0.05833440274000168, 0.01758158579468727, 0.0407528318464756]\n",
      "D(G): ['loss', 'D_loss', 'D_loss']\n",
      "[-3.0798680782318115, -3.08856201171875, 0.008693702518939972]\n",
      "\n",
      "Epoch 35 / 50\n",
      "599/600 [============================>.] - ETA: 0s - D_loss: 0.0575 - D(G)_loss: -3.0018\n",
      "D: ['loss', 'output_is_fake_loss', 'output_class_loss']\n",
      "[0.05587682127952576, 0.015746768563985825, 0.04013004153966904]\n",
      "D(G): ['loss', 'D_loss', 'D_loss']\n",
      "[-3.016136407852173, -3.0253450870513916, 0.009206480346620083]\n",
      "\n",
      "Epoch 36 / 50\n",
      "599/600 [============================>.] - ETA: 0s - D_loss: 0.0565 - D(G)_loss: -3.0412\n",
      "D: ['loss', 'output_is_fake_loss', 'output_class_loss']\n",
      "[0.05605965480208397, 0.01663488894701004, 0.03942475467920303]\n",
      "D(G): ['loss', 'D_loss', 'D_loss']\n",
      "[-3.0623512268066406, -3.0700502395629883, 0.007699755951762199]\n",
      "\n",
      "Epoch 37 / 50\n",
      "599/600 [============================>.] - ETA: 0s - D_loss: 0.0529 - D(G)_loss: -2.9796\n",
      "D: ['loss', 'output_is_fake_loss', 'output_class_loss']\n",
      "[0.05146543309092522, 0.012477460317313671, 0.03898797929286957]\n",
      "D(G): ['loss', 'D_loss', 'D_loss']\n",
      "[-3.00295090675354, -3.01118540763855, 0.008233791217207909]\n",
      "\n",
      "Epoch 38 / 50\n",
      "599/600 [============================>.] - ETA: 0s - D_loss: 0.0531 - D(G)_loss: -3.1071\n",
      "D: ['loss', 'output_is_fake_loss', 'output_class_loss']\n",
      "[0.052059609442949295, 0.013584976084530354, 0.03847462311387062]\n",
      "D(G): ['loss', 'D_loss', 'D_loss']\n",
      "[-3.119549036026001, -3.1279759407043457, 0.008427769877016544]\n",
      "\n",
      "Epoch 39 / 50\n",
      "599/600 [============================>.] - ETA: 0s - D_loss: 0.0502 - D(G)_loss: -3.1140\n",
      "D: ['loss', 'output_is_fake_loss', 'output_class_loss']\n",
      "[0.05100765824317932, 0.01271091029047966, 0.03829680010676384]\n",
      "D(G): ['loss', 'D_loss', 'D_loss']\n",
      "[-3.10396409034729, -3.1124980449676514, 0.008530896157026291]\n",
      "\n",
      "Epoch 40 / 50\n",
      "599/600 [============================>.] - ETA: 0s - D_loss: 0.0527 - D(G)_loss: -3.1437\n",
      "D: ['loss', 'output_is_fake_loss', 'output_class_loss']\n",
      "[0.05322198197245598, 0.015401358716189861, 0.03782065957784653]\n",
      "D(G): ['loss', 'D_loss', 'D_loss']\n",
      "[-3.1296803951263428, -3.1378817558288574, 0.008203535340726376]\n",
      "\n",
      "Epoch 41 / 50\n",
      "599/600 [============================>.] - ETA: 0s - D_loss: 0.0526 - D(G)_loss: -3.1481\n",
      "D: ['loss', 'output_is_fake_loss', 'output_class_loss']\n",
      "[0.051578886806964874, 0.014135509729385376, 0.03744342550635338]\n",
      "D(G): ['loss', 'D_loss', 'D_loss']\n",
      "[-3.2027649879455566, -3.211069345474243, 0.008305923081934452]\n",
      "\n",
      "Epoch 42 / 50\n",
      "599/600 [============================>.] - ETA: 0s - D_loss: 0.0514 - D(G)_loss: -3.2513\n",
      "D: ['loss', 'output_is_fake_loss', 'output_class_loss']\n",
      "[0.051287077367305756, 0.014488899149000645, 0.036798205226659775]\n",
      "D(G): ['loss', 'D_loss', 'D_loss']\n",
      "[-3.280719757080078, -3.2887611389160156, 0.008038794621825218]\n",
      "\n",
      "Epoch 43 / 50\n",
      "599/600 [============================>.] - ETA: 0s - D_loss: 0.0496 - D(G)_loss: -3.2310\n",
      "D: ['loss', 'output_is_fake_loss', 'output_class_loss']\n",
      "[0.048961542546749115, 0.013029112480580807, 0.03593243286013603]\n",
      "D(G): ['loss', 'D_loss', 'D_loss']\n",
      "[-3.2877986431121826, -3.2958436012268066, 0.00804508849978447]\n",
      "\n",
      "Epoch 44 / 50\n",
      "599/600 [============================>.] - ETA: 0s - D_loss: 0.0520 - D(G)_loss: -3.4261\n",
      "D: ['loss', 'output_is_fake_loss', 'output_class_loss']\n",
      "[0.05095502734184265, 0.014149114489555359, 0.0368058979511261]\n",
      "D(G): ['loss', 'D_loss', 'D_loss']\n",
      "[-3.4608051776885986, -3.468874216079712, 0.008069640956819057]\n",
      "\n",
      "Epoch 45 / 50\n",
      "599/600 [============================>.] - ETA: 0s - D_loss: 0.0517 - D(G)_loss: -3.3754\n",
      "D: ['loss', 'output_is_fake_loss', 'output_class_loss']\n",
      "[0.051759395748376846, 0.016147727146744728, 0.03561168909072876]\n",
      "D(G): ['loss', 'D_loss', 'D_loss']\n",
      "[-3.3954293727874756, -3.403264045715332, 0.007836973294615746]\n",
      "\n",
      "Epoch 46 / 50\n",
      "599/600 [============================>.] - ETA: 0s - D_loss: 0.0519 - D(G)_loss: -3.3346\n",
      "D: ['loss', 'output_is_fake_loss', 'output_class_loss']\n",
      "[0.04921060428023338, 0.013645585626363754, 0.03556499630212784]\n",
      "D(G): ['loss', 'D_loss', 'D_loss']\n",
      "[-3.386596202850342, -3.3951468467712402, 0.008550429716706276]\n",
      "\n",
      "Epoch 47 / 50\n",
      "599/600 [============================>.] - ETA: 0s - D_loss: 0.0468 - D(G)_loss: -3.4963\n",
      "D: ['loss', 'output_is_fake_loss', 'output_class_loss']\n",
      "[0.04688416048884392, 0.011419338174164295, 0.035464853048324585]\n",
      "D(G): ['loss', 'D_loss', 'D_loss']\n",
      "[-3.538571834564209, -3.5463900566101074, 0.007819545455276966]\n",
      "\n",
      "Epoch 48 / 50\n",
      "599/600 [============================>.] - ETA: 0s - D_loss: 0.0460 - D(G)_loss: -3.7335\n",
      "D: ['loss', 'output_is_fake_loss', 'output_class_loss']\n",
      "[0.04907669126987457, 0.01364392414689064, 0.035432808101177216]\n",
      "D(G): ['loss', 'D_loss', 'D_loss']\n",
      "[-3.707338809967041, -3.716214656829834, 0.008876374922692776]\n",
      "\n",
      "Epoch 49 / 50\n",
      "599/600 [============================>.] - ETA: 0s - D_loss: 0.0555 - D(G)_loss: -3.5714\n",
      "D: ['loss', 'output_is_fake_loss', 'output_class_loss']\n",
      "[0.052722323685884476, 0.017470773309469223, 0.03525157645344734]\n",
      "D(G): ['loss', 'D_loss', 'D_loss']\n",
      "[-3.5629751682281494, -3.571211814880371, 0.008237234316766262]\n",
      "\n",
      "Epoch 50 / 50\n",
      "599/600 [============================>.] - ETA: 0s - D_loss: 0.0467 - D(G)_loss: -3.4774\n",
      "D: ['loss', 'output_is_fake_loss', 'output_class_loss']\n",
      "[0.04741813614964485, 0.012799958698451519, 0.03461819514632225]\n",
      "D(G): ['loss', 'D_loss', 'D_loss']\n",
      "[-3.5012781620025635, -3.5096683502197266, 0.008389460854232311]\n"
     ]
    }
   ],
   "source": [
    "for epoch in range(EPOCHS):\n",
    "\n",
    "    print('\\nEpoch {} / {}'.format(epoch + 1, EPOCHS))\n",
    "\n",
    "    batches_num = int(train_num_samples / BATCH_SIZE)\n",
    "    progress_bar = Progbar(target=batches_num)\n",
    "\n",
    "    epoch_combined_losses = []\n",
    "    epoch_D_losses = []\n",
    "\n",
    "    for batch_i in range(batches_num):\n",
    "\n",
    "        if len(epoch_D_losses) + len(epoch_combined_losses) > 1:\n",
    "            progress_bar.update(\n",
    "                batch_i,\n",
    "                values=[\n",
    "                        ('D_loss', np.mean(np.array(epoch_D_losses), axis=0)[0]),\n",
    "                        ('D(G)_loss', np.mean(np.array(epoch_combined_losses),axis=0)[0])\n",
    "                ]\n",
    "            )\n",
    "        else:\n",
    "            progress_bar.update(batch_i)\n",
    "            \n",
    "        # 1: train D on real+generated images\n",
    "            \n",
    "        # create batches of images and labels\n",
    "        real_images = X_train[batch_i * BATCH_SIZE:(batch_i + 1) * BATCH_SIZE]\n",
    "        real_images_classes = y_train[batch_i * BATCH_SIZE:(batch_i + 1) * BATCH_SIZE]\n",
    "        \n",
    "        # new batch of z's\n",
    "        zz = np.random.normal(0., 1., (BATCH_SIZE, Z_SIZE))\n",
    "        \n",
    "        # new batch of classes [0..9]\n",
    "        generated_classes = np.random.randint(0, 10, BATCH_SIZE)\n",
    "        \n",
    "        generated_images = G.predict([zz, generated_classes.reshape(-1, 1)])\n",
    "        \n",
    "        X = np.concatenate((real_images, generated_images))\n",
    "        y_is_fake = np.array([-1] * BATCH_SIZE + [1] * BATCH_SIZE) # [is_fake=-1xBATCH_SIZE, 1xBATCH_SIZE]\n",
    "        y_classes = np.concatenate((real_images_classes, generated_classes))\n",
    "        \n",
    "        # train \n",
    "        D_losses = D.train_on_batch(X, [y_is_fake, y_classes])\n",
    "        epoch_D_losses.append(D_losses)\n",
    "        \n",
    "        \n",
    "        # 2: train D(G) (only G is trainable)\n",
    "        \n",
    "        # 2x so G is trained for the same number of images\n",
    "        # as D above (which is trained on real+generated)\n",
    "        zz = np.random.normal(0., 1., (2 * BATCH_SIZE, Z_SIZE)) \n",
    "        generated_classes = np.random.randint(0, 10, 2 * BATCH_SIZE)\n",
    "\n",
    "        y_is_fake = -np.ones(2 * BATCH_SIZE) # all not-fake\n",
    "\n",
    "        combined_losses = combined.train_on_batch(\n",
    "            [zz, generated_classes.reshape((-1, 1))],\n",
    "            [y_is_fake, generated_classes])\n",
    "        \n",
    "        epoch_combined_losses.append(combined_losses)\n",
    "        \n",
    "    print('\\nD:', D.metrics_names)\n",
    "    print(np.mean(np.array(epoch_D_losses), axis=0).tolist())\n",
    "    \n",
    "    print('D(G):', combined.metrics_names)\n",
    "    print(np.mean(np.array(epoch_combined_losses), axis=0).tolist())\n",
    "    \n",
    "    save_generated_samples(epoch, G)"
   ]
  },
  {
   "cell_type": "code",
   "execution_count": null,
   "metadata": {
    "collapsed": true
   },
   "outputs": [],
   "source": []
  }
 ],
 "metadata": {
  "gist": {
   "data": {
    "description": "Keras  WACGAN",
    "public": false
   },
   "id": ""
  },
  "kernelspec": {
   "display_name": "Python 3",
   "language": "python",
   "name": "python3"
  },
  "language_info": {
   "codemirror_mode": {
    "name": "ipython",
    "version": 3
   },
   "file_extension": ".py",
   "mimetype": "text/x-python",
   "name": "python",
   "nbconvert_exporter": "python",
   "pygments_lexer": "ipython3",
   "version": "3.5.2"
  }
 },
 "nbformat": 4,
 "nbformat_minor": 2
}
