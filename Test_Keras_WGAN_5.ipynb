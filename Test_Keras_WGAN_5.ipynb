{
 "cells": [
  {
   "cell_type": "markdown",
   "metadata": {},
   "source": [
    "+ More updates of D\n",
    "+ Implicit weight clipping of D\n",
    "+ Closer to vanilla WGAN per https://arxiv.org/pdf/1701.07875.pdf"
   ]
  },
  {
   "cell_type": "code",
   "execution_count": 1,
   "metadata": {
    "collapsed": true
   },
   "outputs": [],
   "source": [
    "%run 'Lib.ipynb'"
   ]
  },
  {
   "cell_type": "code",
   "execution_count": 2,
   "metadata": {
    "collapsed": true
   },
   "outputs": [],
   "source": [
    "# use GPU 0\n",
    "os.environ[\"CUDA_DEVICE_ORDER\"] = \"PCI_BUS_ID\"\n",
    "os.environ[\"CUDA_VISIBLE_DEVICES\"] = \"0\""
   ]
  },
  {
   "cell_type": "code",
   "execution_count": 3,
   "metadata": {
    "collapsed": true
   },
   "outputs": [],
   "source": [
    "OUT_DIR = 'out_5g'\n",
    "if not os.path.isdir(OUT_DIR): os.makedirs(OUT_DIR)"
   ]
  },
  {
   "cell_type": "code",
   "execution_count": 4,
   "metadata": {},
   "outputs": [
    {
     "name": "stderr",
     "output_type": "stream",
     "text": [
      "Using TensorFlow backend.\n"
     ]
    }
   ],
   "source": [
    "from collections import defaultdict\n",
    "\n",
    "import keras.backend as K\n",
    "from keras.datasets import mnist\n",
    "from keras.layers import *\n",
    "from keras.models import *\n",
    "from keras.optimizers import *\n",
    "from keras.utils.generic_utils import Progbar"
   ]
  },
  {
   "cell_type": "code",
   "execution_count": 5,
   "metadata": {
    "collapsed": true
   },
   "outputs": [],
   "source": [
    "Z_SIZE = 100\n",
    "\n",
    "# batch and latent size taken from the paper\n",
    "EPOCHS = 100\n",
    "BATCH_SIZE = 64\n",
    "\n",
    "# how many times to train D per each G(D) update\n",
    "# 5 is suggested in https://arxiv.org/pdf/1701.07875.pdf\n",
    "D_TRAIN_ITERATIONS = 5\n",
    "\n",
    "# D weight clipping per https://arxiv.org/pdf/1701.07875.pdf\n",
    "D_WEIGHTS_LOWER_BOUND = -0.01\n",
    "D_WEIGHTS_UPPER_BOUND = 0.01\n",
    "\n",
    "# learning rate, per https://arxiv.org/pdf/1701.07875.pdf \n",
    "RMSPROP_LR = 0.00005"
   ]
  },
  {
   "cell_type": "code",
   "execution_count": 6,
   "metadata": {
    "collapsed": true
   },
   "outputs": [],
   "source": [
    "np.random.seed(777)"
   ]
  },
  {
   "cell_type": "code",
   "execution_count": 7,
   "metadata": {
    "collapsed": true
   },
   "outputs": [],
   "source": [
    "K.set_image_dim_ordering('tf')"
   ]
  },
  {
   "cell_type": "code",
   "execution_count": 8,
   "metadata": {
    "collapsed": true
   },
   "outputs": [],
   "source": [
    "def wasserstein_distance(y_true, y_pred):\n",
    "    return K.mean(y_true * y_pred)"
   ]
  },
  {
   "cell_type": "code",
   "execution_count": 9,
   "metadata": {
    "collapsed": true
   },
   "outputs": [],
   "source": [
    "def create_D():\n",
    "    input_image = Input(shape=(28, 28, 1), name='input_image')\n",
    "\n",
    "    x = Conv2D(32, (3, 3), padding='same', name='conv_1')(input_image)\n",
    "    x = LeakyReLU()(x)\n",
    "    x = MaxPool2D(pool_size=2)(x)\n",
    "    x = Dropout(0.3)(x)\n",
    "\n",
    "    x = Conv2D(64, (3, 3), padding='same', name='conv_2')(x)\n",
    "    x = MaxPool2D(pool_size=1)(x)\n",
    "    x = LeakyReLU()(x)\n",
    "    x = Dropout(0.3)(x)\n",
    "\n",
    "    x = Conv2D(128, (3, 3), padding='same', name='conv_3')(x)\n",
    "    x = MaxPool2D(pool_size=2)(x)\n",
    "    x = LeakyReLU()(x)\n",
    "    x = Dropout(0.3)(x)\n",
    "\n",
    "    x = Conv2D(256, (3, 3), padding='same', name='coonv_4')(x)\n",
    "    x = MaxPool2D(pool_size=1)(x)\n",
    "    x = LeakyReLU()(x)\n",
    "    x = Dropout(0.3)(x)\n",
    "\n",
    "    features = Flatten()(x)\n",
    "\n",
    "    output_is_fake = Dense(\n",
    "        1, activation='linear', name='output_is_fake')(features)\n",
    "    output_class = Dense(\n",
    "        10, activation='softmax', name='output_class')(features)\n",
    "\n",
    "    return Model(inputs=[input_image], outputs=[output_is_fake, output_class], name='D')"
   ]
  },
  {
   "cell_type": "code",
   "execution_count": 10,
   "metadata": {
    "collapsed": true
   },
   "outputs": [],
   "source": [
    "def create_G(Z_SIZE=Z_SIZE):\n",
    "    DICT_LEN = 10\n",
    "    EMBEDDING_LEN = Z_SIZE\n",
    "\n",
    "    # class#\n",
    "    input_class = Input(shape=(1, ), dtype='int32', name='input_class')\n",
    "    # encode class# to the same size as Z to use hadamard multiplication later on\n",
    "    e = Embedding(\n",
    "        DICT_LEN, EMBEDDING_LEN,\n",
    "        embeddings_initializer='glorot_uniform')(input_class)\n",
    "    embedded_class = Flatten(name='embedded_class')(e)\n",
    "\n",
    "    # latent var\n",
    "    input_z = Input(shape=(Z_SIZE, ), name='input_z')\n",
    "\n",
    "    # hadamard product\n",
    "    h = multiply([input_z, embedded_class], name='h')\n",
    "\n",
    "    # cnn part\n",
    "    x = Dense(1024)(h)\n",
    "    x = LeakyReLU()(x)\n",
    "\n",
    "    x = Dense(128 * 7 * 7)(x)\n",
    "    x = LeakyReLU()(x)\n",
    "    x = Reshape((7, 7, 128))(x)\n",
    "\n",
    "    x = UpSampling2D(size=(2, 2))(x)\n",
    "    x = Conv2D(256, (5, 5), padding='same')(x)\n",
    "    x = LeakyReLU()(x)\n",
    "\n",
    "    x = UpSampling2D(size=(2, 2))(x)\n",
    "    x = Conv2D(128, (5, 5), padding='same')(x)\n",
    "    x = LeakyReLU()(x)\n",
    "\n",
    "    x = Conv2D(1, (2, 2), padding='same', activation='tanh', name='output_generated_image')(x)\n",
    "\n",
    "    return Model(inputs=[input_z, input_class], outputs=x, name='G')"
   ]
  },
  {
   "cell_type": "code",
   "execution_count": 11,
   "metadata": {
    "collapsed": true
   },
   "outputs": [],
   "source": [
    "D = create_D()\n",
    "\n",
    "# SGD without momentum, see\n",
    "# https://github.com/shekkizh/WassersteinGAN.tensorflow#observations\n",
    "D.compile(\n",
    "    optimizer=RMSprop(lr=RMSPROP_LR), \n",
    "    loss=['kullback_leibler_divergence', 'sparse_categorical_crossentropy'])"
   ]
  },
  {
   "cell_type": "code",
   "execution_count": 12,
   "metadata": {
    "collapsed": true
   },
   "outputs": [],
   "source": [
    "input_z = Input(shape=(Z_SIZE, ), name='input_z_')\n",
    "input_class = Input(shape=(1, ),name='input_class_', dtype='int32')"
   ]
  },
  {
   "cell_type": "code",
   "execution_count": 13,
   "metadata": {
    "collapsed": true
   },
   "outputs": [],
   "source": [
    "# create combined D(G) model\n",
    "G = create_G()\n",
    "output_is_fake, output_class = D(G(inputs=[input_z, input_class]))\n",
    "combined = Model(inputs=[input_z, input_class], outputs=[output_is_fake, output_class])\n",
    "\n",
    "combined.compile(\n",
    "    optimizer=RMSprop(lr=RMSPROP_LR),\n",
    "    loss=[wasserstein_distance, 'sparse_categorical_crossentropy']\n",
    ")"
   ]
  },
  {
   "cell_type": "code",
   "execution_count": 14,
   "metadata": {},
   "outputs": [
    {
     "data": {
      "text/plain": [
       "<matplotlib.image.AxesImage at 0x7fd004628a20>"
      ]
     },
     "execution_count": 14,
     "metadata": {},
     "output_type": "execute_result"
    },
    {
     "data": {
      "image/png": "[encoded data removed]",
      "text/plain": [
       "<matplotlib.figure.Figure at 0x7fd006b86588>"
      ]
     },
     "metadata": {
      "image/png": {
       "height": 250,
       "width": 253
      }
     },
     "output_type": "display_data"
    }
   ],
   "source": [
    "# try generating image\n",
    "\n",
    "z = np.random.randn(100).reshape(1, 100)\n",
    "img = G.predict([z, np.array([8])])\n",
    "plt.imshow(img.reshape((28, 28)), cmap=plt.cm.gray)"
   ]
  },
  {
   "cell_type": "code",
   "execution_count": 15,
   "metadata": {
    "collapsed": true
   },
   "outputs": [],
   "source": [
    "# get our mnist data, and force it to be of shape (..., 28, 28, 1) with\n",
    "# range [-1., 1.]\n",
    "(X_train, y_train), (X_test, y_test) = mnist.load_data()\n",
    "X_train = (X_train.astype(np.float32) - 127.5) / 127.5\n",
    "X_train = np.expand_dims(X_train, axis=3)\n",
    "\n",
    "X_test = (X_test.astype(np.float32) - 127.5) / 127.5\n",
    "X_test = np.expand_dims(X_test, axis=3)"
   ]
  },
  {
   "cell_type": "code",
   "execution_count": 16,
   "metadata": {},
   "outputs": [
    {
     "data": {
      "text/plain": [
       "<matplotlib.image.AxesImage at 0x7fcffc7ac8d0>"
      ]
     },
     "execution_count": 16,
     "metadata": {},
     "output_type": "execute_result"
    },
    {
     "data": {
      "image/png": "[encoded data removed]",
      "text/plain": [
       "<matplotlib.figure.Figure at 0x7fd0046555f8>"
      ]
     },
     "metadata": {
      "image/png": {
       "height": 250,
       "width": 253
      }
     },
     "output_type": "display_data"
    }
   ],
   "source": [
    "plt.imshow(X_train[777].reshape((28, 28)), cmap=plt.cm.gray)"
   ]
  },
  {
   "cell_type": "code",
   "execution_count": 17,
   "metadata": {
    "collapsed": true
   },
   "outputs": [],
   "source": [
    "train_num_samples, test_num_samples = X_train.shape[0], X_test.shape[0]"
   ]
  },
  {
   "cell_type": "code",
   "execution_count": 18,
   "metadata": {
    "collapsed": true
   },
   "outputs": [],
   "source": [
    "train_history = defaultdict(list)\n",
    "test_history = defaultdict(list)"
   ]
  },
  {
   "cell_type": "code",
   "execution_count": null,
   "metadata": {
    "collapsed": true
   },
   "outputs": [],
   "source": [
    "def save_generated_samples(epoch, G):\n",
    "\n",
    "    # new batch of z's\n",
    "    zz = np.random.normal(0., 1., (100, Z_SIZE))\n",
    "\n",
    "    # new batch of classes [0..9]\n",
    "    generated_classes = np.array(list(range(10)) * 10)\n",
    "\n",
    "    generated_images = G.predict([zz, generated_classes.reshape(-1, 1)])\n",
    "\n",
    "    rr = []\n",
    "    for c in range(10):\n",
    "        rr.append(\n",
    "            np.concatenate(generated_images[c * 10:(1 + c) * 10]).reshape(\n",
    "                280, 28))\n",
    "    img = np.hstack(rr)\n",
    "\n",
    "    plt.imsave(OUT_DIR + '/generated-e%d.png' % epoch, img, cmap=plt.cm.gray)"
   ]
  },
  {
   "cell_type": "code",
   "execution_count": null,
   "metadata": {},
   "outputs": [
    {
     "name": "stdout",
     "output_type": "stream",
     "text": [
      "\n",
      "Epoch 1 / 100\n",
      "936/937 [============================>.] - ETA: 0s - D_is_fake_loss: 0.0245 - D_class_loss: 1.6132 - D(G)_is_fake_loss: -55.5079 - D(G)_class_loss: 2.3859\n",
      "D: ['loss', 'output_is_fake_loss', 'output_class_loss']\n",
      "[1.6351512670516968, 0.022494317963719368, 1.6126571893692017]\n",
      "D(G): ['loss', 'D_loss', 'D_loss']\n",
      "[-53.45885467529297, -55.845436096191406, 2.386582136154175]\n",
      "\n",
      "Epoch 2 / 100\n",
      "936/937 [============================>.] - ETA: 0s - D_is_fake_loss: -5.4885e-07 - D_class_loss: 1.4739 - D(G)_is_fake_loss: -72.8872 - D(G)_class_loss: 2.4141\n",
      "D: ['loss', 'output_is_fake_loss', 'output_class_loss']\n",
      "[1.4738889932632446, -5.493610046869435e-07, 1.4738894701004028]\n",
      "D(G): ['loss', 'D_loss', 'D_loss']\n",
      "[-70.51112365722656, -72.92540740966797, 2.414242744445801]\n",
      "\n",
      "Epoch 3 / 100\n",
      "936/937 [============================>.] - ETA: 0s - D_is_fake_loss: -8.0580e-07 - D_class_loss: 1.4399 - D(G)_is_fake_loss: -77.5559 - D(G)_class_loss: 2.4146\n",
      "D: ['loss', 'output_is_fake_loss', 'output_class_loss']\n",
      "[1.4399054050445557, -8.057740501499211e-07, 1.4399062395095825]\n",
      "D(G): ['loss', 'D_loss', 'D_loss']\n",
      "[-75.1326675415039, -77.54737854003906, 2.414673328399658]\n",
      "\n",
      "Epoch 6 / 100\n",
      "936/937 [============================>.] - ETA: 0s - D_is_fake_loss: -8.0589e-07 - D_class_loss: 1.4356 - D(G)_is_fake_loss: -76.5456 - D(G)_class_loss: 2.4102\n",
      "D: ['loss', 'output_is_fake_loss', 'output_class_loss']\n",
      "[1.435638666152954, -8.058615321715479e-07, 1.4356393814086914]\n",
      "D(G): ['loss', 'D_loss', 'D_loss']\n",
      "[-74.11971282958984, -76.530029296875, 2.4103801250457764]\n",
      "\n",
      "Epoch 7 / 100\n",
      "936/937 [============================>.] - ETA: 0s - D_is_fake_loss: -8.0590e-07 - D_class_loss: 1.4307 - D(G)_is_fake_loss: -75.5068 - D(G)_class_loss: 2.4137\n",
      "D: ['loss', 'output_is_fake_loss', 'output_class_loss']\n",
      "[1.4307429790496826, -8.058750040618179e-07, 1.4307435750961304]\n",
      "D(G): ['loss', 'D_loss', 'D_loss']\n",
      "[-73.08415985107422, -75.49800109863281, 2.4138917922973633]\n",
      "\n",
      "Epoch 8 / 100\n",
      "936/937 [============================>.] - ETA: 0s - D_is_fake_loss: -8.0590e-07 - D_class_loss: 1.4276 - D(G)_is_fake_loss: -73.7002 - D(G)_class_loss: 2.4094\n",
      "D: ['loss', 'output_is_fake_loss', 'output_class_loss']\n",
      "[1.427619457244873, -8.058750040618179e-07, 1.4276202917099]\n",
      "D(G): ['loss', 'D_loss', 'D_loss']\n",
      "[-71.26812744140625, -73.67750549316406, 2.4093174934387207]\n",
      "\n",
      "Epoch 9 / 100\n",
      "936/937 [============================>.] - ETA: 0s - D_is_fake_loss: -8.0590e-07 - D_class_loss: 1.4249 - D(G)_is_fake_loss: -72.3273 - D(G)_class_loss: 2.4092\n",
      "D: ['loss', 'output_is_fake_loss', 'output_class_loss']\n",
      "[1.4249459505081177, -8.058750040618179e-07, 1.424946665763855]\n",
      "D(G): ['loss', 'D_loss', 'D_loss']\n",
      "[-69.90349578857422, -72.31240844726562, 2.4089765548706055]\n",
      "\n",
      "Epoch 10 / 100\n",
      "936/937 [============================>.] - ETA: 0s - D_is_fake_loss: -8.0590e-07 - D_class_loss: 1.4227 - D(G)_is_fake_loss: -70.8392 - D(G)_class_loss: 2.4101\n",
      "D: ['loss', 'output_is_fake_loss', 'output_class_loss']\n",
      "[1.4226932525634766, -8.058750040618179e-07, 1.4226939678192139]\n",
      "D(G): ['loss', 'D_loss', 'D_loss']\n",
      "[-68.41143798828125, -70.82169342041016, 2.4102771282196045]\n",
      "\n",
      "Epoch 11 / 100\n",
      "936/937 [============================>.] - ETA: 0s - D_is_fake_loss: -8.0590e-07 - D_class_loss: 1.4200 - D(G)_is_fake_loss: -69.6788 - D(G)_class_loss: 2.4079\n",
      "D: ['loss', 'output_is_fake_loss', 'output_class_loss']\n",
      "[1.4199883937835693, -8.058750040618179e-07, 1.4199891090393066]\n",
      "D(G): ['loss', 'D_loss', 'D_loss']\n",
      "[-67.2584457397461, -69.6659164428711, 2.407493829727173]\n",
      "\n",
      "Epoch 12 / 100\n",
      "936/937 [============================>.] - ETA: 0s - D_is_fake_loss: -8.0590e-07 - D_class_loss: 1.4196 - D(G)_is_fake_loss: -68.9267 - D(G)_class_loss: 2.4033\n",
      "D: ['loss', 'output_is_fake_loss', 'output_class_loss']\n",
      "[1.419666051864624, -8.058750040618179e-07, 1.41966712474823]\n",
      "D(G): ['loss', 'D_loss', 'D_loss']\n",
      "[-66.50623321533203, -68.90978240966797, 2.4036264419555664]\n",
      "\n",
      "Epoch 13 / 100\n",
      "936/937 [============================>.] - ETA: 0s - D_is_fake_loss: -8.0590e-07 - D_class_loss: 1.4177 - D(G)_is_fake_loss: -67.9043 - D(G)_class_loss: 2.3975  ETA: 14s - D_is_fake_loss: -\n",
      "D: ['loss', 'output_is_fake_loss', 'output_class_loss']\n",
      "[1.417738676071167, -8.058750040618179e-07, 1.4177392721176147]\n",
      "D(G): ['loss', 'D_loss', 'D_loss']\n",
      "[-65.49010467529297, -67.8878173828125, 2.3977773189544678]\n",
      "\n",
      "Epoch 14 / 100\n",
      "936/937 [============================>.] - ETA: 0s - D_is_fake_loss: -8.0590e-07 - D_class_loss: 1.4170 - D(G)_is_fake_loss: -67.3463 - D(G)_class_loss: 2.4022\n",
      "D: ['loss', 'output_is_fake_loss', 'output_class_loss']\n",
      "[1.4170451164245605, -8.058750040618179e-07, 1.4170459508895874]\n",
      "D(G): ['loss', 'D_loss', 'D_loss']\n",
      "[-64.9477310180664, -67.3498764038086, 2.402226448059082]\n",
      "\n",
      "Epoch 15 / 100\n",
      "936/937 [============================>.] - ETA: 0s - D_is_fake_loss: -8.0590e-07 - D_class_loss: 1.4179 - D(G)_is_fake_loss: -68.2038 - D(G)_class_loss: 2.4028  ETA: 13s - D_is_fake_loss: -8.0590e-07 - D_class_ - ETA: 1s - D_is_fake_loss: -8.0590e-07 - D_class_loss: 1.4181 - D(G)_is_fake_loss: -68.2357 - D(G)_class_loss\n",
      "D: ['loss', 'output_is_fake_loss', 'output_class_loss']\n",
      "[1.417910099029541, -8.058750040618179e-07, 1.4179106950759888]\n",
      "D(G): ['loss', 'D_loss', 'D_loss']\n",
      "[-65.77096557617188, -68.17356872558594, 2.402611494064331]\n",
      "\n",
      "Epoch 16 / 100\n",
      "936/937 [============================>.] - ETA: 0s - D_is_fake_loss: -8.0590e-07 - D_class_loss: 1.4180 - D(G)_is_fake_loss: -67.7145 - D(G)_class_loss: 2.4060- ETA: 1s - D_is_fake_loss: -8.0590e-07 - D_class_loss: 1.4181 - D(G)_is_fake_loss: -67.7158 - D(G)_class_loss: 2.\n",
      "D: ['loss', 'output_is_fake_loss', 'output_class_loss']\n",
      "[1.4180476665496826, -8.058750040618179e-07, 1.41804838180542]\n",
      "D(G): ['loss', 'D_loss', 'D_loss']\n",
      "[-65.31698608398438, -67.72284698486328, 2.4058103561401367]\n",
      "\n",
      "Epoch 17 / 100\n",
      "936/937 [============================>.] - ETA: 0s - D_is_fake_loss: -8.0590e-07 - D_class_loss: 1.4217 - D(G)_is_fake_loss: -70.0149 - D(G)_class_loss: 2.4099  ETA: 13s - D_is_fake_loss: -8.0590e-07 \n",
      "D: ['loss', 'output_is_fake_loss', 'output_class_loss']\n",
      "[1.421712875366211, -8.058750040618179e-07, 1.4217135906219482]\n",
      "D(G): ['loss', 'D_loss', 'D_loss']\n",
      "[-67.60003662109375, -70.01004791259766, 2.4100515842437744]\n",
      "\n",
      "Epoch 18 / 100\n",
      "936/937 [============================>.] - ETA: 0s - D_is_fake_loss: -8.0590e-07 - D_class_loss: 1.4217 - D(G)_is_fake_loss: -69.9438 - D(G)_class_loss: 2.4021\n",
      "D: ['loss', 'output_is_fake_loss', 'output_class_loss']\n",
      "[1.4217439889907837, -8.058750040618179e-07, 1.421744704246521]\n",
      "D(G): ['loss', 'D_loss', 'D_loss']\n",
      "[-67.53590393066406, -69.93814086914062, 2.402175188064575]\n",
      "\n",
      "Epoch 19 / 100\n",
      "936/937 [============================>.] - ETA: 0s - D_is_fake_loss: -8.0590e-07 - D_class_loss: 1.4213 - D(G)_is_fake_loss: -70.4191 - D(G)_class_loss: 2.4056\n",
      "D: ['loss', 'output_is_fake_loss', 'output_class_loss']\n",
      "[1.4213249683380127, -8.058750040618179e-07, 1.42132568359375]\n",
      "D(G): ['loss', 'D_loss', 'D_loss']\n",
      "[-68.00479888916016, -70.41024017333984, 2.4054906368255615]\n",
      "\n",
      "Epoch 20 / 100\n",
      "936/937 [============================>.] - ETA: 0s - D_is_fake_loss: -8.0590e-07 - D_class_loss: 1.4210 - D(G)_is_fake_loss: -70.3323 - D(G)_class_loss: 2.4047\n",
      "D: ['loss', 'output_is_fake_loss', 'output_class_loss']\n",
      "[1.4210176467895508, -8.058750040618179e-07, 1.4210186004638672]\n",
      "D(G): ['loss', 'D_loss', 'D_loss']\n",
      "[-67.91580963134766, -70.32073974609375, 2.4049158096313477]\n",
      "\n",
      "Epoch 21 / 100\n",
      "936/937 [============================>.] - ETA: 0s - D_is_fake_loss: -8.0590e-07 - D_class_loss: 1.4201 - D(G)_is_fake_loss: -69.8858 - D(G)_class_loss: 2.4051\n",
      "D: ['loss', 'output_is_fake_loss', 'output_class_loss']\n",
      "[1.420089602470398, -8.058750040618179e-07, 1.4200905561447144]\n",
      "D(G): ['loss', 'D_loss', 'D_loss']\n",
      "[-67.46702575683594, -69.87187957763672, 2.404848575592041]\n",
      "\n",
      "Epoch 22 / 100\n",
      "936/937 [============================>.] - ETA: 0s - D_is_fake_loss: -8.0590e-07 - D_class_loss: 1.4181 - D(G)_is_fake_loss: -69.1988 - D(G)_class_loss: 2.4037\n",
      "D: ['loss', 'output_is_fake_loss', 'output_class_loss']\n",
      "[1.4180912971496582, -8.058750040618179e-07, 1.4180920124053955]\n",
      "D(G): ['loss', 'D_loss', 'D_loss']\n",
      "[-66.78473663330078, -69.18852233886719, 2.403779983520508]\n",
      "\n",
      "Epoch 23 / 100\n"
     ]
    },
    {
     "name": "stdout",
     "output_type": "stream",
     "text": [
      "936/937 [============================>.] - ETA: 0s - D_is_fake_loss: -8.0590e-07 - D_class_loss: 1.3434 - D(G)_is_fake_loss: -68.4630 - D(G)_class_loss: 2.2252\n",
      "D: ['loss', 'output_is_fake_loss', 'output_class_loss']\n",
      "[1.3432836532592773, -8.058750040618179e-07, 1.3432843685150146]\n",
      "D(G): ['loss', 'D_loss', 'D_loss']\n",
      "[-66.21944427490234, -68.44280242919922, 2.2233645915985107]\n",
      "\n",
      "Epoch 33 / 100\n",
      "660/937 [====================>.........] - ETA: 59s - D_is_fake_loss: -8.0590e-07 - D_class_loss: 1.0080 - D(G)_is_fake_loss: -76.8669 - D(G)_class_loss: 1.4987"
     ]
    }
   ],
   "source": [
    "for epoch in range(EPOCHS):\n",
    "\n",
    "    print('\\nEpoch {} / {}'.format(epoch + 1, EPOCHS))\n",
    "\n",
    "    batches_num = int(train_num_samples / BATCH_SIZE)\n",
    "    progress_bar = Progbar(target=batches_num)\n",
    "\n",
    "    epoch_combined_losses = []\n",
    "    epoch_D_losses = []\n",
    "\n",
    "    for batch_i in range(batches_num):\n",
    "\n",
    "        if len(epoch_D_losses) + len(epoch_combined_losses) > 1:\n",
    "            progress_bar.update(\n",
    "                batch_i,\n",
    "                values=[\n",
    "                        ('D_is_fake_loss', np.mean(epoch_D_losses[-10:], axis=0)[1]),\n",
    "                        ('D_class_loss', np.mean(epoch_D_losses[-10:], axis=0)[2]),\n",
    "                        ('D(G)_is_fake_loss', np.mean(epoch_combined_losses[-10:], axis=0)[1]),\n",
    "                        ('D(G)_class_loss', np.mean(epoch_combined_losses[-10:], axis=0)[2]),   \n",
    "                ]\n",
    "            )\n",
    "        else:\n",
    "            progress_bar.update(batch_i)\n",
    "            \n",
    "        # 1: train D on real+generated images\n",
    "        \n",
    "        D.trainable = True\n",
    "        \n",
    "        for d_it in range(D_TRAIN_ITERATIONS):\n",
    "\n",
    "            # create batches of images and labels\n",
    "            real_images = X_train[batch_i * BATCH_SIZE:(batch_i + 1) * BATCH_SIZE]\n",
    "            real_images_classes = y_train[batch_i * BATCH_SIZE:(batch_i + 1) * BATCH_SIZE]\n",
    "\n",
    "            # new batch of z's\n",
    "            zz = np.random.normal(0., 1., (BATCH_SIZE, Z_SIZE))\n",
    "\n",
    "            # new batch of classes [0..9]\n",
    "            generated_classes = np.random.randint(0, 10, BATCH_SIZE)\n",
    "\n",
    "            generated_images = G.predict([zz, generated_classes.reshape(-1, 1)])\n",
    "\n",
    "            X = np.concatenate((real_images, generated_images))\n",
    "            y_is_fake = np.array([-1] * BATCH_SIZE + [1] * BATCH_SIZE) # [is_fake=-1xBATCH_SIZE, 1xBATCH_SIZE]\n",
    "            y_classes = np.concatenate((real_images_classes, generated_classes))\n",
    "\n",
    "            # train \n",
    "            D_losses = D.train_on_batch(X, [y_is_fake, y_classes])\n",
    "            epoch_D_losses.append(D_losses)\n",
    "\n",
    "            # clip D weights\n",
    "\n",
    "            for l in D.layers:\n",
    "                weights = l.get_weights()\n",
    "                weights = [np.clip(w, D_WEIGHTS_LOWER_BOUND, D_WEIGHTS_UPPER_BOUND) for w in weights]\n",
    "                l.set_weights(weights)\n",
    "        \n",
    "        \n",
    "        # 2: train D(G) (only G is trainable)\n",
    "        \n",
    "        D.trainable = False\n",
    "        \n",
    "        # xxx (2 * D_TRAIN_ITERATIONS) so G is trained for the same number of images\n",
    "        # xxx as D above (which is trained on real+generated)\n",
    "        zz = np.random.normal(0., 1.,  (BATCH_SIZE, Z_SIZE))\n",
    "        generated_classes = np.random.randint(0, 10, BATCH_SIZE)\n",
    "\n",
    "        y_is_fake = -np.ones(BATCH_SIZE) # all not-fake\n",
    "\n",
    "        combined_losses = combined.train_on_batch(\n",
    "            [zz, generated_classes.reshape((-1, 1))],\n",
    "            [y_is_fake, generated_classes])\n",
    "        \n",
    "        epoch_combined_losses.append(combined_losses)\n",
    "        \n",
    "    print('\\nD:', D.metrics_names)\n",
    "    print(np.mean(np.array(epoch_D_losses), axis=0).tolist())\n",
    "    \n",
    "    print('D(G):', combined.metrics_names)\n",
    "    print(np.mean(np.array(epoch_combined_losses), axis=0).tolist())\n",
    "    \n",
    "    save_generated_samples(epoch, G)"
   ]
  },
  {
   "cell_type": "code",
   "execution_count": null,
   "metadata": {
    "collapsed": true
   },
   "outputs": [],
   "source": [
    "# save_generated_samples(100, G)"
   ]
  },
  {
   "cell_type": "markdown",
   "metadata": {},
   "source": [
    "TODO:\n",
    "    - binary crossentropy loss for D is_fake\n",
    "    - detailed loss reporting"
   ]
  },
  {
   "cell_type": "code",
   "execution_count": null,
   "metadata": {
    "collapsed": true
   },
   "outputs": [],
   "source": []
  }
 ],
 "metadata": {
  "gist": {
   "data": {
    "description": "Keras  WACGAN",
    "public": false
   },
   "id": ""
  },
  "kernelspec": {
   "display_name": "Python 3",
   "language": "python",
   "name": "python3"
  },
  "language_info": {
   "codemirror_mode": {
    "name": "ipython",
    "version": 3
   },
   "file_extension": ".py",
   "mimetype": "text/x-python",
   "name": "python",
   "nbconvert_exporter": "python",
   "pygments_lexer": "ipython3",
   "version": "3.5.2"
  }
 },
 "nbformat": 4,
 "nbformat_minor": 2
}
